{
 "cells": [
  {
   "cell_type": "markdown",
   "metadata": {},
   "source": [
    "# ГИС\n",
    "\n",
    "<img src=\"http://yuml.me/diagram/usecase/ [Подрядчик]-(Проведение ГИС),\n",
    "[Подрядчик]-(Проектирование и бурение скважины),\n",
    "(Проектирование и бурение скважины)>(Cоздание файлов инклинометрии),\n",
    "(Проектирование и бурение скважины)>(Передача данных в КИП),\n",
    "(Проведение ГИС)>(Передача данных в КИП),\n",
    "(Проведение ГИС)>(Увязка каротажей)\" >\n",
    "\n",
    "<img src=\"http://yuml.me/diagram/usecase/ [Петрофизик]-(Создание отчета РИГИС),\n",
    "(Создание отчета РИГИС)>( Пропластка), (Создание отчета РИГИС)>(Расчет атирибутов)\" >"
   ]
  },
  {
   "cell_type": "markdown",
   "metadata": {},
   "source": [
    "### Полевая сейсмика\n",
    "\n",
    "<img src=\"http://yuml.me/diagram/usecase/ [Подрядчик]-(Раскладка профилей),\n",
    "[Подрядчик]-(Взрывные работы),\n",
    "(Раскладка профилей)>(Создание файлов SPS),\n",
    "(Взрывные работы)>(Создание файлов SEGD/SEGY)\" >\n",
    "\n",
    "<img src=\"http://yuml.me/diagram/usecase/ [Геолог]-(Суммирование сейсмограмм),\n",
    "(Суммирование сейсмограмм)>(Проверка корректности индексации трасс),\n",
    "(Суммирование сейсмограмм)>(Выбор расположения бинов),\n",
    "(Суммирование сейсмограмм)>(Миграция)\" >"
   ]
  }
 ],
 "metadata": {
  "kernelspec": {
   "display_name": "Python 3",
   "language": "python",
   "name": "python3"
  },
  "language_info": {
   "codemirror_mode": {
    "name": "ipython",
    "version": 3
   },
   "file_extension": ".py",
   "mimetype": "text/x-python",
   "name": "python",
   "nbconvert_exporter": "python",
   "pygments_lexer": "ipython3",
   "version": "3.6.5"
  }
 },
 "nbformat": 4,
 "nbformat_minor": 2
}
