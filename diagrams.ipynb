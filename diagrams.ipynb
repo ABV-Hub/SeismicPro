{
 "cells": [
  {
   "cell_type": "markdown",
   "metadata": {},
   "source": [
    "<img src=\"https://yuml.me/diagram/usecase/%20[%D0%9F%D0%BE%D0%B4%D1%80%D1%8F%D0%B4%D1%87%D0%B8%D0%BA]-(%D0%9F%D1%80%D0%BE%D0%B2%D0%B5%D0%B4%D0%B5%D0%BD%D0%B8%D0%B5%20%D0%93%D0%98%D0%A1),%20[%D0%9F%D0%BE%D0%B4%D1%80%D1%8F%D0%B4%D1%87%D0%B8%D0%BA]-(%D0%9F%D1%80%D0%BE%D0%B5%D0%BA%D1%82%D0%B8%D1%80%D0%BE%D0%B2%D0%B0%D0%BD%D0%B8%D0%B5%20%D0%B8%20%D0%B1%D1%83%D1%80%D0%B5%D0%BD%D0%B8%D0%B5%20%D1%81%D0%BA%D0%B2%D0%B0%D0%B6%D0%B8%D0%BD%D1%8B),%20(%D0%9F%D1%80%D0%BE%D0%B5%D0%BA%D1%82%D0%B8%D1%80%D0%BE%D0%B2%D0%B0%D0%BD%D0%B8%D0%B5%20%D0%B8%20%D0%B1%D1%83%D1%80%D0%B5%D0%BD%D0%B8%D0%B5%20%D1%81%D0%BA%D0%B2%D0%B0%D0%B6%D0%B8%D0%BD%D1%8B)%3E(C%D0%BE%D0%B7%D0%B4%D0%B0%D0%BD%D0%B8%D0%B5%20%D1%84%D0%B0%D0%B9%D0%BB%D0%BE%D0%B2%20%D0%B8%D0%BD%D0%BA%D0%BB%D0%B8%D0%BD%D0%BE%D0%BC%D0%B5%D1%82%D1%80%D0%B8%D0%B8),%20(%D0%9F%D1%80%D0%BE%D0%B5%D0%BA%D1%82%D0%B8%D1%80%D0%BE%D0%B2%D0%B0%D0%BD%D0%B8%D0%B5%20%D0%B8%20%D0%B1%D1%83%D1%80%D0%B5%D0%BD%D0%B8%D0%B5%20%D1%81%D0%BA%D0%B2%D0%B0%D0%B6%D0%B8%D0%BD%D1%8B)%3E(%D0%9F%D0%B5%D1%80%D0%B5%D0%B4%D0%B0%D1%87%D0%B0%20%D0%B4%D0%B0%D0%BD%D0%BD%D1%8B%D1%85%20%D0%B2%20%D0%9A%D0%98%D0%9F),%20(%D0%9F%D1%80%D0%BE%D0%B2%D0%B5%D0%B4%D0%B5%D0%BD%D0%B8%D0%B5%20%D0%93%D0%98%D0%A1)%3E(%D0%9F%D0%B5%D1%80%D0%B5%D0%B4%D0%B0%D1%87%D0%B0%20%D0%B4%D0%B0%D0%BD%D0%BD%D1%8B%D1%85%20%D0%B2%20%D0%9A%D0%98%D0%9F),%20(%D0%9F%D1%80%D0%BE%D0%B2%D0%B5%D0%B4%D0%B5%D0%BD%D0%B8%D0%B5%20%D0%93%D0%98%D0%A1)%3E(%D0%A3%D0%B2%D1%8F%D0%B7%D0%BA%D0%B0%20%D0%BA%D0%B0%D1%80%D0%BE%D1%82%D0%B0%D0%B6%D0%B5%D0%B9)\" >"
   ]
  },
  {
   "cell_type": "markdown",
   "metadata": {},
   "source": [
    "### ГИС\n",
    "\n",
    "<img src=\"http://yuml.me/diagram/usecase/ [Подрядчик]-(Проведение ГИС),\n",
    "[Подрядчик]-(Проектирование и бурение скважины),\n",
    "(Проектирование и бурение скважины)>(Cоздание файлов инклинометрии),\n",
    "(Проектирование и бурение скважины)>(Передача данных в КИП),\n",
    "(Проведение ГИС)>(Передача данных в КИП),\n",
    "(Проведение ГИС)>(Увязка каротажей)\" >\n",
    "\n",
    "<img src=\"http://yuml.me/diagram/usecase/ [Петрофизик]-(Создание отчета РИГИС),\n",
    "(Создание отчета РИГИС)>( Пропластка), (Создание отчета РИГИС)>(Расчет атирибутов)\" >"
   ]
  },
  {
   "cell_type": "markdown",
   "metadata": {},
   "source": [
    "### Полевая сейсмика\n",
    "\n",
    "<img src=\"http://yuml.me/diagram/usecase/ [Подрядчик]-(Раскладка профилей),\n",
    "[Подрядчик]-(Взрывные работы),\n",
    "(Раскладка профилей)>(Создание файлов SPS),\n",
    "(Взрывные работы)>(Создание файлов SEGD/SEGY)\" >\n",
    "\n",
    "<img src=\"http://yuml.me/diagram/usecase/ [Геолог]-(Суммирование сейсмограмм),\n",
    "(Суммирование сейсмограмм)>(Проверка корректности индексации трасс),\n",
    "(Суммирование сейсмограмм)>(Выбор расположения бинов),\n",
    "(Суммирование сейсмограмм)>(Миграция)\" >"
   ]
  }
 ],
 "metadata": {
  "kernelspec": {
   "display_name": "Python 3",
   "language": "python",
   "name": "python3"
  },
  "language_info": {
   "codemirror_mode": {
    "name": "ipython",
    "version": 3
   },
   "file_extension": ".py",
   "mimetype": "text/x-python",
   "name": "python",
   "nbconvert_exporter": "python",
   "pygments_lexer": "ipython3",
   "version": "3.6.5"
  }
 },
 "nbformat": 4,
 "nbformat_minor": 2
}
