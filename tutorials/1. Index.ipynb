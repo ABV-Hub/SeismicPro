{
 "cells": [
  {
   "cell_type": "markdown",
   "metadata": {},
   "source": [
    "# Working with index"
   ]
  },
  {
   "cell_type": "markdown",
   "metadata": {},
   "source": [
    "## Content\n",
    "* [Index types](#Index-types)\n",
    "* [How to create an index](#How-to-create-an-index)\n",
    "    * [from SEGY files](#from-SEGY-files)\n",
    "    * [from SPS files](#from-SPS-files)\n",
    "* [Conversion between types](#Conversion-between-types)\n",
    "* [Merge](#Merge)"
   ]
  },
  {
   "cell_type": "markdown",
   "metadata": {},
   "source": [
    "## Index types"
   ]
  },
  {
   "cell_type": "markdown",
   "metadata": {},
   "source": [
    "There are 5 basic types of indices:\n",
    "* ```TraceIndex``` enumerates individual traces\n",
    "* ```FieldIndex``` enumerates field records\n",
    "* ```SegyFilesIndex``` enumerates SEGY files\n",
    "* ```BinsIndex``` enumerated bins of regular grid\n",
    "* ```KNNIndex``` enumerated groups of k nearest traces\n",
    "\n",
    "and ```CustomIndex``` that enables enumeration on a basis of any ```segyio.TraceField``` attribute, e.g. ```INLINE_3D``` or ```ShotPoint```.\n",
    "\n",
    "There is an easy convertion between index types. Let ```index``` be an instance of some intex type, then  ```FieldIndex(index)``` will be an instance of type ```FieldIndex```, while ```TraceIndex(index)``` will be an instance of type ```TraceIndex``` etc.\n",
    "\n",
    "Index can be created from a single SEGY file, from multiple SEGY files and from SPS files. Index can be merged with another one index. Below we illustrate these options. "
   ]
  },
  {
   "cell_type": "markdown",
   "metadata": {},
   "source": [
    "## How to create an index"
   ]
  },
  {
   "cell_type": "markdown",
   "metadata": {},
   "source": [
    "### from SEGY files"
   ]
  },
  {
   "cell_type": "markdown",
   "metadata": {},
   "source": [
    "We start with a single SEGY file and create a ```TraceIndex```. It requieres path to the file and name that we will assosiate with traces:   "
   ]
  },
  {
   "cell_type": "code",
   "execution_count": 1,
   "metadata": {},
   "outputs": [],
   "source": [
    "import sys\n",
    "import pandas as pd\n",
    "import numpy as np\n",
    "\n",
    "sys.path.append('..')\n",
    "from geolog.src import (FieldIndex, TraceIndex, SegyFilesIndex, BinsIndex,\n",
    "                        CustomIndex, KNNIndex, SeismicBatch)\n",
    "from geolog.batchflow import Dataset\n",
    "\n",
    "path_raw = '/notebooks/egor/noise_data/DN02A_LIFT_AMPSCAL.sgy'\n",
    "index_trace = TraceIndex(name='raw', path=path_raw)"
   ]
  },
  {
   "cell_type": "markdown",
   "metadata": {},
   "source": [
    "```head()``` shows 5 first traces (similar to pandas):"
   ]
  },
  {
   "cell_type": "code",
   "execution_count": 2,
   "metadata": {},
   "outputs": [
    {
     "data": {
      "text/html": [
       "<div>\n",
       "<style scoped>\n",
       "    .dataframe tbody tr th:only-of-type {\n",
       "        vertical-align: middle;\n",
       "    }\n",
       "\n",
       "    .dataframe tbody tr th {\n",
       "        vertical-align: top;\n",
       "    }\n",
       "\n",
       "    .dataframe thead tr th {\n",
       "        text-align: left;\n",
       "    }\n",
       "</style>\n",
       "<table border=\"1\" class=\"dataframe\">\n",
       "  <thead>\n",
       "    <tr>\n",
       "      <th></th>\n",
       "      <th>TraceNumber</th>\n",
       "      <th>FieldRecord</th>\n",
       "      <th>TRACE_SEQUENCE_FILE</th>\n",
       "      <th>file_id</th>\n",
       "    </tr>\n",
       "    <tr>\n",
       "      <th></th>\n",
       "      <th></th>\n",
       "      <th></th>\n",
       "      <th>raw</th>\n",
       "      <th>raw</th>\n",
       "    </tr>\n",
       "  </thead>\n",
       "  <tbody>\n",
       "    <tr>\n",
       "      <th>0</th>\n",
       "      <td>1656</td>\n",
       "      <td>111906</td>\n",
       "      <td>1</td>\n",
       "      <td>/notebooks/egor/noise_data/DN02A_LIFT_AMPSCAL.sgy</td>\n",
       "    </tr>\n",
       "    <tr>\n",
       "      <th>1</th>\n",
       "      <td>1657</td>\n",
       "      <td>111906</td>\n",
       "      <td>2</td>\n",
       "      <td>/notebooks/egor/noise_data/DN02A_LIFT_AMPSCAL.sgy</td>\n",
       "    </tr>\n",
       "    <tr>\n",
       "      <th>2</th>\n",
       "      <td>1655</td>\n",
       "      <td>111906</td>\n",
       "      <td>3</td>\n",
       "      <td>/notebooks/egor/noise_data/DN02A_LIFT_AMPSCAL.sgy</td>\n",
       "    </tr>\n",
       "    <tr>\n",
       "      <th>3</th>\n",
       "      <td>1658</td>\n",
       "      <td>111906</td>\n",
       "      <td>4</td>\n",
       "      <td>/notebooks/egor/noise_data/DN02A_LIFT_AMPSCAL.sgy</td>\n",
       "    </tr>\n",
       "    <tr>\n",
       "      <th>4</th>\n",
       "      <td>1654</td>\n",
       "      <td>111906</td>\n",
       "      <td>5</td>\n",
       "      <td>/notebooks/egor/noise_data/DN02A_LIFT_AMPSCAL.sgy</td>\n",
       "    </tr>\n",
       "  </tbody>\n",
       "</table>\n",
       "</div>"
      ],
      "text/plain": [
       "  TraceNumber FieldRecord TRACE_SEQUENCE_FILE  \\\n",
       "                                          raw   \n",
       "0        1656      111906                   1   \n",
       "1        1657      111906                   2   \n",
       "2        1655      111906                   3   \n",
       "3        1658      111906                   4   \n",
       "4        1654      111906                   5   \n",
       "\n",
       "                                             file_id  \n",
       "                                                 raw  \n",
       "0  /notebooks/egor/noise_data/DN02A_LIFT_AMPSCAL.sgy  \n",
       "1  /notebooks/egor/noise_data/DN02A_LIFT_AMPSCAL.sgy  \n",
       "2  /notebooks/egor/noise_data/DN02A_LIFT_AMPSCAL.sgy  \n",
       "3  /notebooks/egor/noise_data/DN02A_LIFT_AMPSCAL.sgy  \n",
       "4  /notebooks/egor/noise_data/DN02A_LIFT_AMPSCAL.sgy  "
      ]
     },
     "execution_count": 2,
     "metadata": {},
     "output_type": "execute_result"
    }
   ],
   "source": [
    "index_trace.head()"
   ]
  },
  {
   "cell_type": "markdown",
   "metadata": {},
   "source": [
    "Note the index contains columns ```TraceNumber``` and ```FieldRecord``` that uniquely define seismic traces. ```TRACE_SEQUENCE_FILE``` gives a trace location within the file. To include more columns , use ```extra_headers``` argument (or set ```extra_headers='all'``` to include all available headers):"
   ]
  },
  {
   "cell_type": "code",
   "execution_count": 3,
   "metadata": {},
   "outputs": [
    {
     "data": {
      "text/html": [
       "<div>\n",
       "<style scoped>\n",
       "    .dataframe tbody tr th:only-of-type {\n",
       "        vertical-align: middle;\n",
       "    }\n",
       "\n",
       "    .dataframe tbody tr th {\n",
       "        vertical-align: top;\n",
       "    }\n",
       "\n",
       "    .dataframe thead tr th {\n",
       "        text-align: left;\n",
       "    }\n",
       "</style>\n",
       "<table border=\"1\" class=\"dataframe\">\n",
       "  <thead>\n",
       "    <tr>\n",
       "      <th></th>\n",
       "      <th>offset</th>\n",
       "      <th>TraceNumber</th>\n",
       "      <th>FieldRecord</th>\n",
       "      <th>ShotPoint</th>\n",
       "      <th>TRACE_SEQUENCE_FILE</th>\n",
       "      <th>file_id</th>\n",
       "    </tr>\n",
       "    <tr>\n",
       "      <th></th>\n",
       "      <th></th>\n",
       "      <th></th>\n",
       "      <th></th>\n",
       "      <th></th>\n",
       "      <th>raw</th>\n",
       "      <th>raw</th>\n",
       "    </tr>\n",
       "  </thead>\n",
       "  <tbody>\n",
       "    <tr>\n",
       "      <th>0</th>\n",
       "      <td>35</td>\n",
       "      <td>1656</td>\n",
       "      <td>111906</td>\n",
       "      <td>42000</td>\n",
       "      <td>1</td>\n",
       "      <td>/notebooks/egor/noise_data/DN02A_LIFT_AMPSCAL.sgy</td>\n",
       "    </tr>\n",
       "    <tr>\n",
       "      <th>1</th>\n",
       "      <td>36</td>\n",
       "      <td>1657</td>\n",
       "      <td>111906</td>\n",
       "      <td>42000</td>\n",
       "      <td>2</td>\n",
       "      <td>/notebooks/egor/noise_data/DN02A_LIFT_AMPSCAL.sgy</td>\n",
       "    </tr>\n",
       "    <tr>\n",
       "      <th>2</th>\n",
       "      <td>78</td>\n",
       "      <td>1655</td>\n",
       "      <td>111906</td>\n",
       "      <td>42000</td>\n",
       "      <td>3</td>\n",
       "      <td>/notebooks/egor/noise_data/DN02A_LIFT_AMPSCAL.sgy</td>\n",
       "    </tr>\n",
       "    <tr>\n",
       "      <th>3</th>\n",
       "      <td>79</td>\n",
       "      <td>1658</td>\n",
       "      <td>111906</td>\n",
       "      <td>42000</td>\n",
       "      <td>4</td>\n",
       "      <td>/notebooks/egor/noise_data/DN02A_LIFT_AMPSCAL.sgy</td>\n",
       "    </tr>\n",
       "    <tr>\n",
       "      <th>4</th>\n",
       "      <td>127</td>\n",
       "      <td>1654</td>\n",
       "      <td>111906</td>\n",
       "      <td>42000</td>\n",
       "      <td>5</td>\n",
       "      <td>/notebooks/egor/noise_data/DN02A_LIFT_AMPSCAL.sgy</td>\n",
       "    </tr>\n",
       "  </tbody>\n",
       "</table>\n",
       "</div>"
      ],
      "text/plain": [
       "  offset TraceNumber FieldRecord ShotPoint TRACE_SEQUENCE_FILE  \\\n",
       "                                                           raw   \n",
       "0     35        1656      111906     42000                   1   \n",
       "1     36        1657      111906     42000                   2   \n",
       "2     78        1655      111906     42000                   3   \n",
       "3     79        1658      111906     42000                   4   \n",
       "4    127        1654      111906     42000                   5   \n",
       "\n",
       "                                             file_id  \n",
       "                                                 raw  \n",
       "0  /notebooks/egor/noise_data/DN02A_LIFT_AMPSCAL.sgy  \n",
       "1  /notebooks/egor/noise_data/DN02A_LIFT_AMPSCAL.sgy  \n",
       "2  /notebooks/egor/noise_data/DN02A_LIFT_AMPSCAL.sgy  \n",
       "3  /notebooks/egor/noise_data/DN02A_LIFT_AMPSCAL.sgy  \n",
       "4  /notebooks/egor/noise_data/DN02A_LIFT_AMPSCAL.sgy  "
      ]
     },
     "execution_count": 3,
     "metadata": {},
     "output_type": "execute_result"
    }
   ],
   "source": [
    "index_trace = TraceIndex(name='raw', path=path_raw, extra_headers=['ShotPoint', 'offset'])\n",
    "index_trace.head()"
   ]
  },
  {
   "cell_type": "markdown",
   "metadata": {},
   "source": [
    "In the next example we will create an index of field records from a set of SEGY files:"
   ]
  },
  {
   "cell_type": "code",
   "execution_count": 4,
   "metadata": {},
   "outputs": [
    {
     "data": {
      "text/html": [
       "<div>\n",
       "<style scoped>\n",
       "    .dataframe tbody tr th:only-of-type {\n",
       "        vertical-align: middle;\n",
       "    }\n",
       "\n",
       "    .dataframe tbody tr th {\n",
       "        vertical-align: top;\n",
       "    }\n",
       "\n",
       "    .dataframe thead tr th {\n",
       "        text-align: left;\n",
       "    }\n",
       "\n",
       "    .dataframe thead tr:last-of-type th {\n",
       "        text-align: right;\n",
       "    }\n",
       "</style>\n",
       "<table border=\"1\" class=\"dataframe\">\n",
       "  <thead>\n",
       "    <tr>\n",
       "      <th></th>\n",
       "      <th>TraceNumber</th>\n",
       "      <th>TRACE_SEQUENCE_FILE</th>\n",
       "      <th>file_id</th>\n",
       "    </tr>\n",
       "    <tr>\n",
       "      <th></th>\n",
       "      <th></th>\n",
       "      <th>raw</th>\n",
       "      <th>raw</th>\n",
       "    </tr>\n",
       "    <tr>\n",
       "      <th>FieldRecord</th>\n",
       "      <th></th>\n",
       "      <th></th>\n",
       "      <th></th>\n",
       "    </tr>\n",
       "  </thead>\n",
       "  <tbody>\n",
       "    <tr>\n",
       "      <th>354</th>\n",
       "      <td>1</td>\n",
       "      <td>1</td>\n",
       "      <td>/notebooks/egor/2D_Valyton/prof_37/segy/000003...</td>\n",
       "    </tr>\n",
       "    <tr>\n",
       "      <th>354</th>\n",
       "      <td>2</td>\n",
       "      <td>2</td>\n",
       "      <td>/notebooks/egor/2D_Valyton/prof_37/segy/000003...</td>\n",
       "    </tr>\n",
       "    <tr>\n",
       "      <th>354</th>\n",
       "      <td>1</td>\n",
       "      <td>3</td>\n",
       "      <td>/notebooks/egor/2D_Valyton/prof_37/segy/000003...</td>\n",
       "    </tr>\n",
       "    <tr>\n",
       "      <th>354</th>\n",
       "      <td>2</td>\n",
       "      <td>4</td>\n",
       "      <td>/notebooks/egor/2D_Valyton/prof_37/segy/000003...</td>\n",
       "    </tr>\n",
       "    <tr>\n",
       "      <th>354</th>\n",
       "      <td>3</td>\n",
       "      <td>5</td>\n",
       "      <td>/notebooks/egor/2D_Valyton/prof_37/segy/000003...</td>\n",
       "    </tr>\n",
       "  </tbody>\n",
       "</table>\n",
       "</div>"
      ],
      "text/plain": [
       "            TraceNumber TRACE_SEQUENCE_FILE  \\\n",
       "                                        raw   \n",
       "FieldRecord                                   \n",
       "354                   1                   1   \n",
       "354                   2                   2   \n",
       "354                   1                   3   \n",
       "354                   2                   4   \n",
       "354                   3                   5   \n",
       "\n",
       "                                                       file_id  \n",
       "                                                           raw  \n",
       "FieldRecord                                                     \n",
       "354          /notebooks/egor/2D_Valyton/prof_37/segy/000003...  \n",
       "354          /notebooks/egor/2D_Valyton/prof_37/segy/000003...  \n",
       "354          /notebooks/egor/2D_Valyton/prof_37/segy/000003...  \n",
       "354          /notebooks/egor/2D_Valyton/prof_37/segy/000003...  \n",
       "354          /notebooks/egor/2D_Valyton/prof_37/segy/000003...  "
      ]
     },
     "execution_count": 4,
     "metadata": {},
     "output_type": "execute_result"
    }
   ],
   "source": [
    "index_ffid = FieldIndex(name='raw', path='/notebooks/egor/2D_Valyton/prof_37/segy/*.sgy')         \n",
    "index_ffid.head()"
   ]
  },
  {
   "cell_type": "markdown",
   "metadata": {},
   "source": [
    "Note that SEGY files contain auxiliary traces and we obtain duplicated (FieldRecord, TraceNumber) pairs in the index. This can be checked with ```duplicated``` method:"
   ]
  },
  {
   "cell_type": "code",
   "execution_count": 5,
   "metadata": {},
   "outputs": [
    {
     "data": {
      "text/plain": [
       "True"
      ]
     },
     "execution_count": 5,
     "metadata": {},
     "output_type": "execute_result"
    }
   ],
   "source": [
    "np.any(index_ffid.duplicated())"
   ]
  },
  {
   "cell_type": "markdown",
   "metadata": {},
   "source": [
    "Method ```drop_duplicated``` helps to remove auxiliary traces:"
   ]
  },
  {
   "cell_type": "code",
   "execution_count": 6,
   "metadata": {},
   "outputs": [
    {
     "data": {
      "text/html": [
       "<div>\n",
       "<style scoped>\n",
       "    .dataframe tbody tr th:only-of-type {\n",
       "        vertical-align: middle;\n",
       "    }\n",
       "\n",
       "    .dataframe tbody tr th {\n",
       "        vertical-align: top;\n",
       "    }\n",
       "\n",
       "    .dataframe thead tr th {\n",
       "        text-align: left;\n",
       "    }\n",
       "\n",
       "    .dataframe thead tr:last-of-type th {\n",
       "        text-align: right;\n",
       "    }\n",
       "</style>\n",
       "<table border=\"1\" class=\"dataframe\">\n",
       "  <thead>\n",
       "    <tr>\n",
       "      <th></th>\n",
       "      <th>TraceNumber</th>\n",
       "      <th>TRACE_SEQUENCE_FILE</th>\n",
       "      <th>file_id</th>\n",
       "    </tr>\n",
       "    <tr>\n",
       "      <th></th>\n",
       "      <th></th>\n",
       "      <th>raw</th>\n",
       "      <th>raw</th>\n",
       "    </tr>\n",
       "    <tr>\n",
       "      <th>FieldRecord</th>\n",
       "      <th></th>\n",
       "      <th></th>\n",
       "      <th></th>\n",
       "    </tr>\n",
       "  </thead>\n",
       "  <tbody>\n",
       "    <tr>\n",
       "      <th>354</th>\n",
       "      <td>1</td>\n",
       "      <td>3</td>\n",
       "      <td>/notebooks/egor/2D_Valyton/prof_37/segy/000003...</td>\n",
       "    </tr>\n",
       "    <tr>\n",
       "      <th>354</th>\n",
       "      <td>2</td>\n",
       "      <td>4</td>\n",
       "      <td>/notebooks/egor/2D_Valyton/prof_37/segy/000003...</td>\n",
       "    </tr>\n",
       "    <tr>\n",
       "      <th>354</th>\n",
       "      <td>3</td>\n",
       "      <td>5</td>\n",
       "      <td>/notebooks/egor/2D_Valyton/prof_37/segy/000003...</td>\n",
       "    </tr>\n",
       "    <tr>\n",
       "      <th>354</th>\n",
       "      <td>4</td>\n",
       "      <td>6</td>\n",
       "      <td>/notebooks/egor/2D_Valyton/prof_37/segy/000003...</td>\n",
       "    </tr>\n",
       "    <tr>\n",
       "      <th>354</th>\n",
       "      <td>5</td>\n",
       "      <td>7</td>\n",
       "      <td>/notebooks/egor/2D_Valyton/prof_37/segy/000003...</td>\n",
       "    </tr>\n",
       "  </tbody>\n",
       "</table>\n",
       "</div>"
      ],
      "text/plain": [
       "            TraceNumber TRACE_SEQUENCE_FILE  \\\n",
       "                                        raw   \n",
       "FieldRecord                                   \n",
       "354                   1                   3   \n",
       "354                   2                   4   \n",
       "354                   3                   5   \n",
       "354                   4                   6   \n",
       "354                   5                   7   \n",
       "\n",
       "                                                       file_id  \n",
       "                                                           raw  \n",
       "FieldRecord                                                     \n",
       "354          /notebooks/egor/2D_Valyton/prof_37/segy/000003...  \n",
       "354          /notebooks/egor/2D_Valyton/prof_37/segy/000003...  \n",
       "354          /notebooks/egor/2D_Valyton/prof_37/segy/000003...  \n",
       "354          /notebooks/egor/2D_Valyton/prof_37/segy/000003...  \n",
       "354          /notebooks/egor/2D_Valyton/prof_37/segy/000003...  "
      ]
     },
     "execution_count": 6,
     "metadata": {},
     "output_type": "execute_result"
    }
   ],
   "source": [
    "index_ffid = index_ffid.drop_duplicates(keep='last')\n",
    "index_ffid.head()"
   ]
  },
  {
   "cell_type": "markdown",
   "metadata": {},
   "source": [
    "If we assume iteration over files, we create a ```SegyFilesIndex``` in a similar way:"
   ]
  },
  {
   "cell_type": "code",
   "execution_count": 7,
   "metadata": {},
   "outputs": [
    {
     "data": {
      "text/html": [
       "<div>\n",
       "<style scoped>\n",
       "    .dataframe tbody tr th:only-of-type {\n",
       "        vertical-align: middle;\n",
       "    }\n",
       "\n",
       "    .dataframe tbody tr th {\n",
       "        vertical-align: top;\n",
       "    }\n",
       "\n",
       "    .dataframe thead tr th {\n",
       "        text-align: left;\n",
       "    }\n",
       "\n",
       "    .dataframe thead tr:last-of-type th {\n",
       "        text-align: right;\n",
       "    }\n",
       "</style>\n",
       "<table border=\"1\" class=\"dataframe\">\n",
       "  <thead>\n",
       "    <tr>\n",
       "      <th></th>\n",
       "      <th>TraceNumber</th>\n",
       "      <th>FieldRecord</th>\n",
       "      <th>TRACE_SEQUENCE_FILE</th>\n",
       "    </tr>\n",
       "    <tr>\n",
       "      <th></th>\n",
       "      <th></th>\n",
       "      <th></th>\n",
       "      <th>raw</th>\n",
       "    </tr>\n",
       "    <tr>\n",
       "      <th>(file_id, raw)</th>\n",
       "      <th></th>\n",
       "      <th></th>\n",
       "      <th></th>\n",
       "    </tr>\n",
       "  </thead>\n",
       "  <tbody>\n",
       "    <tr>\n",
       "      <th>/notebooks/egor/2D_Valyton/prof_37/segy/00000354_f1.r354.sgy</th>\n",
       "      <td>1</td>\n",
       "      <td>354</td>\n",
       "      <td>1</td>\n",
       "    </tr>\n",
       "    <tr>\n",
       "      <th>/notebooks/egor/2D_Valyton/prof_37/segy/00000354_f1.r354.sgy</th>\n",
       "      <td>2</td>\n",
       "      <td>354</td>\n",
       "      <td>2</td>\n",
       "    </tr>\n",
       "    <tr>\n",
       "      <th>/notebooks/egor/2D_Valyton/prof_37/segy/00000354_f1.r354.sgy</th>\n",
       "      <td>1</td>\n",
       "      <td>354</td>\n",
       "      <td>3</td>\n",
       "    </tr>\n",
       "    <tr>\n",
       "      <th>/notebooks/egor/2D_Valyton/prof_37/segy/00000354_f1.r354.sgy</th>\n",
       "      <td>2</td>\n",
       "      <td>354</td>\n",
       "      <td>4</td>\n",
       "    </tr>\n",
       "    <tr>\n",
       "      <th>/notebooks/egor/2D_Valyton/prof_37/segy/00000354_f1.r354.sgy</th>\n",
       "      <td>3</td>\n",
       "      <td>354</td>\n",
       "      <td>5</td>\n",
       "    </tr>\n",
       "  </tbody>\n",
       "</table>\n",
       "</div>"
      ],
      "text/plain": [
       "                                                   TraceNumber FieldRecord  \\\n",
       "                                                                             \n",
       "(file_id, raw)                                                               \n",
       "/notebooks/egor/2D_Valyton/prof_37/segy/0000035...           1         354   \n",
       "/notebooks/egor/2D_Valyton/prof_37/segy/0000035...           2         354   \n",
       "/notebooks/egor/2D_Valyton/prof_37/segy/0000035...           1         354   \n",
       "/notebooks/egor/2D_Valyton/prof_37/segy/0000035...           2         354   \n",
       "/notebooks/egor/2D_Valyton/prof_37/segy/0000035...           3         354   \n",
       "\n",
       "                                                   TRACE_SEQUENCE_FILE  \n",
       "                                                                   raw  \n",
       "(file_id, raw)                                                          \n",
       "/notebooks/egor/2D_Valyton/prof_37/segy/0000035...                   1  \n",
       "/notebooks/egor/2D_Valyton/prof_37/segy/0000035...                   2  \n",
       "/notebooks/egor/2D_Valyton/prof_37/segy/0000035...                   3  \n",
       "/notebooks/egor/2D_Valyton/prof_37/segy/0000035...                   4  \n",
       "/notebooks/egor/2D_Valyton/prof_37/segy/0000035...                   5  "
      ]
     },
     "execution_count": 7,
     "metadata": {},
     "output_type": "execute_result"
    }
   ],
   "source": [
    "index_files = SegyFilesIndex(name='raw', path='/notebooks/egor/2D_Valyton/prof_37/segy/*.sgy')          \n",
    "index_files.head()"
   ]
  },
  {
   "cell_type": "markdown",
   "metadata": {},
   "source": [
    "To make things more flexible, there is a ```CustomIndex``` that allows iteration by any ```segyio.TraceField``` attribute, e.g. ```INLINE_3D```, ```ShotPoint```, ```CDP``` etc. For example, let's create an index of shot points:"
   ]
  },
  {
   "cell_type": "code",
   "execution_count": 8,
   "metadata": {},
   "outputs": [
    {
     "data": {
      "text/html": [
       "<div>\n",
       "<style scoped>\n",
       "    .dataframe tbody tr th:only-of-type {\n",
       "        vertical-align: middle;\n",
       "    }\n",
       "\n",
       "    .dataframe tbody tr th {\n",
       "        vertical-align: top;\n",
       "    }\n",
       "\n",
       "    .dataframe thead tr th {\n",
       "        text-align: left;\n",
       "    }\n",
       "\n",
       "    .dataframe thead tr:last-of-type th {\n",
       "        text-align: right;\n",
       "    }\n",
       "</style>\n",
       "<table border=\"1\" class=\"dataframe\">\n",
       "  <thead>\n",
       "    <tr>\n",
       "      <th></th>\n",
       "      <th>TraceNumber</th>\n",
       "      <th>FieldRecord</th>\n",
       "      <th>TRACE_SEQUENCE_FILE</th>\n",
       "      <th>file_id</th>\n",
       "    </tr>\n",
       "    <tr>\n",
       "      <th></th>\n",
       "      <th></th>\n",
       "      <th></th>\n",
       "      <th>raw</th>\n",
       "      <th>raw</th>\n",
       "    </tr>\n",
       "    <tr>\n",
       "      <th>ShotPoint</th>\n",
       "      <th></th>\n",
       "      <th></th>\n",
       "      <th></th>\n",
       "      <th></th>\n",
       "    </tr>\n",
       "  </thead>\n",
       "  <tbody>\n",
       "    <tr>\n",
       "      <th>42000</th>\n",
       "      <td>1656</td>\n",
       "      <td>111906</td>\n",
       "      <td>1</td>\n",
       "      <td>/notebooks/egor/noise_data/DN02A_LIFT_AMPSCAL.sgy</td>\n",
       "    </tr>\n",
       "    <tr>\n",
       "      <th>42000</th>\n",
       "      <td>1657</td>\n",
       "      <td>111906</td>\n",
       "      <td>2</td>\n",
       "      <td>/notebooks/egor/noise_data/DN02A_LIFT_AMPSCAL.sgy</td>\n",
       "    </tr>\n",
       "    <tr>\n",
       "      <th>42000</th>\n",
       "      <td>1655</td>\n",
       "      <td>111906</td>\n",
       "      <td>3</td>\n",
       "      <td>/notebooks/egor/noise_data/DN02A_LIFT_AMPSCAL.sgy</td>\n",
       "    </tr>\n",
       "    <tr>\n",
       "      <th>42000</th>\n",
       "      <td>1658</td>\n",
       "      <td>111906</td>\n",
       "      <td>4</td>\n",
       "      <td>/notebooks/egor/noise_data/DN02A_LIFT_AMPSCAL.sgy</td>\n",
       "    </tr>\n",
       "    <tr>\n",
       "      <th>42000</th>\n",
       "      <td>1654</td>\n",
       "      <td>111906</td>\n",
       "      <td>5</td>\n",
       "      <td>/notebooks/egor/noise_data/DN02A_LIFT_AMPSCAL.sgy</td>\n",
       "    </tr>\n",
       "  </tbody>\n",
       "</table>\n",
       "</div>"
      ],
      "text/plain": [
       "          TraceNumber FieldRecord TRACE_SEQUENCE_FILE  \\\n",
       "                                                  raw   \n",
       "ShotPoint                                               \n",
       "42000            1656      111906                   1   \n",
       "42000            1657      111906                   2   \n",
       "42000            1655      111906                   3   \n",
       "42000            1658      111906                   4   \n",
       "42000            1654      111906                   5   \n",
       "\n",
       "                                                     file_id  \n",
       "                                                         raw  \n",
       "ShotPoint                                                     \n",
       "42000      /notebooks/egor/noise_data/DN02A_LIFT_AMPSCAL.sgy  \n",
       "42000      /notebooks/egor/noise_data/DN02A_LIFT_AMPSCAL.sgy  \n",
       "42000      /notebooks/egor/noise_data/DN02A_LIFT_AMPSCAL.sgy  \n",
       "42000      /notebooks/egor/noise_data/DN02A_LIFT_AMPSCAL.sgy  \n",
       "42000      /notebooks/egor/noise_data/DN02A_LIFT_AMPSCAL.sgy  "
      ]
     },
     "execution_count": 8,
     "metadata": {},
     "output_type": "execute_result"
    }
   ],
   "source": [
    "index_shot = CustomIndex(name='raw', index_name='ShotPoint', path=path_raw)\n",
    "index_shot.head()"
   ]
  },
  {
   "cell_type": "markdown",
   "metadata": {},
   "source": [
    "Finally, there is a```KNNIndex``` that enumerates groups of k nearest located traces based on its ```CDP_X``` and ```CDP_Y``` attributes: "
   ]
  },
  {
   "cell_type": "code",
   "execution_count": 9,
   "metadata": {},
   "outputs": [
    {
     "data": {
      "text/html": [
       "<div>\n",
       "<style scoped>\n",
       "    .dataframe tbody tr th:only-of-type {\n",
       "        vertical-align: middle;\n",
       "    }\n",
       "\n",
       "    .dataframe tbody tr th {\n",
       "        vertical-align: top;\n",
       "    }\n",
       "\n",
       "    .dataframe thead tr th {\n",
       "        text-align: left;\n",
       "    }\n",
       "\n",
       "    .dataframe thead tr:last-of-type th {\n",
       "        text-align: right;\n",
       "    }\n",
       "</style>\n",
       "<table border=\"1\" class=\"dataframe\">\n",
       "  <thead>\n",
       "    <tr>\n",
       "      <th></th>\n",
       "      <th>FieldRecord</th>\n",
       "      <th>TraceNumber</th>\n",
       "      <th>CDP_Y</th>\n",
       "      <th>CDP_X</th>\n",
       "      <th>TRACE_SEQUENCE_FILE</th>\n",
       "      <th>file_id</th>\n",
       "    </tr>\n",
       "    <tr>\n",
       "      <th></th>\n",
       "      <th></th>\n",
       "      <th></th>\n",
       "      <th></th>\n",
       "      <th></th>\n",
       "      <th>raw</th>\n",
       "      <th>raw</th>\n",
       "    </tr>\n",
       "    <tr>\n",
       "      <th>KNN</th>\n",
       "      <th></th>\n",
       "      <th></th>\n",
       "      <th></th>\n",
       "      <th></th>\n",
       "      <th></th>\n",
       "      <th></th>\n",
       "    </tr>\n",
       "  </thead>\n",
       "  <tbody>\n",
       "    <tr>\n",
       "      <th>0</th>\n",
       "      <td>111906</td>\n",
       "      <td>1656</td>\n",
       "      <td>6639805</td>\n",
       "      <td>499279</td>\n",
       "      <td>1</td>\n",
       "      <td>/notebooks/egor/noise_data/DN02A_LIFT_AMPSCAL.sgy</td>\n",
       "    </tr>\n",
       "    <tr>\n",
       "      <th>0</th>\n",
       "      <td>111906</td>\n",
       "      <td>1657</td>\n",
       "      <td>6639805</td>\n",
       "      <td>499304</td>\n",
       "      <td>2</td>\n",
       "      <td>/notebooks/egor/noise_data/DN02A_LIFT_AMPSCAL.sgy</td>\n",
       "    </tr>\n",
       "    <tr>\n",
       "      <th>0</th>\n",
       "      <td>111906</td>\n",
       "      <td>1655</td>\n",
       "      <td>6639805</td>\n",
       "      <td>499254</td>\n",
       "      <td>3</td>\n",
       "      <td>/notebooks/egor/noise_data/DN02A_LIFT_AMPSCAL.sgy</td>\n",
       "    </tr>\n",
       "    <tr>\n",
       "      <th>1</th>\n",
       "      <td>111906</td>\n",
       "      <td>1657</td>\n",
       "      <td>6639805</td>\n",
       "      <td>499304</td>\n",
       "      <td>2</td>\n",
       "      <td>/notebooks/egor/noise_data/DN02A_LIFT_AMPSCAL.sgy</td>\n",
       "    </tr>\n",
       "    <tr>\n",
       "      <th>1</th>\n",
       "      <td>111906</td>\n",
       "      <td>1656</td>\n",
       "      <td>6639805</td>\n",
       "      <td>499279</td>\n",
       "      <td>1</td>\n",
       "      <td>/notebooks/egor/noise_data/DN02A_LIFT_AMPSCAL.sgy</td>\n",
       "    </tr>\n",
       "    <tr>\n",
       "      <th>1</th>\n",
       "      <td>111906</td>\n",
       "      <td>1658</td>\n",
       "      <td>6639805</td>\n",
       "      <td>499329</td>\n",
       "      <td>4</td>\n",
       "      <td>/notebooks/egor/noise_data/DN02A_LIFT_AMPSCAL.sgy</td>\n",
       "    </tr>\n",
       "    <tr>\n",
       "      <th>2</th>\n",
       "      <td>111906</td>\n",
       "      <td>1655</td>\n",
       "      <td>6639805</td>\n",
       "      <td>499254</td>\n",
       "      <td>3</td>\n",
       "      <td>/notebooks/egor/noise_data/DN02A_LIFT_AMPSCAL.sgy</td>\n",
       "    </tr>\n",
       "    <tr>\n",
       "      <th>2</th>\n",
       "      <td>111906</td>\n",
       "      <td>1656</td>\n",
       "      <td>6639805</td>\n",
       "      <td>499279</td>\n",
       "      <td>1</td>\n",
       "      <td>/notebooks/egor/noise_data/DN02A_LIFT_AMPSCAL.sgy</td>\n",
       "    </tr>\n",
       "    <tr>\n",
       "      <th>2</th>\n",
       "      <td>111906</td>\n",
       "      <td>1654</td>\n",
       "      <td>6639805</td>\n",
       "      <td>499229</td>\n",
       "      <td>5</td>\n",
       "      <td>/notebooks/egor/noise_data/DN02A_LIFT_AMPSCAL.sgy</td>\n",
       "    </tr>\n",
       "  </tbody>\n",
       "</table>\n",
       "</div>"
      ],
      "text/plain": [
       "    FieldRecord TraceNumber    CDP_Y   CDP_X TRACE_SEQUENCE_FILE  \\\n",
       "                                                             raw   \n",
       "KNN                                                                \n",
       "0        111906        1656  6639805  499279                   1   \n",
       "0        111906        1657  6639805  499304                   2   \n",
       "0        111906        1655  6639805  499254                   3   \n",
       "1        111906        1657  6639805  499304                   2   \n",
       "1        111906        1656  6639805  499279                   1   \n",
       "1        111906        1658  6639805  499329                   4   \n",
       "2        111906        1655  6639805  499254                   3   \n",
       "2        111906        1656  6639805  499279                   1   \n",
       "2        111906        1654  6639805  499229                   5   \n",
       "\n",
       "                                               file_id  \n",
       "                                                   raw  \n",
       "KNN                                                     \n",
       "0    /notebooks/egor/noise_data/DN02A_LIFT_AMPSCAL.sgy  \n",
       "0    /notebooks/egor/noise_data/DN02A_LIFT_AMPSCAL.sgy  \n",
       "0    /notebooks/egor/noise_data/DN02A_LIFT_AMPSCAL.sgy  \n",
       "1    /notebooks/egor/noise_data/DN02A_LIFT_AMPSCAL.sgy  \n",
       "1    /notebooks/egor/noise_data/DN02A_LIFT_AMPSCAL.sgy  \n",
       "1    /notebooks/egor/noise_data/DN02A_LIFT_AMPSCAL.sgy  \n",
       "2    /notebooks/egor/noise_data/DN02A_LIFT_AMPSCAL.sgy  \n",
       "2    /notebooks/egor/noise_data/DN02A_LIFT_AMPSCAL.sgy  \n",
       "2    /notebooks/egor/noise_data/DN02A_LIFT_AMPSCAL.sgy  "
      ]
     },
     "execution_count": 9,
     "metadata": {},
     "output_type": "execute_result"
    }
   ],
   "source": [
    "index_knn = KNNIndex(name='raw', n_neighbors=3, path=path_raw)\n",
    "index_knn.head(9)"
   ]
  },
  {
   "cell_type": "markdown",
   "metadata": {},
   "source": [
    "### from SPS files"
   ]
  },
  {
   "cell_type": "markdown",
   "metadata": {},
   "source": [
    "```TraceIndex``` and ```FieldIndex``` can be alternatively constructed from SPS files. As a by-product, it will include offsets, azimuth and a number of other metadata: "
   ]
  },
  {
   "cell_type": "code",
   "execution_count": 10,
   "metadata": {},
   "outputs": [
    {
     "data": {
      "text/html": [
       "<div>\n",
       "<style scoped>\n",
       "    .dataframe tbody tr th:only-of-type {\n",
       "        vertical-align: middle;\n",
       "    }\n",
       "\n",
       "    .dataframe tbody tr th {\n",
       "        vertical-align: top;\n",
       "    }\n",
       "\n",
       "    .dataframe thead tr th {\n",
       "        text-align: left;\n",
       "    }\n",
       "\n",
       "    .dataframe thead tr:last-of-type th {\n",
       "        text-align: right;\n",
       "    }\n",
       "</style>\n",
       "<table border=\"1\" class=\"dataframe\">\n",
       "  <thead>\n",
       "    <tr>\n",
       "      <th></th>\n",
       "      <th>sline</th>\n",
       "      <th>sid</th>\n",
       "      <th>rline</th>\n",
       "      <th>rid</th>\n",
       "      <th>TraceNumber</th>\n",
       "      <th>point_index</th>\n",
       "      <th>sht_depth</th>\n",
       "      <th>uphole</th>\n",
       "      <th>SourceX</th>\n",
       "      <th>SourceY</th>\n",
       "      <th>z_s</th>\n",
       "      <th>x_r</th>\n",
       "      <th>y_r</th>\n",
       "      <th>z_r</th>\n",
       "      <th>CDP_X</th>\n",
       "      <th>CDP_Y</th>\n",
       "      <th>azimuth</th>\n",
       "      <th>offset</th>\n",
       "    </tr>\n",
       "    <tr>\n",
       "      <th></th>\n",
       "      <th></th>\n",
       "      <th></th>\n",
       "      <th></th>\n",
       "      <th></th>\n",
       "      <th></th>\n",
       "      <th></th>\n",
       "      <th></th>\n",
       "      <th></th>\n",
       "      <th></th>\n",
       "      <th></th>\n",
       "      <th></th>\n",
       "      <th></th>\n",
       "      <th></th>\n",
       "      <th></th>\n",
       "      <th></th>\n",
       "      <th></th>\n",
       "      <th></th>\n",
       "      <th></th>\n",
       "    </tr>\n",
       "    <tr>\n",
       "      <th>FieldRecord</th>\n",
       "      <th></th>\n",
       "      <th></th>\n",
       "      <th></th>\n",
       "      <th></th>\n",
       "      <th></th>\n",
       "      <th></th>\n",
       "      <th></th>\n",
       "      <th></th>\n",
       "      <th></th>\n",
       "      <th></th>\n",
       "      <th></th>\n",
       "      <th></th>\n",
       "      <th></th>\n",
       "      <th></th>\n",
       "      <th></th>\n",
       "      <th></th>\n",
       "      <th></th>\n",
       "      <th></th>\n",
       "    </tr>\n",
       "  </thead>\n",
       "  <tbody>\n",
       "    <tr>\n",
       "      <th>354</th>\n",
       "      <td>S37</td>\n",
       "      <td>3591</td>\n",
       "      <td>R37</td>\n",
       "      <td>219</td>\n",
       "      <td>1</td>\n",
       "      <td>1</td>\n",
       "      <td>18.0</td>\n",
       "      <td>14.0</td>\n",
       "      <td>338886.78</td>\n",
       "      <td>7033413.0</td>\n",
       "      <td>71.5</td>\n",
       "      <td>338560.00</td>\n",
       "      <td>7029929.5</td>\n",
       "      <td>76.0</td>\n",
       "      <td>338723.39</td>\n",
       "      <td>7031671.25</td>\n",
       "      <td>-1.664331</td>\n",
       "      <td>1749.396855</td>\n",
       "    </tr>\n",
       "    <tr>\n",
       "      <th>354</th>\n",
       "      <td>S37</td>\n",
       "      <td>3591</td>\n",
       "      <td>R37</td>\n",
       "      <td>220</td>\n",
       "      <td>2</td>\n",
       "      <td>1</td>\n",
       "      <td>18.0</td>\n",
       "      <td>14.0</td>\n",
       "      <td>338886.78</td>\n",
       "      <td>7033413.0</td>\n",
       "      <td>71.5</td>\n",
       "      <td>338562.40</td>\n",
       "      <td>7029954.5</td>\n",
       "      <td>76.1</td>\n",
       "      <td>338724.59</td>\n",
       "      <td>7031683.75</td>\n",
       "      <td>-1.664315</td>\n",
       "      <td>1736.839416</td>\n",
       "    </tr>\n",
       "    <tr>\n",
       "      <th>354</th>\n",
       "      <td>S37</td>\n",
       "      <td>3591</td>\n",
       "      <td>R37</td>\n",
       "      <td>221</td>\n",
       "      <td>3</td>\n",
       "      <td>1</td>\n",
       "      <td>18.0</td>\n",
       "      <td>14.0</td>\n",
       "      <td>338886.78</td>\n",
       "      <td>7033413.0</td>\n",
       "      <td>71.5</td>\n",
       "      <td>338564.70</td>\n",
       "      <td>7029979.5</td>\n",
       "      <td>76.2</td>\n",
       "      <td>338725.74</td>\n",
       "      <td>7031696.25</td>\n",
       "      <td>-1.664328</td>\n",
       "      <td>1724.286648</td>\n",
       "    </tr>\n",
       "    <tr>\n",
       "      <th>354</th>\n",
       "      <td>S37</td>\n",
       "      <td>3591</td>\n",
       "      <td>R37</td>\n",
       "      <td>222</td>\n",
       "      <td>4</td>\n",
       "      <td>1</td>\n",
       "      <td>18.0</td>\n",
       "      <td>14.0</td>\n",
       "      <td>338886.78</td>\n",
       "      <td>7033413.0</td>\n",
       "      <td>71.5</td>\n",
       "      <td>338567.00</td>\n",
       "      <td>7030004.5</td>\n",
       "      <td>76.8</td>\n",
       "      <td>338726.89</td>\n",
       "      <td>7031708.75</td>\n",
       "      <td>-1.664341</td>\n",
       "      <td>1711.733880</td>\n",
       "    </tr>\n",
       "    <tr>\n",
       "      <th>354</th>\n",
       "      <td>S37</td>\n",
       "      <td>3591</td>\n",
       "      <td>R37</td>\n",
       "      <td>223</td>\n",
       "      <td>5</td>\n",
       "      <td>1</td>\n",
       "      <td>18.0</td>\n",
       "      <td>14.0</td>\n",
       "      <td>338886.78</td>\n",
       "      <td>7033413.0</td>\n",
       "      <td>71.5</td>\n",
       "      <td>338569.38</td>\n",
       "      <td>7030029.0</td>\n",
       "      <td>77.4</td>\n",
       "      <td>338728.08</td>\n",
       "      <td>7031721.00</td>\n",
       "      <td>-1.664317</td>\n",
       "      <td>1699.426283</td>\n",
       "    </tr>\n",
       "  </tbody>\n",
       "</table>\n",
       "</div>"
      ],
      "text/plain": [
       "            sline   sid rline  rid TraceNumber point_index sht_depth uphole  \\\n",
       "                                                                              \n",
       "FieldRecord                                                                   \n",
       "354           S37  3591   R37  219           1           1      18.0   14.0   \n",
       "354           S37  3591   R37  220           2           1      18.0   14.0   \n",
       "354           S37  3591   R37  221           3           1      18.0   14.0   \n",
       "354           S37  3591   R37  222           4           1      18.0   14.0   \n",
       "354           S37  3591   R37  223           5           1      18.0   14.0   \n",
       "\n",
       "               SourceX    SourceY   z_s        x_r        y_r   z_r  \\\n",
       "                                                                      \n",
       "FieldRecord                                                           \n",
       "354          338886.78  7033413.0  71.5  338560.00  7029929.5  76.0   \n",
       "354          338886.78  7033413.0  71.5  338562.40  7029954.5  76.1   \n",
       "354          338886.78  7033413.0  71.5  338564.70  7029979.5  76.2   \n",
       "354          338886.78  7033413.0  71.5  338567.00  7030004.5  76.8   \n",
       "354          338886.78  7033413.0  71.5  338569.38  7030029.0  77.4   \n",
       "\n",
       "                 CDP_X       CDP_Y   azimuth       offset  \n",
       "                                                           \n",
       "FieldRecord                                                \n",
       "354          338723.39  7031671.25 -1.664331  1749.396855  \n",
       "354          338724.59  7031683.75 -1.664315  1736.839416  \n",
       "354          338725.74  7031696.25 -1.664328  1724.286648  \n",
       "354          338726.89  7031708.75 -1.664341  1711.733880  \n",
       "354          338728.08  7031721.00 -1.664317  1699.426283  "
      ]
     },
     "execution_count": 10,
     "metadata": {},
     "output_type": "execute_result"
    }
   ],
   "source": [
    "dfx = pd.read_csv('/notebooks/egor/2D_Valyton/sps/ALL_VALUNT0910_X37.csv')\n",
    "dfr = pd.read_csv('/notebooks/egor/2D_Valyton/sps/ALL_VALUNT0910_R_utm.csv')\n",
    "dfs = pd.read_csv('/notebooks/egor/2D_Valyton/sps/ALL_VALUNT0910_S_utm.csv')\n",
    "\n",
    "index_sps = FieldIndex(dfx=dfx, dfr=dfr, dfs=dfs)\n",
    "index_sps.head()"
   ]
  },
  {
   "cell_type": "markdown",
   "metadata": {},
   "source": [
    "To create a ```Binsindex``` one should specify ```bin_size```. If grid position is not provided it will be optimized during index construction: "
   ]
  },
  {
   "cell_type": "code",
   "execution_count": 11,
   "metadata": {},
   "outputs": [
    {
     "ename": "NameError",
     "evalue": "name 'ppx' is not defined",
     "output_type": "error",
     "traceback": [
      "\u001b[0;31m---------------------------------------------------------------------------\u001b[0m",
      "\u001b[0;31mNameError\u001b[0m                                 Traceback (most recent call last)",
      "\u001b[0;32m<ipython-input-11-9604ec3a3941>\u001b[0m in \u001b[0;36m<module>\u001b[0;34m()\u001b[0m\n\u001b[1;32m      5\u001b[0m \u001b[0mbin_size\u001b[0m \u001b[0;34m=\u001b[0m \u001b[0;36m1000\u001b[0m\u001b[0;34m\u001b[0m\u001b[0m\n\u001b[1;32m      6\u001b[0m \u001b[0;34m\u001b[0m\u001b[0m\n\u001b[0;32m----> 7\u001b[0;31m \u001b[0mindex_bin\u001b[0m \u001b[0;34m=\u001b[0m \u001b[0mBinsIndex\u001b[0m\u001b[0;34m(\u001b[0m\u001b[0mdfr\u001b[0m\u001b[0;34m=\u001b[0m\u001b[0mdfr\u001b[0m\u001b[0;34m,\u001b[0m \u001b[0mdfs\u001b[0m\u001b[0;34m=\u001b[0m\u001b[0mdfs\u001b[0m\u001b[0;34m,\u001b[0m \u001b[0mdfx\u001b[0m\u001b[0;34m=\u001b[0m\u001b[0mdfx\u001b[0m\u001b[0;34m,\u001b[0m \u001b[0mbin_size\u001b[0m\u001b[0;34m=\u001b[0m\u001b[0;34m(\u001b[0m\u001b[0mbin_size\u001b[0m\u001b[0;34m,\u001b[0m \u001b[0mbin_size\u001b[0m\u001b[0;34m)\u001b[0m\u001b[0;34m,\u001b[0m \u001b[0miters\u001b[0m\u001b[0;34m=\u001b[0m\u001b[0;36m10\u001b[0m\u001b[0;34m)\u001b[0m\u001b[0;34m\u001b[0m\u001b[0m\n\u001b[0m\u001b[1;32m      8\u001b[0m \u001b[0mindex_bin\u001b[0m\u001b[0;34m.\u001b[0m\u001b[0mhead\u001b[0m\u001b[0;34m(\u001b[0m\u001b[0;34m)\u001b[0m\u001b[0;34m\u001b[0m\u001b[0m\n",
      "\u001b[0;32m/notebooks/egor/geolog/geolog/src/seismic_index.py\u001b[0m in \u001b[0;36m__init__\u001b[0;34m(self, *args, **kwargs)\u001b[0m\n\u001b[1;32m    259\u001b[0m     \u001b[0;32mdef\u001b[0m \u001b[0m__init__\u001b[0m\u001b[0;34m(\u001b[0m\u001b[0mself\u001b[0m\u001b[0;34m,\u001b[0m \u001b[0;34m*\u001b[0m\u001b[0margs\u001b[0m\u001b[0;34m,\u001b[0m \u001b[0;34m**\u001b[0m\u001b[0mkwargs\u001b[0m\u001b[0;34m)\u001b[0m\u001b[0;34m:\u001b[0m\u001b[0;34m\u001b[0m\u001b[0m\n\u001b[1;32m    260\u001b[0m         \u001b[0mkwargs\u001b[0m\u001b[0;34m[\u001b[0m\u001b[0;34m'index_name'\u001b[0m\u001b[0;34m]\u001b[0m \u001b[0;34m=\u001b[0m \u001b[0;34m'bin_id'\u001b[0m\u001b[0;34m\u001b[0m\u001b[0m\n\u001b[0;32m--> 261\u001b[0;31m         \u001b[0msuper\u001b[0m\u001b[0;34m(\u001b[0m\u001b[0;34m)\u001b[0m\u001b[0;34m.\u001b[0m\u001b[0m__init__\u001b[0m\u001b[0;34m(\u001b[0m\u001b[0;34m*\u001b[0m\u001b[0margs\u001b[0m\u001b[0;34m,\u001b[0m \u001b[0;34m**\u001b[0m\u001b[0mkwargs\u001b[0m\u001b[0;34m)\u001b[0m\u001b[0;34m\u001b[0m\u001b[0m\n\u001b[0m\u001b[1;32m    262\u001b[0m \u001b[0;34m\u001b[0m\u001b[0m\n\u001b[1;32m    263\u001b[0m     \u001b[0;32mdef\u001b[0m \u001b[0mbuild_df\u001b[0m\u001b[0;34m(\u001b[0m\u001b[0mself\u001b[0m\u001b[0;34m,\u001b[0m \u001b[0;34m**\u001b[0m\u001b[0mkwargs\u001b[0m\u001b[0;34m)\u001b[0m\u001b[0;34m:\u001b[0m\u001b[0;34m\u001b[0m\u001b[0m\n",
      "\u001b[0;32m/notebooks/egor/geolog/geolog/src/seismic_index.py\u001b[0m in \u001b[0;36m__init__\u001b[0;34m(self, index_name, *args, **kwargs)\u001b[0m\n\u001b[1;32m     31\u001b[0m         \u001b[0mself\u001b[0m\u001b[0;34m.\u001b[0m\u001b[0mindex_name\u001b[0m \u001b[0;34m=\u001b[0m \u001b[0mindex_name\u001b[0m\u001b[0;34m\u001b[0m\u001b[0m\n\u001b[1;32m     32\u001b[0m         \u001b[0mself\u001b[0m\u001b[0;34m.\u001b[0m\u001b[0m_idf\u001b[0m \u001b[0;34m=\u001b[0m \u001b[0;32mNone\u001b[0m\u001b[0;34m\u001b[0m\u001b[0m\n\u001b[0;32m---> 33\u001b[0;31m         \u001b[0msuper\u001b[0m\u001b[0;34m(\u001b[0m\u001b[0;34m)\u001b[0m\u001b[0;34m.\u001b[0m\u001b[0m__init__\u001b[0m\u001b[0;34m(\u001b[0m\u001b[0;34m*\u001b[0m\u001b[0margs\u001b[0m\u001b[0;34m,\u001b[0m \u001b[0;34m**\u001b[0m\u001b[0mkwargs\u001b[0m\u001b[0;34m)\u001b[0m\u001b[0;34m\u001b[0m\u001b[0m\n\u001b[0m\u001b[1;32m     34\u001b[0m \u001b[0;34m\u001b[0m\u001b[0m\n\u001b[1;32m     35\u001b[0m     \u001b[0;34m@\u001b[0m\u001b[0mproperty\u001b[0m\u001b[0;34m\u001b[0m\u001b[0m\n",
      "\u001b[0;32m/notebooks/egor/geolog/geolog/batchflow/batchflow/dsindex.py\u001b[0m in \u001b[0;36m__init__\u001b[0;34m(self, *args, **kwargs)\u001b[0m\n\u001b[1;32m     28\u001b[0m     \"\"\"\n\u001b[1;32m     29\u001b[0m     \u001b[0;32mdef\u001b[0m \u001b[0m__init__\u001b[0m\u001b[0;34m(\u001b[0m\u001b[0mself\u001b[0m\u001b[0;34m,\u001b[0m \u001b[0;34m*\u001b[0m\u001b[0margs\u001b[0m\u001b[0;34m,\u001b[0m \u001b[0;34m**\u001b[0m\u001b[0mkwargs\u001b[0m\u001b[0;34m)\u001b[0m\u001b[0;34m:\u001b[0m\u001b[0;34m\u001b[0m\u001b[0m\n\u001b[0;32m---> 30\u001b[0;31m         \u001b[0msuper\u001b[0m\u001b[0;34m(\u001b[0m\u001b[0;34m)\u001b[0m\u001b[0;34m.\u001b[0m\u001b[0m__init__\u001b[0m\u001b[0;34m(\u001b[0m\u001b[0;34m*\u001b[0m\u001b[0margs\u001b[0m\u001b[0;34m,\u001b[0m \u001b[0;34m**\u001b[0m\u001b[0mkwargs\u001b[0m\u001b[0;34m)\u001b[0m\u001b[0;34m\u001b[0m\u001b[0m\n\u001b[0m\u001b[1;32m     31\u001b[0m         \u001b[0mself\u001b[0m\u001b[0;34m.\u001b[0m\u001b[0m_pos\u001b[0m \u001b[0;34m=\u001b[0m \u001b[0mself\u001b[0m\u001b[0;34m.\u001b[0m\u001b[0mbuild_pos\u001b[0m\u001b[0;34m(\u001b[0m\u001b[0;34m)\u001b[0m\u001b[0;34m\u001b[0m\u001b[0m\n\u001b[1;32m     32\u001b[0m         \u001b[0mself\u001b[0m\u001b[0;34m.\u001b[0m\u001b[0m_random_state\u001b[0m \u001b[0;34m=\u001b[0m \u001b[0;32mNone\u001b[0m\u001b[0;34m\u001b[0m\u001b[0m\n",
      "\u001b[0;32m/notebooks/egor/geolog/geolog/batchflow/batchflow/base.py\u001b[0m in \u001b[0;36m__init__\u001b[0;34m(self, *args, **kwargs)\u001b[0m\n\u001b[1;32m      6\u001b[0m     \u001b[0;34m\"\"\" Base class \"\"\"\u001b[0m\u001b[0;34m\u001b[0m\u001b[0m\n\u001b[1;32m      7\u001b[0m     \u001b[0;32mdef\u001b[0m \u001b[0m__init__\u001b[0m\u001b[0;34m(\u001b[0m\u001b[0mself\u001b[0m\u001b[0;34m,\u001b[0m \u001b[0;34m*\u001b[0m\u001b[0margs\u001b[0m\u001b[0;34m,\u001b[0m \u001b[0;34m**\u001b[0m\u001b[0mkwargs\u001b[0m\u001b[0;34m)\u001b[0m\u001b[0;34m:\u001b[0m\u001b[0;34m\u001b[0m\u001b[0m\n\u001b[0;32m----> 8\u001b[0;31m         \u001b[0mself\u001b[0m\u001b[0;34m.\u001b[0m\u001b[0m_index\u001b[0m \u001b[0;34m=\u001b[0m \u001b[0mself\u001b[0m\u001b[0;34m.\u001b[0m\u001b[0mbuild_index\u001b[0m\u001b[0;34m(\u001b[0m\u001b[0;34m*\u001b[0m\u001b[0margs\u001b[0m\u001b[0;34m,\u001b[0m \u001b[0;34m**\u001b[0m\u001b[0mkwargs\u001b[0m\u001b[0;34m)\u001b[0m\u001b[0;34m\u001b[0m\u001b[0m\n\u001b[0m\u001b[1;32m      9\u001b[0m \u001b[0;34m\u001b[0m\u001b[0m\n\u001b[1;32m     10\u001b[0m         \u001b[0mself\u001b[0m\u001b[0;34m.\u001b[0m\u001b[0mtrain\u001b[0m \u001b[0;34m=\u001b[0m \u001b[0;32mNone\u001b[0m\u001b[0;34m\u001b[0m\u001b[0m\n",
      "\u001b[0;32m/notebooks/egor/geolog/geolog/src/seismic_index.py\u001b[0m in \u001b[0;36mbuild_index\u001b[0;34m(self, index, idf, **kwargs)\u001b[0m\n\u001b[1;32m     71\u001b[0m             \u001b[0;32mreturn\u001b[0m \u001b[0mindices\u001b[0m\u001b[0;34m\u001b[0m\u001b[0m\n\u001b[1;32m     72\u001b[0m \u001b[0;34m\u001b[0m\u001b[0m\n\u001b[0;32m---> 73\u001b[0;31m         \u001b[0mdf\u001b[0m \u001b[0;34m=\u001b[0m \u001b[0mself\u001b[0m\u001b[0;34m.\u001b[0m\u001b[0mbuild_df\u001b[0m\u001b[0;34m(\u001b[0m\u001b[0;34m**\u001b[0m\u001b[0mkwargs\u001b[0m\u001b[0;34m)\u001b[0m\u001b[0;34m\u001b[0m\u001b[0m\n\u001b[0m\u001b[1;32m     74\u001b[0m         \u001b[0mdf\u001b[0m\u001b[0;34m.\u001b[0m\u001b[0mreset_index\u001b[0m\u001b[0;34m(\u001b[0m\u001b[0mdrop\u001b[0m\u001b[0;34m=\u001b[0m\u001b[0mdf\u001b[0m\u001b[0;34m.\u001b[0m\u001b[0mindex\u001b[0m\u001b[0;34m.\u001b[0m\u001b[0mname\u001b[0m \u001b[0;32mis\u001b[0m \u001b[0;32mNone\u001b[0m\u001b[0;34m,\u001b[0m \u001b[0minplace\u001b[0m\u001b[0;34m=\u001b[0m\u001b[0;32mTrue\u001b[0m\u001b[0;34m)\u001b[0m\u001b[0;34m\u001b[0m\u001b[0m\n\u001b[1;32m     75\u001b[0m         \u001b[0;32mif\u001b[0m \u001b[0mself\u001b[0m\u001b[0;34m.\u001b[0m\u001b[0mindex_name\u001b[0m \u001b[0;32mis\u001b[0m \u001b[0;32mnot\u001b[0m \u001b[0;32mNone\u001b[0m\u001b[0;34m:\u001b[0m\u001b[0;34m\u001b[0m\u001b[0m\n",
      "\u001b[0;32m/notebooks/egor/geolog/geolog/src/seismic_index.py\u001b[0m in \u001b[0;36mbuild_df\u001b[0;34m(self, **kwargs)\u001b[0m\n\u001b[1;32m    263\u001b[0m     \u001b[0;32mdef\u001b[0m \u001b[0mbuild_df\u001b[0m\u001b[0;34m(\u001b[0m\u001b[0mself\u001b[0m\u001b[0;34m,\u001b[0m \u001b[0;34m**\u001b[0m\u001b[0mkwargs\u001b[0m\u001b[0;34m)\u001b[0m\u001b[0;34m:\u001b[0m\u001b[0;34m\u001b[0m\u001b[0m\n\u001b[1;32m    264\u001b[0m         \u001b[0;34m\"\"\"Build dataframe.\"\"\"\u001b[0m\u001b[0;34m\u001b[0m\u001b[0m\n\u001b[0;32m--> 265\u001b[0;31m         \u001b[0mdf\u001b[0m\u001b[0;34m,\u001b[0m \u001b[0mmeta\u001b[0m \u001b[0;34m=\u001b[0m \u001b[0mbt\u001b[0m\u001b[0;34m.\u001b[0m\u001b[0mmake_bin_index\u001b[0m\u001b[0;34m(\u001b[0m\u001b[0;34m**\u001b[0m\u001b[0mkwargs\u001b[0m\u001b[0;34m)\u001b[0m\u001b[0;34m\u001b[0m\u001b[0m\n\u001b[0m\u001b[1;32m    266\u001b[0m         \u001b[0mself\u001b[0m\u001b[0;34m.\u001b[0m\u001b[0mmeta\u001b[0m\u001b[0;34m.\u001b[0m\u001b[0mupdate\u001b[0m\u001b[0;34m(\u001b[0m\u001b[0mmeta\u001b[0m\u001b[0;34m)\u001b[0m\u001b[0;34m\u001b[0m\u001b[0m\n\u001b[1;32m    267\u001b[0m         \u001b[0;32mreturn\u001b[0m \u001b[0mdf\u001b[0m\u001b[0;34m\u001b[0m\u001b[0m\n",
      "\u001b[0;32m/notebooks/egor/geolog/geolog/src/batch_tools.py\u001b[0m in \u001b[0;36mmake_bin_index\u001b[0;34m(dfr, dfs, dfx, bin_size, origin, phi, opt, **kwargs)\u001b[0m\n\u001b[1;32m    400\u001b[0m     \"\"\"\n\u001b[1;32m    401\u001b[0m     \u001b[0;32mif\u001b[0m \u001b[0misinstance\u001b[0m\u001b[0;34m(\u001b[0m\u001b[0mbin_size\u001b[0m\u001b[0;34m,\u001b[0m \u001b[0;34m(\u001b[0m\u001b[0mlist\u001b[0m\u001b[0;34m,\u001b[0m \u001b[0mtuple\u001b[0m\u001b[0;34m,\u001b[0m \u001b[0mnp\u001b[0m\u001b[0;34m.\u001b[0m\u001b[0mndarray\u001b[0m\u001b[0;34m)\u001b[0m\u001b[0;34m)\u001b[0m\u001b[0;34m:\u001b[0m\u001b[0;34m\u001b[0m\u001b[0m\n\u001b[0;32m--> 402\u001b[0;31m         \u001b[0mdf\u001b[0m\u001b[0;34m,\u001b[0m \u001b[0mmeta\u001b[0m \u001b[0;34m=\u001b[0m \u001b[0mmake_2d_bin_index\u001b[0m\u001b[0;34m(\u001b[0m\u001b[0mdfr\u001b[0m\u001b[0;34m,\u001b[0m \u001b[0mdfs\u001b[0m\u001b[0;34m,\u001b[0m \u001b[0mdfx\u001b[0m\u001b[0;34m,\u001b[0m \u001b[0mbin_size\u001b[0m\u001b[0;34m,\u001b[0m \u001b[0morigin\u001b[0m\u001b[0;34m,\u001b[0m \u001b[0;34m**\u001b[0m\u001b[0mkwargs\u001b[0m\u001b[0;34m)\u001b[0m\u001b[0;34m\u001b[0m\u001b[0m\n\u001b[0m\u001b[1;32m    403\u001b[0m     \u001b[0;32melse\u001b[0m\u001b[0;34m:\u001b[0m\u001b[0;34m\u001b[0m\u001b[0m\n\u001b[1;32m    404\u001b[0m         \u001b[0mdf\u001b[0m\u001b[0;34m,\u001b[0m \u001b[0mmeta\u001b[0m \u001b[0;34m=\u001b[0m \u001b[0mmake_1d_bin_index\u001b[0m\u001b[0;34m(\u001b[0m\u001b[0mdfr\u001b[0m\u001b[0;34m,\u001b[0m \u001b[0mdfs\u001b[0m\u001b[0;34m,\u001b[0m \u001b[0mdfx\u001b[0m\u001b[0;34m,\u001b[0m \u001b[0mbin_size\u001b[0m\u001b[0;34m,\u001b[0m \u001b[0morigin\u001b[0m\u001b[0;34m,\u001b[0m \u001b[0;34m**\u001b[0m\u001b[0mkwargs\u001b[0m\u001b[0;34m)\u001b[0m\u001b[0;34m\u001b[0m\u001b[0m\n",
      "\u001b[0;32m/notebooks/egor/geolog/geolog/src/batch_tools.py\u001b[0m in \u001b[0;36mmake_2d_bin_index\u001b[0;34m(dfr, dfs, dfx, bin_size, origin, phi, opt, **kwargs)\u001b[0m\n\u001b[1;32m    342\u001b[0m     \u001b[0;32mif\u001b[0m \u001b[0morigin\u001b[0m \u001b[0;32mis\u001b[0m \u001b[0;32mNone\u001b[0m\u001b[0;34m:\u001b[0m\u001b[0;34m\u001b[0m\u001b[0m\n\u001b[1;32m    343\u001b[0m         \u001b[0;32mif\u001b[0m \u001b[0mopt\u001b[0m \u001b[0;34m==\u001b[0m \u001b[0;34m'gradient'\u001b[0m\u001b[0;34m:\u001b[0m\u001b[0;34m\u001b[0m\u001b[0m\n\u001b[0;32m--> 344\u001b[0;31m             \u001b[0mshift\u001b[0m \u001b[0;34m=\u001b[0m \u001b[0mgradient_bins_shift\u001b[0m\u001b[0;34m(\u001b[0m\u001b[0mppx\u001b[0m\u001b[0;34m,\u001b[0m \u001b[0mbin_size\u001b[0m\u001b[0;34m,\u001b[0m \u001b[0;34m**\u001b[0m\u001b[0mkwargs\u001b[0m\u001b[0;34m)\u001b[0m\u001b[0;34m\u001b[0m\u001b[0m\n\u001b[0m\u001b[1;32m    345\u001b[0m         \u001b[0;32melif\u001b[0m \u001b[0mopt\u001b[0m \u001b[0;34m==\u001b[0m \u001b[0;34m'monte-carlo'\u001b[0m\u001b[0;34m:\u001b[0m\u001b[0;34m\u001b[0m\u001b[0m\n\u001b[1;32m    346\u001b[0m             \u001b[0mshift\u001b[0m \u001b[0;34m=\u001b[0m \u001b[0mrandom_bins_shift\u001b[0m\u001b[0;34m(\u001b[0m\u001b[0mppx\u001b[0m\u001b[0;34m,\u001b[0m \u001b[0mbin_size\u001b[0m\u001b[0;34m,\u001b[0m \u001b[0;34m**\u001b[0m\u001b[0mkwargs\u001b[0m\u001b[0;34m)\u001b[0m\u001b[0;34m\u001b[0m\u001b[0m\n",
      "\u001b[0;31mNameError\u001b[0m: name 'ppx' is not defined"
     ]
    }
   ],
   "source": [
    "dfx = pd.read_csv('/notebooks/egor/Xfield/Xfield_X.csv')\n",
    "dfr = pd.read_csv('/notebooks/egor/Xfield/Xfield_R.csv')\n",
    "dfs = pd.read_csv('/notebooks/egor/Xfield/Xfield_S.csv')\n",
    "\n",
    "bin_size = 1000\n",
    "\n",
    "index_bin = BinsIndex(dfr=dfr, dfs=dfs, dfx=dfx, bin_size=(bin_size, bin_size), iters=10)\n",
    "index_bin.head()"
   ]
  },
  {
   "cell_type": "markdown",
   "metadata": {},
   "source": [
    "The heatmap shows a distribution of traces within bins:"
   ]
  },
  {
   "cell_type": "code",
   "execution_count": null,
   "metadata": {},
   "outputs": [],
   "source": [
    "index_bin.show_heatmap()"
   ]
  },
  {
   "cell_type": "markdown",
   "metadata": {},
   "source": [
    "## Conversion between types"
   ]
  },
  {
   "cell_type": "markdown",
   "metadata": {},
   "source": [
    "Index can be easily converted to other index type. For example, ```FieldIndex``` to ```TraceIndex```:"
   ]
  },
  {
   "cell_type": "code",
   "execution_count": null,
   "metadata": {},
   "outputs": [],
   "source": [
    "TraceIndex(index_ffid).head()"
   ]
  },
  {
   "cell_type": "markdown",
   "metadata": {},
   "source": [
    "or vise-versa:"
   ]
  },
  {
   "cell_type": "code",
   "execution_count": null,
   "metadata": {},
   "outputs": [],
   "source": [
    "FieldIndex(index_trace).head()"
   ]
  },
  {
   "cell_type": "markdown",
   "metadata": {},
   "source": [
    "or ```BinsIndex``` to ```FieldIndex```:"
   ]
  },
  {
   "cell_type": "code",
   "execution_count": null,
   "metadata": {},
   "outputs": [],
   "source": [
    "FieldIndex(index_bin).head()"
   ]
  },
  {
   "cell_type": "markdown",
   "metadata": {},
   "source": [
    "or custom shot index to ```FieldIndex```:"
   ]
  },
  {
   "cell_type": "code",
   "execution_count": null,
   "metadata": {},
   "outputs": [],
   "source": [
    "FieldIndex(index_shot).head()"
   ]
  },
  {
   "cell_type": "markdown",
   "metadata": {},
   "source": [
    "or ```KNNIndex``` to ```FieldIndex```:"
   ]
  },
  {
   "cell_type": "code",
   "execution_count": null,
   "metadata": {},
   "outputs": [],
   "source": [
    "FieldIndex(index_knn).head(9)"
   ]
  },
  {
   "cell_type": "markdown",
   "metadata": {},
   "source": [
    "Note that the index obtained contains 3 times duplicated traces. To remove them use ```drop_duplicates```:"
   ]
  },
  {
   "cell_type": "code",
   "execution_count": null,
   "metadata": {},
   "outputs": [],
   "source": [
    "FieldIndex(index_knn).drop_duplicates().head(9)"
   ]
  },
  {
   "cell_type": "markdown",
   "metadata": {},
   "source": [
    "## Merge"
   ]
  },
  {
   "cell_type": "markdown",
   "metadata": {},
   "source": [
    "Two index instances can be merged on common headers. For example, ```index_ffid``` does not contain offsets. However, we can merge it with ```index_sps``` that includes offsets:"
   ]
  },
  {
   "cell_type": "code",
   "execution_count": null,
   "metadata": {},
   "outputs": [],
   "source": [
    "index_ffid = index_ffid.merge(index_sps)\n",
    "index_ffid.head()"
   ]
  },
  {
   "cell_type": "markdown",
   "metadata": {},
   "source": [
    "Enjoy!"
   ]
  },
  {
   "cell_type": "code",
   "execution_count": null,
   "metadata": {},
   "outputs": [],
   "source": []
  },
  {
   "cell_type": "code",
   "execution_count": null,
   "metadata": {},
   "outputs": [],
   "source": []
  }
 ],
 "metadata": {
  "kernelspec": {
   "display_name": "Python 3",
   "language": "python",
   "name": "python3"
  },
  "language_info": {
   "codemirror_mode": {
    "name": "ipython",
    "version": 3
   },
   "file_extension": ".py",
   "mimetype": "text/x-python",
   "name": "python",
   "nbconvert_exporter": "python",
   "pygments_lexer": "ipython3",
   "version": "3.5.2"
  }
 },
 "nbformat": 4,
 "nbformat_minor": 2
}
