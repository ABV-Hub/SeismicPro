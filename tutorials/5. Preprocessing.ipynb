{
 "cells": [
  {
   "cell_type": "markdown",
   "metadata": {},
   "source": [
    "# Preprocessing pipeline"
   ]
  },
  {
   "cell_type": "markdown",
   "metadata": {},
   "source": [
    "Objective of this notebook is to aggregate aggregate seismic processing actions into a neat pipeline. "
   ]
  },
  {
   "cell_type": "markdown",
   "metadata": {},
   "source": [
    "* [Dataset](#Dataset)\n",
    "* [Pipeline](#Pipeline)\n",
    "* [Conclusion](#Conclusion)\n",
    "* [Suggestions for improvement](#Suggestions-for-improvement)"
   ]
  },
  {
   "cell_type": "code",
   "execution_count": 1,
   "metadata": {},
   "outputs": [],
   "source": [
    "import os\n",
    "import numpy as np\n",
    "from matplotlib import pyplot as plt\n",
    "import seaborn as sns\n",
    "from time import time"
   ]
  },
  {
   "cell_type": "code",
   "execution_count": 2,
   "metadata": {},
   "outputs": [],
   "source": [
    "from seismicpro import FieldIndex, TraceIndex, SeismicBatch, SeismicDataset\n",
    "from seismicpro.batchflow import Dataset, Pipeline, V, B, D, L, I\n",
    "\n",
    "from seismicpro.src import (seismic_plot,\n",
    "                            gain_plot, calculate_sdc_quality,\n",
    "                            measure_gain_amplitude, merge_segy_files\n",
    "                           )"
   ]
  },
  {
   "cell_type": "markdown",
   "metadata": {},
   "source": [
    "## Dataset"
   ]
  },
  {
   "cell_type": "markdown",
   "metadata": {},
   "source": [
    "For this task we make use of Dataset 1 for processing testing. It contains several records with various amplitude range:"
   ]
  },
  {
   "cell_type": "code",
   "execution_count": 3,
   "metadata": {},
   "outputs": [
    {
     "data": {
      "text/html": [
       "<div>\n",
       "<style scoped>\n",
       "    .dataframe tbody tr th:only-of-type {\n",
       "        vertical-align: middle;\n",
       "    }\n",
       "\n",
       "    .dataframe tbody tr th {\n",
       "        vertical-align: top;\n",
       "    }\n",
       "\n",
       "    .dataframe thead tr th {\n",
       "        text-align: left;\n",
       "    }\n",
       "\n",
       "    .dataframe thead tr:last-of-type th {\n",
       "        text-align: right;\n",
       "    }\n",
       "</style>\n",
       "<table border=\"1\" class=\"dataframe\">\n",
       "  <thead>\n",
       "    <tr>\n",
       "      <th></th>\n",
       "      <th>GroupX</th>\n",
       "      <th>Correlated</th>\n",
       "      <th>ScalarTraceHeader</th>\n",
       "      <th>SourceEnergyDirectionMantissa</th>\n",
       "      <th>TRACE_SAMPLE_INTERVAL</th>\n",
       "      <th>GainType</th>\n",
       "      <th>GeophoneGroupNumberRoll1</th>\n",
       "      <th>SourceUpholeTime</th>\n",
       "      <th>LowCutFrequency</th>\n",
       "      <th>LowCutSlope</th>\n",
       "      <th>...</th>\n",
       "      <th>SweepTraceTaperLengthStart</th>\n",
       "      <th>SweepType</th>\n",
       "      <th>DataUse</th>\n",
       "      <th>OverTravel</th>\n",
       "      <th>SweepLength</th>\n",
       "      <th>SourceMeasurementUnit</th>\n",
       "      <th>SourceWaterDepth</th>\n",
       "      <th>NSummedTraces</th>\n",
       "      <th>TRACE_SEQUENCE_FILE</th>\n",
       "      <th>file_id</th>\n",
       "    </tr>\n",
       "    <tr>\n",
       "      <th></th>\n",
       "      <th></th>\n",
       "      <th></th>\n",
       "      <th></th>\n",
       "      <th></th>\n",
       "      <th></th>\n",
       "      <th></th>\n",
       "      <th></th>\n",
       "      <th></th>\n",
       "      <th></th>\n",
       "      <th></th>\n",
       "      <th>...</th>\n",
       "      <th></th>\n",
       "      <th></th>\n",
       "      <th></th>\n",
       "      <th></th>\n",
       "      <th></th>\n",
       "      <th></th>\n",
       "      <th></th>\n",
       "      <th></th>\n",
       "      <th>raw</th>\n",
       "      <th>raw</th>\n",
       "    </tr>\n",
       "    <tr>\n",
       "      <th>FieldRecord</th>\n",
       "      <th></th>\n",
       "      <th></th>\n",
       "      <th></th>\n",
       "      <th></th>\n",
       "      <th></th>\n",
       "      <th></th>\n",
       "      <th></th>\n",
       "      <th></th>\n",
       "      <th></th>\n",
       "      <th></th>\n",
       "      <th></th>\n",
       "      <th></th>\n",
       "      <th></th>\n",
       "      <th></th>\n",
       "      <th></th>\n",
       "      <th></th>\n",
       "      <th></th>\n",
       "      <th></th>\n",
       "      <th></th>\n",
       "      <th></th>\n",
       "      <th></th>\n",
       "    </tr>\n",
       "  </thead>\n",
       "  <tbody>\n",
       "    <tr>\n",
       "      <th>8834</th>\n",
       "      <td>1496439</td>\n",
       "      <td>0</td>\n",
       "      <td>8435</td>\n",
       "      <td>-2147483648</td>\n",
       "      <td>2000</td>\n",
       "      <td>1</td>\n",
       "      <td>0</td>\n",
       "      <td>0</td>\n",
       "      <td>30</td>\n",
       "      <td>12</td>\n",
       "      <td>...</td>\n",
       "      <td>0</td>\n",
       "      <td>0</td>\n",
       "      <td>1</td>\n",
       "      <td>0</td>\n",
       "      <td>0</td>\n",
       "      <td>0</td>\n",
       "      <td>0</td>\n",
       "      <td>1</td>\n",
       "      <td>1</td>\n",
       "      <td>/data/preproc/1_input_4_PREP_full_pipeln.sgy</td>\n",
       "    </tr>\n",
       "    <tr>\n",
       "      <th>8834</th>\n",
       "      <td>1496589</td>\n",
       "      <td>0</td>\n",
       "      <td>8435</td>\n",
       "      <td>-2147483648</td>\n",
       "      <td>2000</td>\n",
       "      <td>1</td>\n",
       "      <td>0</td>\n",
       "      <td>0</td>\n",
       "      <td>30</td>\n",
       "      <td>12</td>\n",
       "      <td>...</td>\n",
       "      <td>0</td>\n",
       "      <td>0</td>\n",
       "      <td>1</td>\n",
       "      <td>0</td>\n",
       "      <td>0</td>\n",
       "      <td>0</td>\n",
       "      <td>0</td>\n",
       "      <td>1</td>\n",
       "      <td>2</td>\n",
       "      <td>/data/preproc/1_input_4_PREP_full_pipeln.sgy</td>\n",
       "    </tr>\n",
       "    <tr>\n",
       "      <th>8834</th>\n",
       "      <td>1496738</td>\n",
       "      <td>0</td>\n",
       "      <td>8435</td>\n",
       "      <td>-2147483648</td>\n",
       "      <td>2000</td>\n",
       "      <td>1</td>\n",
       "      <td>0</td>\n",
       "      <td>0</td>\n",
       "      <td>30</td>\n",
       "      <td>12</td>\n",
       "      <td>...</td>\n",
       "      <td>0</td>\n",
       "      <td>0</td>\n",
       "      <td>1</td>\n",
       "      <td>0</td>\n",
       "      <td>0</td>\n",
       "      <td>0</td>\n",
       "      <td>0</td>\n",
       "      <td>1</td>\n",
       "      <td>3</td>\n",
       "      <td>/data/preproc/1_input_4_PREP_full_pipeln.sgy</td>\n",
       "    </tr>\n",
       "    <tr>\n",
       "      <th>8834</th>\n",
       "      <td>1496888</td>\n",
       "      <td>0</td>\n",
       "      <td>4769</td>\n",
       "      <td>-2147483648</td>\n",
       "      <td>2000</td>\n",
       "      <td>1</td>\n",
       "      <td>0</td>\n",
       "      <td>0</td>\n",
       "      <td>30</td>\n",
       "      <td>12</td>\n",
       "      <td>...</td>\n",
       "      <td>0</td>\n",
       "      <td>0</td>\n",
       "      <td>1</td>\n",
       "      <td>0</td>\n",
       "      <td>0</td>\n",
       "      <td>0</td>\n",
       "      <td>0</td>\n",
       "      <td>1</td>\n",
       "      <td>4</td>\n",
       "      <td>/data/preproc/1_input_4_PREP_full_pipeln.sgy</td>\n",
       "    </tr>\n",
       "    <tr>\n",
       "      <th>8834</th>\n",
       "      <td>1497038</td>\n",
       "      <td>0</td>\n",
       "      <td>4769</td>\n",
       "      <td>-2147483648</td>\n",
       "      <td>2000</td>\n",
       "      <td>1</td>\n",
       "      <td>0</td>\n",
       "      <td>0</td>\n",
       "      <td>30</td>\n",
       "      <td>12</td>\n",
       "      <td>...</td>\n",
       "      <td>0</td>\n",
       "      <td>0</td>\n",
       "      <td>1</td>\n",
       "      <td>0</td>\n",
       "      <td>0</td>\n",
       "      <td>0</td>\n",
       "      <td>0</td>\n",
       "      <td>1</td>\n",
       "      <td>5</td>\n",
       "      <td>/data/preproc/1_input_4_PREP_full_pipeln.sgy</td>\n",
       "    </tr>\n",
       "  </tbody>\n",
       "</table>\n",
       "<p>5 rows × 91 columns</p>\n",
       "</div>"
      ],
      "text/plain": [
       "              GroupX Correlated ScalarTraceHeader  \\\n",
       "                                                    \n",
       "FieldRecord                                         \n",
       "8834         1496439          0              8435   \n",
       "8834         1496589          0              8435   \n",
       "8834         1496738          0              8435   \n",
       "8834         1496888          0              4769   \n",
       "8834         1497038          0              4769   \n",
       "\n",
       "            SourceEnergyDirectionMantissa TRACE_SAMPLE_INTERVAL GainType  \\\n",
       "                                                                           \n",
       "FieldRecord                                                                \n",
       "8834                          -2147483648                  2000        1   \n",
       "8834                          -2147483648                  2000        1   \n",
       "8834                          -2147483648                  2000        1   \n",
       "8834                          -2147483648                  2000        1   \n",
       "8834                          -2147483648                  2000        1   \n",
       "\n",
       "            GeophoneGroupNumberRoll1 SourceUpholeTime LowCutFrequency  \\\n",
       "                                                                        \n",
       "FieldRecord                                                             \n",
       "8834                               0                0              30   \n",
       "8834                               0                0              30   \n",
       "8834                               0                0              30   \n",
       "8834                               0                0              30   \n",
       "8834                               0                0              30   \n",
       "\n",
       "            LowCutSlope  ... SweepTraceTaperLengthStart SweepType DataUse  \\\n",
       "                         ...                                                \n",
       "FieldRecord              ...                                                \n",
       "8834                 12  ...                          0         0       1   \n",
       "8834                 12  ...                          0         0       1   \n",
       "8834                 12  ...                          0         0       1   \n",
       "8834                 12  ...                          0         0       1   \n",
       "8834                 12  ...                          0         0       1   \n",
       "\n",
       "            OverTravel SweepLength SourceMeasurementUnit SourceWaterDepth  \\\n",
       "                                                                            \n",
       "FieldRecord                                                                 \n",
       "8834                 0           0                     0                0   \n",
       "8834                 0           0                     0                0   \n",
       "8834                 0           0                     0                0   \n",
       "8834                 0           0                     0                0   \n",
       "8834                 0           0                     0                0   \n",
       "\n",
       "            NSummedTraces TRACE_SEQUENCE_FILE  \\\n",
       "                                          raw   \n",
       "FieldRecord                                     \n",
       "8834                    1                   1   \n",
       "8834                    1                   2   \n",
       "8834                    1                   3   \n",
       "8834                    1                   4   \n",
       "8834                    1                   5   \n",
       "\n",
       "                                                  file_id  \n",
       "                                                      raw  \n",
       "FieldRecord                                                \n",
       "8834         /data/preproc/1_input_4_PREP_full_pipeln.sgy  \n",
       "8834         /data/preproc/1_input_4_PREP_full_pipeln.sgy  \n",
       "8834         /data/preproc/1_input_4_PREP_full_pipeln.sgy  \n",
       "8834         /data/preproc/1_input_4_PREP_full_pipeln.sgy  \n",
       "8834         /data/preproc/1_input_4_PREP_full_pipeln.sgy  \n",
       "\n",
       "[5 rows x 91 columns]"
      ]
     },
     "execution_count": 3,
     "metadata": {},
     "output_type": "execute_result"
    }
   ],
   "source": [
    "path_raw = '/data/preproc/1_input_4_PREP_full_pipeln.sgy'\n",
    "field_index = FieldIndex(name='raw', path=path_raw, extra_headers='all')\n",
    "field_set = SeismicDataset(field_index, SeismicBatch)\n",
    "\n",
    "field_index.head()"
   ]
  },
  {
   "cell_type": "markdown",
   "metadata": {},
   "source": [
    "## Pipeline"
   ]
  },
  {
   "cell_type": "markdown",
   "metadata": {},
   "source": [
    "For spherical divergence correction we'll use predefined speed values:"
   ]
  },
  {
   "cell_type": "code",
   "execution_count": 4,
   "metadata": {},
   "outputs": [],
   "source": [
    "speed = np.array([1524]*700 + [1924.5]*300 + [2184.0]*400 +  [2339.6]*400 + \n",
    "                 [2676]*150 + [2889.5]*2250 + [3566]*2800 + [4785.3]*1000)"
   ]
  },
  {
   "cell_type": "markdown",
   "metadata": {},
   "source": [
    "In this pipeline we preform spherical divergence correction (SDC) and remove traces that contain more than 50 consequent zero values, then save the results. Parameters for SDC are calculated via optimization procedure only once for all dataset in `before` instance of pipeline."
   ]
  },
  {
   "cell_type": "code",
   "execution_count": 5,
   "metadata": {},
   "outputs": [
    {
     "data": {
      "text/plain": [
       "<seismicpro.batchflow.batchflow.once_pipeline.OncePipeline at 0x7f04e1d49978>"
      ]
     },
     "execution_count": 5,
     "metadata": {},
     "output_type": "execute_result"
    }
   ],
   "source": [
    "tmp_dump_path = '/data/preproc/tmp/'\n",
    "output_path = '/data/preproc/processed/merged.sgy'\n",
    "\n",
    "first_preproc_ppl = (\n",
    "    field_set.pipeline()\n",
    "    .init_variable('sdc_params')\n",
    "    .load(fmt='sgy', components='raw')\n",
    "    .correct_spherical_divergence(src='raw', dst='raw', speed=speed, params=V('sdc_params'))\n",
    "    .drop_zero_traces(src='raw', dst='raw', num_zero=50)\n",
    "    .dump(path=L(lambda x: os.path.join(tmp_dump_path, str(x) + '.sgy'))(I()),\n",
    "          src='raw', fmt='segy', split=False)\n",
    "    .run_later(batch_size=1, n_epochs=1, shuffle=False, drop_last=False, bar=True)\n",
    "    )\n",
    "\n",
    "(first_preproc_ppl.before\n",
    "                  .find_sdc_params(components='raw', speed=speed, loss=calculate_sdc_quality, initial_point=(2, 1), save_to=V('sdc_params')))"
   ]
  },
  {
   "cell_type": "markdown",
   "metadata": {},
   "source": [
    "Let's run it:"
   ]
  },
  {
   "cell_type": "code",
   "execution_count": 6,
   "metadata": {},
   "outputs": [
    {
     "name": "stderr",
     "output_type": "stream",
     "text": [
      "100%|██████████| 30/30 [01:52<00:00,  1.86s/it]\n"
     ]
    },
    {
     "data": {
      "text/plain": [
       "<seismicpro.batchflow.batchflow.pipeline.Pipeline at 0x7f04e1d49898>"
      ]
     },
     "execution_count": 6,
     "metadata": {},
     "output_type": "execute_result"
    }
   ],
   "source": [
    "first_preproc_ppl.run()"
   ]
  },
  {
   "cell_type": "code",
   "execution_count": 7,
   "metadata": {},
   "outputs": [
    {
     "name": "stderr",
     "output_type": "stream",
     "text": [
      "100%|██████████| 30/30 [00:26<00:00,  1.78it/s]\n"
     ]
    }
   ],
   "source": [
    "output_path = '/data/preproc/processed/merged.sgy'\n",
    "merge_segy_files(output_path=output_path, extra_headers='all',\n",
    "                 path=os.path.join(tmp_dump_path, '*.sgy'))"
   ]
  },
  {
   "cell_type": "markdown",
   "metadata": {},
   "source": [
    "We'll use results of the previous pipeline as input for the next one:"
   ]
  },
  {
   "cell_type": "code",
   "execution_count": 8,
   "metadata": {},
   "outputs": [],
   "source": [
    "field_index = FieldIndex(name='raw', path=output_path, extra_headers='all')\n",
    "field_set = SeismicDataset(field_index, SeismicBatch)"
   ]
  },
  {
   "cell_type": "markdown",
   "metadata": {},
   "source": [
    "This pipeline calculated parameters for equalization in `before` instance and applies them to each batch in main pipeline:"
   ]
  },
  {
   "cell_type": "code",
   "execution_count": 9,
   "metadata": {},
   "outputs": [
    {
     "data": {
      "text/plain": [
       "<seismicpro.batchflow.batchflow.once_pipeline.OncePipeline at 0x7f04e1c63400>"
      ]
     },
     "execution_count": 9,
     "metadata": {},
     "output_type": "execute_result"
    }
   ],
   "source": [
    "output_path = '/data/preproc/processed/final.sgy'\n",
    "\n",
    "second_preproc_ppl = (\n",
    "    field_set.pipeline()\n",
    "    .load(fmt='sgy', components='raw')\n",
    "    .equalize(src='raw', dst='raw', params=V('equal_params'))\n",
    "    .dump(path=L(lambda x: os.path.join(tmp_dump_path, str(x) + '.sgy'))(I()),\n",
    "          src='raw', fmt='segy', split=False)\n",
    "    .run_later(batch_size=1, n_epochs=1, shuffle=False, drop_last=False, bar=True)\n",
    ")\n",
    "\n",
    "(second_preproc_ppl.before\n",
    "                   .find_equalization_params(component='raw', record_id='YearDataRecorded', save_to=V('equal_params')))"
   ]
  },
  {
   "cell_type": "markdown",
   "metadata": {},
   "source": [
    "Run equalization:"
   ]
  },
  {
   "cell_type": "code",
   "execution_count": 10,
   "metadata": {},
   "outputs": [
    {
     "name": "stderr",
     "output_type": "stream",
     "text": [
      "  0%|          | 0/30 [00:00<?, ?it/s]WARNING:root:Pipeline variable 'equal_params' has not been initialized\n",
      "100%|██████████| 30/30 [00:44<00:00,  1.23s/it]\n"
     ]
    },
    {
     "data": {
      "text/plain": [
       "<seismicpro.batchflow.batchflow.pipeline.Pipeline at 0x7f04e1c63358>"
      ]
     },
     "execution_count": 10,
     "metadata": {},
     "output_type": "execute_result"
    }
   ],
   "source": [
    "second_preproc_ppl.run()"
   ]
  },
  {
   "cell_type": "code",
   "execution_count": 11,
   "metadata": {},
   "outputs": [
    {
     "name": "stderr",
     "output_type": "stream",
     "text": [
      "100%|██████████| 30/30 [00:23<00:00,  1.75it/s]\n"
     ]
    }
   ],
   "source": [
    "merge_segy_files(output_path=output_path, extra_headers='all',\n",
    "                 path=os.path.join(tmp_dump_path, '*.sgy'))"
   ]
  },
  {
   "cell_type": "markdown",
   "metadata": {},
   "source": [
    "## Conclusion"
   ]
  },
  {
   "cell_type": "markdown",
   "metadata": {},
   "source": [
    "Current version of notebook contains preprocessing pipeline with three actions: correction for spherical divergence, removal of traces with more than 50 consecuent zeros and equalization of amplitudes."
   ]
  },
  {
   "cell_type": "markdown",
   "metadata": {},
   "source": [
    "## Suggestions for improvement"
   ]
  },
  {
   "cell_type": "markdown",
   "metadata": {},
   "source": [
    "The next step in development of pipeline is adding two more actions: correction of inverted traces and attenuation of 50/60 Hz noise.\n",
    "\n",
    "Another direction for improvement is unification of all actions in one whole pipeline."
   ]
  }
 ],
 "metadata": {
  "kernelspec": {
   "display_name": "Python 3",
   "language": "python",
   "name": "python3"
  },
  "language_info": {
   "codemirror_mode": {
    "name": "ipython",
    "version": 3
   },
   "file_extension": ".py",
   "mimetype": "text/x-python",
   "name": "python",
   "nbconvert_exporter": "python",
   "pygments_lexer": "ipython3",
   "version": "3.5.2"
  }
 },
 "nbformat": 4,
 "nbformat_minor": 2
}
