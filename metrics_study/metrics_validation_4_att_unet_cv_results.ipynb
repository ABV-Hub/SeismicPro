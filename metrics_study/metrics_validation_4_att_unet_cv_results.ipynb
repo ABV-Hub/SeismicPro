{
 "cells": [
  {
   "cell_type": "markdown",
   "metadata": {},
   "source": [
    "# Metrics validation for UnetAtt models trained on different datasets"
   ]
  },
  {
   "cell_type": "code",
   "execution_count": 1,
   "metadata": {},
   "outputs": [],
   "source": [
    "import sys\n",
    "sys.path.append('..')\n",
    "\n",
    "from functools import reduce\n",
    "\n",
    "import pandas as pd\n",
    "\n",
    "from seismicpro.batchflow import Dataset\n",
    "from seismicpro.src import SeismicBatch, FieldIndex #, seismic_plot\n",
    "\n",
    "from utils import get_cv, draw_modifications_dist, get_modifications_list, validate_all"
   ]
  },
  {
   "cell_type": "code",
   "execution_count": 2,
   "metadata": {},
   "outputs": [],
   "source": [
    "base_path = '/notebooks/egor/geolog/notebooks/processed/'  # /notebooks/tonya/gpn_metrics_study/SeismicPro/metrics_study/unet_att_results/models_output"
   ]
  },
  {
   "cell_type": "markdown",
   "metadata": {},
   "source": [
    "# Test on Dataset 1"
   ]
  },
  {
   "cell_type": "code",
   "execution_count": 3,
   "metadata": {},
   "outputs": [],
   "source": [
    "paths = {\n",
    "    'lift': '/notebooks/egor/noise_dataset_1/DN02B_SHOTS_LIFT1.sgy',\n",
    "    'raw': '/notebooks/egor/noise_dataset_1/DN02A_LIFT_AMPSCAL.sgy',\n",
    "    'm_1': base_path + 'ds1_ds1.sgy',\n",
    "    'm_2': base_path + 'ds2_ds1.sgy',\n",
    "    'm_3': base_path + 'ds3_ds1.sgy',\n",
    "}\n",
    "\n",
    "scale_lift = 1"
   ]
  },
  {
   "cell_type": "markdown",
   "metadata": {},
   "source": [
    "### Build Index"
   ]
  },
  {
   "cell_type": "code",
   "execution_count": 4,
   "metadata": {},
   "outputs": [
    {
     "name": "stdout",
     "output_type": "stream",
     "text": [
      "Fields in data: 51\n",
      "CPU times: user 1.38 s, sys: 996 ms, total: 2.38 s\n",
      "Wall time: 2.38 s\n"
     ]
    }
   ],
   "source": [
    "%%time\n",
    "\n",
    "field_index = reduce(lambda x, y: x.merge(y), \n",
    "                     (FieldIndex(name=name, path=path, extra_headers=['offset']) for name, path in paths.items()))\n",
    "print(\"Fields in data: %d\" % len(field_index))"
   ]
  },
  {
   "cell_type": "code",
   "execution_count": 5,
   "metadata": {},
   "outputs": [
    {
     "name": "stderr",
     "output_type": "stream",
     "text": [
      "../seismicpro/batchflow/batchflow/batch.py:297: UserWarning: All batch data is erased\n",
      "  warnings.warn(\"All batch data is erased\")\n"
     ]
    },
    {
     "name": "stdout",
     "output_type": "stream",
     "text": [
      "CPU times: user 43.5 s, sys: 38.8 s, total: 1min 22s\n",
      "Wall time: 1min 35s\n"
     ]
    }
   ],
   "source": [
    "%%time\n",
    "\n",
    "batch = (Dataset(field_index, SeismicBatch)\n",
    "         .next_batch(len(field_index))\n",
    "         .load(fmt='segy', components=tuple(paths.keys())))"
   ]
  },
  {
   "cell_type": "markdown",
   "metadata": {},
   "source": [
    "## Calculate metrics"
   ]
  },
  {
   "cell_type": "code",
   "execution_count": 6,
   "metadata": {},
   "outputs": [
    {
     "name": "stdout",
     "output_type": "stream",
     "text": [
      "CPU times: user 12.1 s, sys: 8.85 s, total: 21 s\n",
      "Wall time: 21 s\n"
     ]
    }
   ],
   "source": [
    "%%time\n",
    "\n",
    "res = validate_all(batch, scale_lift=scale_lift)\n",
    "df = pd.DataFrame(res)\n",
    "df.to_csv('unet_att_results/test_d1.csv')"
   ]
  },
  {
   "cell_type": "code",
   "execution_count": 7,
   "metadata": {},
   "outputs": [
    {
     "data": {
      "text/html": [
       "<div>\n",
       "<style scoped>\n",
       "    .dataframe tbody tr th:only-of-type {\n",
       "        vertical-align: middle;\n",
       "    }\n",
       "\n",
       "    .dataframe tbody tr th {\n",
       "        vertical-align: top;\n",
       "    }\n",
       "\n",
       "    .dataframe thead th {\n",
       "        text-align: right;\n",
       "    }\n",
       "</style>\n",
       "<table border=\"1\" class=\"dataframe\">\n",
       "  <thead>\n",
       "    <tr style=\"text-align: right;\">\n",
       "      <th></th>\n",
       "      <th>LIFT</th>\n",
       "      <th>M_1</th>\n",
       "      <th>M_2</th>\n",
       "      <th>M_3</th>\n",
       "      <th>RAW</th>\n",
       "    </tr>\n",
       "  </thead>\n",
       "  <tbody>\n",
       "    <tr>\n",
       "      <th>0</th>\n",
       "      <td>0.0</td>\n",
       "      <td>0.371800</td>\n",
       "      <td>0.569269</td>\n",
       "      <td>0.509314</td>\n",
       "      <td>1.225579</td>\n",
       "    </tr>\n",
       "    <tr>\n",
       "      <th>1</th>\n",
       "      <td>0.0</td>\n",
       "      <td>1.360453</td>\n",
       "      <td>1.360453</td>\n",
       "      <td>1.360453</td>\n",
       "      <td>1.360453</td>\n",
       "    </tr>\n",
       "    <tr>\n",
       "      <th>2</th>\n",
       "      <td>0.0</td>\n",
       "      <td>0.888706</td>\n",
       "      <td>0.888706</td>\n",
       "      <td>0.888706</td>\n",
       "      <td>0.888706</td>\n",
       "    </tr>\n",
       "    <tr>\n",
       "      <th>3</th>\n",
       "      <td>0.0</td>\n",
       "      <td>0.246082</td>\n",
       "      <td>0.246082</td>\n",
       "      <td>0.246082</td>\n",
       "      <td>0.246082</td>\n",
       "    </tr>\n",
       "    <tr>\n",
       "      <th>4</th>\n",
       "      <td>0.0</td>\n",
       "      <td>0.390008</td>\n",
       "      <td>0.803365</td>\n",
       "      <td>0.644757</td>\n",
       "      <td>2.737518</td>\n",
       "    </tr>\n",
       "  </tbody>\n",
       "</table>\n",
       "</div>"
      ],
      "text/plain": [
       "   LIFT       M_1       M_2       M_3       RAW\n",
       "0   0.0  0.371800  0.569269  0.509314  1.225579\n",
       "1   0.0  1.360453  1.360453  1.360453  1.360453\n",
       "2   0.0  0.888706  0.888706  0.888706  0.888706\n",
       "3   0.0  0.246082  0.246082  0.246082  0.246082\n",
       "4   0.0  0.390008  0.803365  0.644757  2.737518"
      ]
     },
     "execution_count": 7,
     "metadata": {},
     "output_type": "execute_result"
    }
   ],
   "source": [
    "df.head()"
   ]
  },
  {
   "cell_type": "code",
   "execution_count": 8,
   "metadata": {},
   "outputs": [],
   "source": [
    "df.to_csv('unet_att_results/test_d1.csv')"
   ]
  },
  {
   "cell_type": "markdown",
   "metadata": {},
   "source": [
    "# Test on Dataset 2"
   ]
  },
  {
   "cell_type": "code",
   "execution_count": 9,
   "metadata": {},
   "outputs": [],
   "source": [
    "paths = {\n",
    "    'lift': '/data/NA/noise_dataset_2/D02_Lift_SP.sgy',\n",
    "    'raw': '/data/NA/noise_dataset_2/D01_for_Lift.sgy',\n",
    "    'm_1': base_path + 'ds1_ds2.sgy',\n",
    "    'm_2': base_path + 'ds2_ds2.sgy',\n",
    "    'm_3': base_path + 'ds3_ds2.sgy',\n",
    "}\n",
    "\n",
    "scale_lift = 2.3182"
   ]
  },
  {
   "cell_type": "markdown",
   "metadata": {},
   "source": [
    "### Build Index"
   ]
  },
  {
   "cell_type": "code",
   "execution_count": 10,
   "metadata": {},
   "outputs": [
    {
     "name": "stdout",
     "output_type": "stream",
     "text": [
      "Fields in data: 91\n",
      "CPU times: user 764 ms, sys: 484 ms, total: 1.25 s\n",
      "Wall time: 1.24 s\n"
     ]
    }
   ],
   "source": [
    "%%time\n",
    "\n",
    "field_index = reduce(lambda x, y: x.merge(y), \n",
    "                     (FieldIndex(name=name, path=path, extra_headers=['offset']) for name, path in paths.items()))\n",
    "print(\"Fields in data: %d\" % len(field_index))"
   ]
  },
  {
   "cell_type": "code",
   "execution_count": 11,
   "metadata": {},
   "outputs": [
    {
     "name": "stdout",
     "output_type": "stream",
     "text": [
      "CPU times: user 14.4 s, sys: 11.9 s, total: 26.3 s\n",
      "Wall time: 27.1 s\n"
     ]
    }
   ],
   "source": [
    "%%time\n",
    "\n",
    "batch = (Dataset(field_index, SeismicBatch)\n",
    "         .next_batch(len(field_index))\n",
    "         .load(fmt='segy', components=tuple(paths.keys())))"
   ]
  },
  {
   "cell_type": "markdown",
   "metadata": {},
   "source": [
    "## Calculate metrics"
   ]
  },
  {
   "cell_type": "code",
   "execution_count": 12,
   "metadata": {},
   "outputs": [
    {
     "name": "stdout",
     "output_type": "stream",
     "text": [
      "CPU times: user 4.04 s, sys: 276 ms, total: 4.32 s\n",
      "Wall time: 4.32 s\n"
     ]
    }
   ],
   "source": [
    "%%time\n",
    "\n",
    "res = validate_all(batch, scale_lift=scale_lift)\n",
    "df = pd.DataFrame(res)\n",
    "\n",
    "df.to_csv('unet_att_results/test_d2.csv')"
   ]
  },
  {
   "cell_type": "markdown",
   "metadata": {},
   "source": [
    "# Test on Dataset 3"
   ]
  },
  {
   "cell_type": "code",
   "execution_count": 13,
   "metadata": {},
   "outputs": [],
   "source": [
    "paths = {\n",
    "    'lift': '/notebooks/egor/noise_dataset_3/5_NA-gr_output_lift5.sgy',\n",
    "    'raw': '/notebooks/egor/noise_dataset_3/5_NA-gr_input_raw.sgy',\n",
    "    'm_1': base_path + 'ds1_ds3.sgy',\n",
    "    'm_2': base_path + 'ds2_ds3.sgy',\n",
    "    'm_3': base_path + 'ds3_ds3.sgy',\n",
    "}\n",
    "\n",
    "scale_lift = 0.000558"
   ]
  },
  {
   "cell_type": "markdown",
   "metadata": {},
   "source": [
    "### Build Index"
   ]
  },
  {
   "cell_type": "code",
   "execution_count": 14,
   "metadata": {},
   "outputs": [
    {
     "name": "stdout",
     "output_type": "stream",
     "text": [
      "Fields in data: 201\n",
      "CPU times: user 8.49 s, sys: 18.4 s, total: 26.9 s\n",
      "Wall time: 1min 26s\n"
     ]
    }
   ],
   "source": [
    "%%time\n",
    "\n",
    "field_index = reduce(lambda x, y: x.merge(y), \n",
    "                     (FieldIndex(name=name, path=path, extra_headers=['offset']) for name, path in paths.items()))\n",
    "print(\"Fields in data: %d\" % len(field_index))"
   ]
  },
  {
   "cell_type": "code",
   "execution_count": 15,
   "metadata": {},
   "outputs": [
    {
     "name": "stdout",
     "output_type": "stream",
     "text": [
      "CPU times: user 3min 10s, sys: 3min, total: 6min 10s\n",
      "Wall time: 7min 40s\n"
     ]
    }
   ],
   "source": [
    "%%time\n",
    "\n",
    "batch = (Dataset(field_index, SeismicBatch)\n",
    "         .next_batch(len(field_index))\n",
    "         .load(fmt='segy', components=tuple(paths.keys())))"
   ]
  },
  {
   "cell_type": "markdown",
   "metadata": {},
   "source": [
    "## Calculate metrics"
   ]
  },
  {
   "cell_type": "code",
   "execution_count": 16,
   "metadata": {},
   "outputs": [
    {
     "name": "stdout",
     "output_type": "stream",
     "text": [
      "CPU times: user 55.9 s, sys: 16.3 s, total: 1min 12s\n",
      "Wall time: 1min 12s\n"
     ]
    }
   ],
   "source": [
    "%%time\n",
    "\n",
    "res = validate_all(batch, scale_lift=scale_lift)\n",
    "df = pd.DataFrame(res)\n",
    "\n",
    "df.to_csv('unet_att_results/test_d3.csv')"
   ]
  },
  {
   "cell_type": "code",
   "execution_count": 17,
   "metadata": {},
   "outputs": [
    {
     "data": {
      "text/plain": [
       "<matplotlib.axes._subplots.AxesSubplot at 0x7f6bcf79e668>"
      ]
     },
     "execution_count": 17,
     "metadata": {},
     "output_type": "execute_result"
    },
    {
     "data": {
      "image/png": "[encoded data removed]",
      "text/plain": [
       "<Figure size 432x288 with 1 Axes>"
      ]
     },
     "metadata": {
      "needs_background": "light"
     },
     "output_type": "display_data"
    }
   ],
   "source": [
    "df[['M_1', 'M_2', 'M_3', 'RAW']].plot()"
   ]
  },
  {
   "cell_type": "code",
   "execution_count": 19,
   "metadata": {},
   "outputs": [
    {
     "data": {
      "text/plain": [
       "<matplotlib.axes._subplots.AxesSubplot at 0x7f6bdb6635c0>"
      ]
     },
     "execution_count": 19,
     "metadata": {},
     "output_type": "execute_result"
    },
    {
     "data": {
      "image/png": "[encoded data removed]",
      "text/plain": [
       "<Figure size 432x288 with 1 Axes>"
      ]
     },
     "metadata": {
      "needs_background": "light"
     },
     "output_type": "display_data"
    }
   ],
   "source": [
    "df[['M_1', 'M_2', 'M_3']].plot()"
   ]
  }
 ],
 "metadata": {
  "kernelspec": {
   "display_name": "Python 3",
   "language": "python",
   "name": "python3"
  },
  "language_info": {
   "codemirror_mode": {
    "name": "ipython",
    "version": 3
   },
   "file_extension": ".py",
   "mimetype": "text/x-python",
   "name": "python",
   "nbconvert_exporter": "python",
   "pygments_lexer": "ipython3",
   "version": "3.5.2"
  }
 },
 "nbformat": 4,
 "nbformat_minor": 2
}
