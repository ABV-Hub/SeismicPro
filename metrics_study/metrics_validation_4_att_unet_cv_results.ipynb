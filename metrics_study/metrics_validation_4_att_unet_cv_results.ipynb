{
 "cells": [
  {
   "cell_type": "markdown",
   "metadata": {},
   "source": [
    "# Валидация метрики для оценки разницы между сейсмограммами"
   ]
  },
  {
   "cell_type": "code",
   "execution_count": 1,
   "metadata": {},
   "outputs": [],
   "source": [
    "import sys\n",
    "sys.path.append('..')\n",
    "\n",
    "from functools import reduce\n",
    "\n",
    "import pandas as pd\n",
    "\n",
    "from seismicpro.batchflow import Dataset\n",
    "from seismicpro.src import SeismicBatch, FieldIndex #, seismic_plot\n",
    "\n",
    "from utils import get_cv, draw_modifications_dist, get_modifications_list, validate_all"
   ]
  },
  {
   "cell_type": "markdown",
   "metadata": {},
   "source": [
    "## Процедура получения метрики\n",
    "\n",
    "**Расстояние между двумя спектрограммами** с равным количеством трасс и отсчетов будем вычислять по следующей процедуре\n",
    "\n",
    "* Выбрать область из 10% трасс с наименьшим офсетом, ограничить вычисления только в этой области\n",
    "* Получить спектральную плотность мощности с помощью оконного преобразования Фурье для каждой трассы для обеих спектрограмм\n",
    "* Для соответствующих значений сдвигов окна по времени и соответсвующих трасс вычислить разницу спектров в разных спектрограммах по формуле\n",
    "$$\n",
    "Dist(A_1, A_2) = \\sum_{f}\\left|{A_{1}[f]-A_{2}[f]}\\right|\n",
    "$$\n",
    "* Усреднить полученные значения по всем трассам и всем сдвигам окна по времени"
   ]
  },
  {
   "cell_type": "markdown",
   "metadata": {},
   "source": [
    "![Seismogram difference metrics](Seismogram_difference_metrics.png)"
   ]
  },
  {
   "cell_type": "markdown",
   "metadata": {},
   "source": [
    "## Заргузка данных"
   ]
  },
  {
   "cell_type": "code",
   "execution_count": 2,
   "metadata": {},
   "outputs": [],
   "source": [
    "base_path = '/notebooks/egor/geolog/notebooks/processed/'  # /notebooks/tonya/gpn_metrics_study/SeismicPro/metrics_study/unet_att_results/models_output"
   ]
  },
  {
   "cell_type": "markdown",
   "metadata": {},
   "source": [
    "# Датасет 1"
   ]
  },
  {
   "cell_type": "code",
   "execution_count": 5,
   "metadata": {},
   "outputs": [],
   "source": [
    "paths = {\n",
    "    'lift': '/notebooks/egor/noise_dataset_1/DN02B_SHOTS_LIFT1.sgy',\n",
    "    'raw': '/notebooks/egor/noise_dataset_1/DN02A_LIFT_AMPSCAL.sgy',\n",
    "    'm_1': base_path + 'ds1_ds1.sgy',\n",
    "    'm_2': base_path + 'ds2_ds1.sgy',\n",
    "    'm_3': base_path + 'ds3_ds1.sgy',\n",
    "}\n",
    "\n",
    "scale_lift = 1"
   ]
  },
  {
   "cell_type": "markdown",
   "metadata": {},
   "source": [
    "### Количество филдов в данных"
   ]
  },
  {
   "cell_type": "code",
   "execution_count": 6,
   "metadata": {},
   "outputs": [
    {
     "name": "stdout",
     "output_type": "stream",
     "text": [
      "51\n",
      "CPU times: user 2.16 s, sys: 6.77 s, total: 8.93 s\n",
      "Wall time: 41.9 s\n"
     ]
    }
   ],
   "source": [
    "%%time\n",
    "\n",
    "field_index = reduce(lambda x, y: x.merge(y), \n",
    "                     (FieldIndex(name=name, path=path, extra_headers=['offset']) for name, path in paths.items()))\n",
    "print(len(field_index))"
   ]
  },
  {
   "cell_type": "code",
   "execution_count": 7,
   "metadata": {},
   "outputs": [
    {
     "name": "stderr",
     "output_type": "stream",
     "text": [
      "../seismicpro/batchflow/batchflow/batch.py:297: UserWarning: All batch data is erased\n",
      "  warnings.warn(\"All batch data is erased\")\n"
     ]
    },
    {
     "name": "stdout",
     "output_type": "stream",
     "text": [
      "CPU times: user 33.1 s, sys: 32.2 s, total: 1min 5s\n",
      "Wall time: 1min 5s\n"
     ]
    }
   ],
   "source": [
    "%%time\n",
    "\n",
    "batch = (Dataset(field_index, SeismicBatch)\n",
    "         .next_batch(len(field_index))\n",
    "         .load(fmt='segy', components=tuple(paths.keys())))"
   ]
  },
  {
   "cell_type": "markdown",
   "metadata": {},
   "source": [
    "## Расчет метрики отностительно LIFT"
   ]
  },
  {
   "cell_type": "code",
   "execution_count": 9,
   "metadata": {},
   "outputs": [
    {
     "name": "stdout",
     "output_type": "stream",
     "text": [
      "CPU times: user 12.4 s, sys: 2.62 s, total: 15 s\n",
      "Wall time: 15 s\n"
     ]
    }
   ],
   "source": [
    "%%time\n",
    "\n",
    "res = validate_all(batch, scale_lift=scale_lift)\n",
    "df = pd.DataFrame(res)\n",
    "df.to_csv('unet_att_results/test_d1.csv')"
   ]
  },
  {
   "cell_type": "code",
   "execution_count": 10,
   "metadata": {},
   "outputs": [
    {
     "data": {
      "text/html": [
       "<div>\n",
       "<style scoped>\n",
       "    .dataframe tbody tr th:only-of-type {\n",
       "        vertical-align: middle;\n",
       "    }\n",
       "\n",
       "    .dataframe tbody tr th {\n",
       "        vertical-align: top;\n",
       "    }\n",
       "\n",
       "    .dataframe thead th {\n",
       "        text-align: right;\n",
       "    }\n",
       "</style>\n",
       "<table border=\"1\" class=\"dataframe\">\n",
       "  <thead>\n",
       "    <tr style=\"text-align: right;\">\n",
       "      <th></th>\n",
       "      <th>LIFT</th>\n",
       "      <th>M_1</th>\n",
       "      <th>M_2</th>\n",
       "      <th>M_3</th>\n",
       "      <th>RAW</th>\n",
       "    </tr>\n",
       "  </thead>\n",
       "  <tbody>\n",
       "    <tr>\n",
       "      <th>0</th>\n",
       "      <td>0.0</td>\n",
       "      <td>1.302775</td>\n",
       "      <td>13.353552</td>\n",
       "      <td>13.513022</td>\n",
       "      <td>37.275230</td>\n",
       "    </tr>\n",
       "    <tr>\n",
       "      <th>1</th>\n",
       "      <td>0.0</td>\n",
       "      <td>1.346804</td>\n",
       "      <td>9.495929</td>\n",
       "      <td>8.360824</td>\n",
       "      <td>102.046661</td>\n",
       "    </tr>\n",
       "    <tr>\n",
       "      <th>2</th>\n",
       "      <td>0.0</td>\n",
       "      <td>1.904083</td>\n",
       "      <td>20.427046</td>\n",
       "      <td>18.811398</td>\n",
       "      <td>59.836472</td>\n",
       "    </tr>\n",
       "    <tr>\n",
       "      <th>3</th>\n",
       "      <td>0.0</td>\n",
       "      <td>2.135219</td>\n",
       "      <td>20.168251</td>\n",
       "      <td>19.885483</td>\n",
       "      <td>40.233143</td>\n",
       "    </tr>\n",
       "    <tr>\n",
       "      <th>4</th>\n",
       "      <td>0.0</td>\n",
       "      <td>0.801493</td>\n",
       "      <td>8.503283</td>\n",
       "      <td>8.427192</td>\n",
       "      <td>34.394463</td>\n",
       "    </tr>\n",
       "  </tbody>\n",
       "</table>\n",
       "</div>"
      ],
      "text/plain": [
       "   LIFT       M_1        M_2        M_3         RAW\n",
       "0   0.0  1.302775  13.353552  13.513022   37.275230\n",
       "1   0.0  1.346804   9.495929   8.360824  102.046661\n",
       "2   0.0  1.904083  20.427046  18.811398   59.836472\n",
       "3   0.0  2.135219  20.168251  19.885483   40.233143\n",
       "4   0.0  0.801493   8.503283   8.427192   34.394463"
      ]
     },
     "execution_count": 10,
     "metadata": {},
     "output_type": "execute_result"
    }
   ],
   "source": [
    "df.head()"
   ]
  },
  {
   "cell_type": "code",
   "execution_count": 11,
   "metadata": {},
   "outputs": [],
   "source": [
    "df.to_csv('unet_att_results/test_d1.csv')"
   ]
  },
  {
   "cell_type": "markdown",
   "metadata": {},
   "source": [
    "# Датасет 2"
   ]
  },
  {
   "cell_type": "code",
   "execution_count": 13,
   "metadata": {},
   "outputs": [],
   "source": [
    "paths = {\n",
    "    'lift': '/data/NA/noise_dataset_2/D02_Lift_SP.sgy',\n",
    "    'raw': '/data/NA/noise_dataset_2/D01_for_Lift.sgy',\n",
    "    'm_1': base_path + 'ds1_ds2.sgy',\n",
    "    'm_2': base_path + 'ds2_ds2.sgy',\n",
    "    'm_3': base_path + 'ds3_ds2.sgy',\n",
    "}\n",
    "\n",
    "scale_lift = 2.3182"
   ]
  },
  {
   "cell_type": "markdown",
   "metadata": {},
   "source": [
    "### Количество филдов в данных"
   ]
  },
  {
   "cell_type": "code",
   "execution_count": 14,
   "metadata": {},
   "outputs": [
    {
     "name": "stdout",
     "output_type": "stream",
     "text": [
      "91\n",
      "CPU times: user 1.32 s, sys: 2.18 s, total: 3.49 s\n",
      "Wall time: 13.1 s\n"
     ]
    }
   ],
   "source": [
    "%%time\n",
    "\n",
    "field_index = reduce(lambda x, y: x.merge(y), \n",
    "                     (FieldIndex(name=name, path=path, extra_headers=['offset']) for name, path in paths.items()))\n",
    "print(len(field_index))"
   ]
  },
  {
   "cell_type": "code",
   "execution_count": 15,
   "metadata": {},
   "outputs": [
    {
     "name": "stdout",
     "output_type": "stream",
     "text": [
      "CPU times: user 14.6 s, sys: 12.7 s, total: 27.3 s\n",
      "Wall time: 27.3 s\n"
     ]
    }
   ],
   "source": [
    "%%time\n",
    "\n",
    "batch = (Dataset(field_index, SeismicBatch)\n",
    "         .next_batch(len(field_index))\n",
    "         .load(fmt='segy', components=tuple(paths.keys())))"
   ]
  },
  {
   "cell_type": "markdown",
   "metadata": {},
   "source": [
    "## Расчет метрики отностительно LIFT"
   ]
  },
  {
   "cell_type": "code",
   "execution_count": 16,
   "metadata": {},
   "outputs": [
    {
     "name": "stdout",
     "output_type": "stream",
     "text": [
      "CPU times: user 4.28 s, sys: 180 ms, total: 4.46 s\n",
      "Wall time: 4.46 s\n"
     ]
    }
   ],
   "source": [
    "%%time\n",
    "\n",
    "res = validate_all(batch, scale_lift=scale_lift)\n",
    "df = pd.DataFrame(res)\n",
    "\n",
    "df.to_csv('unet_att_results/test_d2.csv')"
   ]
  },
  {
   "cell_type": "markdown",
   "metadata": {},
   "source": [
    "# Датасет 3"
   ]
  },
  {
   "cell_type": "code",
   "execution_count": 17,
   "metadata": {},
   "outputs": [],
   "source": [
    "paths = {\n",
    "    'lift': '/notebooks/egor/noise_dataset_3/5_NA-gr_output_lift5.sgy',\n",
    "    'raw': '/notebooks/egor/noise_dataset_3/5_NA-gr_input_raw.sgy',\n",
    "    'm_1': base_path + 'ds1_ds3.sgy',\n",
    "    'm_2': base_path + 'ds2_ds3.sgy',\n",
    "    'm_3': base_path + 'ds3_ds3.sgy',\n",
    "}\n",
    "\n",
    "scale_lift = 0.000558"
   ]
  },
  {
   "cell_type": "markdown",
   "metadata": {},
   "source": [
    "### Количество филдов в данных"
   ]
  },
  {
   "cell_type": "code",
   "execution_count": 18,
   "metadata": {},
   "outputs": [
    {
     "name": "stdout",
     "output_type": "stream",
     "text": [
      "201\n",
      "CPU times: user 8.31 s, sys: 19.1 s, total: 27.4 s\n",
      "Wall time: 1min 29s\n"
     ]
    }
   ],
   "source": [
    "%%time\n",
    "\n",
    "field_index = reduce(lambda x, y: x.merge(y), \n",
    "                     (FieldIndex(name=name, path=path, extra_headers=['offset']) for name, path in paths.items()))\n",
    "print(len(field_index))"
   ]
  },
  {
   "cell_type": "code",
   "execution_count": 19,
   "metadata": {},
   "outputs": [
    {
     "name": "stdout",
     "output_type": "stream",
     "text": [
      "CPU times: user 2min 56s, sys: 2min 48s, total: 5min 44s\n",
      "Wall time: 7min 55s\n"
     ]
    }
   ],
   "source": [
    "%%time\n",
    "\n",
    "batch = (Dataset(field_index, SeismicBatch)\n",
    "         .next_batch(len(field_index))\n",
    "         .load(fmt='segy', components=tuple(paths.keys())))"
   ]
  },
  {
   "cell_type": "markdown",
   "metadata": {},
   "source": [
    "## Расчет метрики отностительно LIFT"
   ]
  },
  {
   "cell_type": "code",
   "execution_count": 20,
   "metadata": {},
   "outputs": [
    {
     "name": "stdout",
     "output_type": "stream",
     "text": [
      "CPU times: user 56.5 s, sys: 16.9 s, total: 1min 13s\n",
      "Wall time: 1min 13s\n"
     ]
    }
   ],
   "source": [
    "%%time\n",
    "\n",
    "res = validate_all(batch, scale_lift=scale_lift)\n",
    "df = pd.DataFrame(res)\n",
    "\n",
    "df.to_csv('unet_att_results/test_d3.csv')"
   ]
  },
  {
   "cell_type": "code",
   "execution_count": 21,
   "metadata": {},
   "outputs": [
    {
     "data": {
      "text/plain": [
       "<matplotlib.axes._subplots.AxesSubplot at 0x7f5a5bf76be0>"
      ]
     },
     "execution_count": 21,
     "metadata": {},
     "output_type": "execute_result"
    },
    {
     "data": {
      "image/png": "[encoded data removed]",
      "text/plain": [
       "<Figure size 432x288 with 1 Axes>"
      ]
     },
     "metadata": {
      "needs_background": "light"
     },
     "output_type": "display_data"
    }
   ],
   "source": [
    "df[['M_1', 'M_2', 'M_3', 'RAW']].plot()"
   ]
  },
  {
   "cell_type": "code",
   "execution_count": 22,
   "metadata": {},
   "outputs": [
    {
     "data": {
      "text/html": [
       "<div>\n",
       "<style scoped>\n",
       "    .dataframe tbody tr th:only-of-type {\n",
       "        vertical-align: middle;\n",
       "    }\n",
       "\n",
       "    .dataframe tbody tr th {\n",
       "        vertical-align: top;\n",
       "    }\n",
       "\n",
       "    .dataframe thead th {\n",
       "        text-align: right;\n",
       "    }\n",
       "</style>\n",
       "<table border=\"1\" class=\"dataframe\">\n",
       "  <thead>\n",
       "    <tr style=\"text-align: right;\">\n",
       "      <th></th>\n",
       "      <th>m_1</th>\n",
       "      <th>m_2</th>\n",
       "      <th>m_3</th>\n",
       "      <th>raw</th>\n",
       "    </tr>\n",
       "  </thead>\n",
       "  <tbody>\n",
       "    <tr>\n",
       "      <th>0</th>\n",
       "      <td>10.311097</td>\n",
       "      <td>10.311097</td>\n",
       "      <td>10.311097</td>\n",
       "      <td>13.905980</td>\n",
       "    </tr>\n",
       "    <tr>\n",
       "      <th>1</th>\n",
       "      <td>7.750843</td>\n",
       "      <td>7.750843</td>\n",
       "      <td>7.750843</td>\n",
       "      <td>22.506874</td>\n",
       "    </tr>\n",
       "    <tr>\n",
       "      <th>2</th>\n",
       "      <td>11.925586</td>\n",
       "      <td>11.925586</td>\n",
       "      <td>11.925586</td>\n",
       "      <td>11.925591</td>\n",
       "    </tr>\n",
       "    <tr>\n",
       "      <th>3</th>\n",
       "      <td>9.907780</td>\n",
       "      <td>8.933208</td>\n",
       "      <td>8.933208</td>\n",
       "      <td>15.368940</td>\n",
       "    </tr>\n",
       "    <tr>\n",
       "      <th>4</th>\n",
       "      <td>9.033056</td>\n",
       "      <td>9.033056</td>\n",
       "      <td>9.033056</td>\n",
       "      <td>9.033056</td>\n",
       "    </tr>\n",
       "  </tbody>\n",
       "</table>\n",
       "</div>"
      ],
      "text/plain": [
       "         m_1        m_2        m_3        raw\n",
       "0  10.311097  10.311097  10.311097  13.905980\n",
       "1   7.750843   7.750843   7.750843  22.506874\n",
       "2  11.925586  11.925586  11.925586  11.925591\n",
       "3   9.907780   8.933208   8.933208  15.368940\n",
       "4   9.033056   9.033056   9.033056   9.033056"
      ]
     },
     "execution_count": 22,
     "metadata": {},
     "output_type": "execute_result"
    }
   ],
   "source": [
    "res2 = [{c: np.max(np.abs(batch.__getattr__(c)[i] * s - batch.lift[i] * scale_lift)) \n",
    "        for c, s in zip(('m_1', 'm_2', 'm_3', 'raw'), (1, 1, 1, scale_lift))}\n",
    "        for i in range(len(batch.index))]\n",
    "\n",
    "df2 = pd.DataFrame(res2)\n",
    "\n",
    "df2.head()"
   ]
  },
  {
   "cell_type": "code",
   "execution_count": 23,
   "metadata": {},
   "outputs": [
    {
     "data": {
      "text/plain": [
       "<matplotlib.axes._subplots.AxesSubplot at 0x7f56b47d6c88>"
      ]
     },
     "execution_count": 23,
     "metadata": {},
     "output_type": "execute_result"
    },
    {
     "data": {
      "image/png": "[encoded data removed]",
      "text/plain": [
       "<Figure size 432x288 with 1 Axes>"
      ]
     },
     "metadata": {
      "needs_background": "light"
     },
     "output_type": "display_data"
    }
   ],
   "source": [
    "df2.plot()"
   ]
  },
  {
   "cell_type": "code",
   "execution_count": null,
   "metadata": {},
   "outputs": [],
   "source": []
  }
 ],
 "metadata": {
  "kernelspec": {
   "display_name": "Python 3",
   "language": "python",
   "name": "python3"
  },
  "language_info": {
   "codemirror_mode": {
    "name": "ipython",
    "version": 3
   },
   "file_extension": ".py",
   "mimetype": "text/x-python",
   "name": "python",
   "nbconvert_exporter": "python",
   "pygments_lexer": "ipython3",
   "version": "3.5.2"
  }
 },
 "nbformat": 4,
 "nbformat_minor": 2
}
