{
 "cells": [
  {
   "cell_type": "code",
   "execution_count": 1,
   "metadata": {},
   "outputs": [],
   "source": [
    "import os\n",
    "import sys\n",
    "\n",
    "sys.path.append('../..')\n",
    "\n",
    "from seismicpro.batchflow import Dataset, DatasetIndex, Pipeline, V, B, L, I, W, P, R, D\n",
    "\n",
    "from seismicpro.src import SeismicBatch, SeismicDataset, FieldIndex, merge_segy_files"
   ]
  },
  {
   "cell_type": "code",
   "execution_count": 2,
   "metadata": {},
   "outputs": [
    {
     "name": "stderr",
     "output_type": "stream",
     "text": [
      "  0%|          | 0/4 [00:00<?, ?it/s]../../seismicpro/batchflow/batchflow/batch.py:297: UserWarning: All batch data is erased\n",
      "  warnings.warn(\"All batch data is erased\")\n",
      "100%|██████████| 4/4 [00:52<00:00, 12.97s/it]\n",
      "100%|██████████| 4/4 [00:05<00:00,  1.45s/it]\n",
      "100%|██████████| 4/4 [00:04<00:00,  1.10s/it]\n",
      "100%|██████████| 4/4 [00:51<00:00, 12.64s/it]\n",
      "100%|██████████| 4/4 [00:05<00:00,  1.41s/it]\n",
      "100%|██████████| 4/4 [00:04<00:00,  1.12s/it]\n",
      "100%|██████████| 2/2 [00:20<00:00, 11.82s/it]\n",
      "100%|██████████| 2/2 [00:02<00:00,  1.52s/it]\n",
      "100%|██████████| 2/2 [00:02<00:00,  1.46s/it]\n",
      "100%|██████████| 2/2 [00:20<00:00, 11.87s/it]\n",
      "100%|██████████| 2/2 [00:02<00:00,  1.57s/it]\n",
      "100%|██████████| 2/2 [00:02<00:00,  1.37s/it]\n"
     ]
    }
   ],
   "source": [
    "path_raw = '../../../data/PREP/0825_50Hz_45Hz_fnum/4_PREP_input_50Hz_45Hz_fnum_0825.sgy'\n",
    "path_lift = '../../../data/PREP/0825_50Hz_45Hz_fnum/4_PREP_output_50Hz_45Hz_fnum_0825.sgy'\n",
    "\n",
    "test_path_raw = '../../../data/PREP/0815_50Hz/6_input_50h.sgy'\n",
    "test_path_lift = '../../../data/PREP/0815_50Hz/6_output_50h.sgy'\n",
    "\n",
    "tmp_dump_path = './tmp/'\n",
    "\n",
    "paths = [path_raw, path_lift, test_path_raw, test_path_lift]\n",
    "\n",
    "for p in paths:\n",
    "    # Clean the tmp directory\n",
    "    filelist = os.listdir(tmp_dump_path)\n",
    "    for f in filelist:\n",
    "        os.remove(os.path.join(tmp_dump_path, f))\n",
    "    # Generate index for sgy file\n",
    "    index_train = (FieldIndex(name='tmp', \n",
    "                    extra_headers='all',\n",
    "                    path=p))\n",
    "    # Create dataset of shot gathers\n",
    "    eq_dtst = SeismicDataset(index_train)\n",
    "    # Run pipeline to calculate equalization parameters\n",
    "    preproc_ppl = (\n",
    "        eq_dtst.pipeline()\n",
    "            .load(fmt='sgy', components='tmp')\n",
    "            .find_equalization_params(B(), component='tmp', survey_id_col='YearDataRecorded', container_name='equal_params')\n",
    "            .run(batch_size=8, n_epochs=1, shuffle=False, drop_last=False, bar=True))\n",
    "    # Run pipeline to apply equalization and save resulting data\n",
    "    eq_ppl = (\n",
    "        eq_dtst.pipeline()\n",
    "            .load(fmt='sgy', components='tmp')\n",
    "            .equalize(src='tmp', dst='tmp', params=D('equal_params'))\n",
    "            .dump(path=L(lambda x: os.path.join(tmp_dump_path, str(x) + '.sgy'))(I()),\n",
    "                  src='tmp', fmt='segy', split=False)\n",
    "            .run_later(batch_size=8, n_epochs=1, shuffle=False, drop_last=False, bar=True))\n",
    "    # Merge batch files into one nice sgy file\n",
    "    output_path = os.path.splitext(p)[0] + '_eq.sgy'\n",
    "    eq_ppl.after.merge_segy_files(output_path=output_path, extra_headers='all', path=os.path.join(tmp_dump_path, '*.sgy'))\n",
    "    \n",
    "    eq_ppl.run()"
   ]
  },
  {
   "cell_type": "code",
   "execution_count": 4,
   "metadata": {},
   "outputs": [
    {
     "data": {
      "text/plain": [
       "{2010: 2.8872700683039585,\n",
       " 99: 3.935645536837002,\n",
       " 'survey_id_col': 'YearDataRecorded'}"
      ]
     },
     "execution_count": 4,
     "metadata": {},
     "output_type": "execute_result"
    }
   ],
   "source": [
    "eq_dtst.equal_params"
   ]
  }
 ],
 "metadata": {
  "kernelspec": {
   "display_name": "Python 3",
   "language": "python",
   "name": "python3"
  },
  "language_info": {
   "codemirror_mode": {
    "name": "ipython",
    "version": 3
   },
   "file_extension": ".py",
   "mimetype": "text/x-python",
   "name": "python",
   "nbconvert_exporter": "python",
   "pygments_lexer": "ipython3",
   "version": "3.5.2"
  }
 },
 "nbformat": 4,
 "nbformat_minor": 2
}
