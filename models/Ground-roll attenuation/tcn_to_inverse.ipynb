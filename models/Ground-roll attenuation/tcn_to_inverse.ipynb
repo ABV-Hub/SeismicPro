{
 "cells": [
  {
   "cell_type": "code",
   "execution_count": 1,
   "metadata": {},
   "outputs": [],
   "source": [
    "import sys\n",
    "import torch\n",
    "import pandas as pd\n",
    "import numpy as np\n",
    "\n",
    "import matplotlib.pyplot as plt\n",
    "import segyio\n",
    "\n",
    "sys.path.append('../..')\n",
    "\n",
    "from seismicpro.batchflow import Pipeline, Dataset, B\n",
    "from seismicpro.src import SeismicBatch, FieldIndex, TraceIndex, merge_picking_files, seismic_plot, KNNIndex"
   ]
  },
  {
   "cell_type": "code",
   "execution_count": 2,
   "metadata": {},
   "outputs": [],
   "source": [
    "sys.path.append('/notebooks/kalashnikov/')\n",
    "from TCN.mnist_pixel.model import TCN\n",
    "input_channels = 1\n",
    "n_classes = 2\n",
    "nhid = 20\n",
    "levels = 8\n",
    "channel_sizes = [nhid] * levels\n",
    "kernel_size = 3\n",
    "dropout = 0\n",
    "model = TCN(input_channels, n_classes, channel_sizes, kernel_size=kernel_size, dropout=dropout)\n",
    "model.load_state_dict(torch.load('/notebooks/kalashnikov/TCN/mnist_pixel/model300', map_location='cpu'))\n",
    "\n",
    "path_raw = '/notebooks/egor/FB/Pal/Pal_Flatiron_1k.sgy'\n",
    "index = (FieldIndex(name='raw', path=path_raw, \n",
    "                    markup_path='/notebooks/egor/FB/Pal/Pal_Flatiron_1k_picking.csv'))"
   ]
  },
  {
   "cell_type": "code",
   "execution_count": 3,
   "metadata": {},
   "outputs": [],
   "source": [
    "from seismicpro.batchflow import action, inbatch_parallel\n",
    "import pandas as pd\n",
    "\n",
    "predict = lambda x: np.argmax(np.argmax(model(x).cpu().detach().numpy(), axis=1), axis=1)\n",
    "\n",
    "class InvBatch(SeismicBatch):\n",
    "    @action\n",
    "    @inbatch_parallel(init='_init_component')\n",
    "    def check_inv(self, index, model, src, dst):\n",
    "        pos = self.get_pos(None, src, index)\n",
    "        field = getattr(self, src)[pos]\n",
    "        t = torch.Tensor(field).reshape(field.shape[0], 1, field.shape[1])\n",
    "        inv_t = torch.Tensor(-field).reshape(field.shape[0], 1, field.shape[1])\n",
    "        pred = np.array([predict(t), predict(inv_t)]).T\n",
    "        traces_pred = pred.copy()\n",
    "        data = []\n",
    "        for i, (trace, inv_trace, norm_predict) in enumerate(zip(field, -field, pred)):\n",
    "            for j, (tr, pr) in enumerate([(trace, norm_predict[0]), (inv_trace, norm_predict[1])]):\n",
    "                amp_val = tr[pr]\n",
    "                if i > 0 and i < len(norm_predict):\n",
    "                    amp_left = field[i-1][pred[i-1][j]]\n",
    "                    amp_right = field[i+1][pred[i+1][j]]\n",
    "                    diff_pred_left = np.abs(pred[i][j] - pred[i-1][j])\n",
    "                    diff_pred_right = np.abs(pred[i][j] - pred[i+1][j])\n",
    "                elif i == 0:\n",
    "                    amp_left, diff_pred_left = 0, 0\n",
    "                    amp_right = field[i+1][pred[i+1][j]]\n",
    "                    diff_pred_right = np.abs(pred[i][j] - pred[i+1][j])\n",
    "                else:\n",
    "                    amp_right, diff_pred_right = 0, 0\n",
    "                    amp_left = field[i-1][pred[i-1][j]]\n",
    "                    diff_pred_left = np.abs(pred[i][j] - pred[i-1][j])\n",
    "\n",
    "                data.append([amp_val, amp_left, amp_right, diff_pred_left, diff_pred_right, j])\n",
    "        getattr(self, dst)[pos] = data\n",
    "        return self"
   ]
  },
  {
   "cell_type": "code",
   "execution_count": 4,
   "metadata": {},
   "outputs": [],
   "source": [
    "def f(a):\n",
    "    return (a - a.mean())/a.std()\n",
    "\n",
    "ppl = (Dataset(index, InvBatch).p\n",
    "         .load(components='raw', fmt='segy')\n",
    "         .load(components='markup', fmt='picks')\n",
    "         .init_variable('diff', init_on_each_run=list)\n",
    "         .apply_transform(f, src='raw')\n",
    "         .check_inv(model, src='raw', dst='diff')\n",
    "         .update_variable('diff', B('diff'), mode='e')\n",
    "        )"
   ]
  },
  {
   "cell_type": "code",
   "execution_count": 5,
   "metadata": {},
   "outputs": [],
   "source": [
    "z = ppl.next_batch(15)"
   ]
  },
  {
   "cell_type": "code",
   "execution_count": 6,
   "metadata": {},
   "outputs": [],
   "source": [
    "diff = ppl.get_variable('diff')"
   ]
  },
  {
   "cell_type": "code",
   "execution_count": 7,
   "metadata": {},
   "outputs": [],
   "source": [
    "data = np.concatenate(diff)"
   ]
  },
  {
   "cell_type": "code",
   "execution_count": 8,
   "metadata": {},
   "outputs": [],
   "source": [
    "np.random.shuffle(data)\n",
    "dataset, target = data[:,:-1], data[:,-1]"
   ]
  },
  {
   "cell_type": "code",
   "execution_count": 13,
   "metadata": {},
   "outputs": [],
   "source": [
    "from sklearn.model_selection import train_test_split\n",
    "from sklearn.ensemble import RandomForestClassifier\n",
    "from sklearn.linear_model import LogisticRegression\n",
    "from sklearn.metrics import accuracy_score\n",
    "\n",
    "X_train, X_test, y_train, y_test = train_test_split(dataset, target)"
   ]
  },
  {
   "cell_type": "code",
   "execution_count": 14,
   "metadata": {},
   "outputs": [
    {
     "data": {
      "text/plain": [
       "LogisticRegression(C=1.0, class_weight=None, dual=False, fit_intercept=True,\n",
       "          intercept_scaling=1, max_iter=100, multi_class='ovr', n_jobs=1,\n",
       "          penalty='l2', random_state=None, solver='liblinear', tol=0.0001,\n",
       "          verbose=0, warm_start=False)"
      ]
     },
     "execution_count": 14,
     "metadata": {},
     "output_type": "execute_result"
    }
   ],
   "source": [
    "tree = LogisticRegression()\n",
    "tree.fit(X_train, y_train)"
   ]
  },
  {
   "cell_type": "code",
   "execution_count": 15,
   "metadata": {},
   "outputs": [],
   "source": [
    "pred = tree.predict(X_test)"
   ]
  },
  {
   "cell_type": "code",
   "execution_count": 17,
   "metadata": {},
   "outputs": [
    {
     "data": {
      "text/plain": [
       "0.9719923615531508"
      ]
     },
     "execution_count": 17,
     "metadata": {},
     "output_type": "execute_result"
    }
   ],
   "source": [
    "accuracy_score(y_test, pred)"
   ]
  }
 ],
 "metadata": {
  "kernelspec": {
   "display_name": "Python 3",
   "language": "python",
   "name": "python3"
  },
  "language_info": {
   "codemirror_mode": {
    "name": "ipython",
    "version": 3
   },
   "file_extension": ".py",
   "mimetype": "text/x-python",
   "name": "python",
   "nbconvert_exporter": "python",
   "pygments_lexer": "ipython3",
   "version": "3.5.2"
  }
 },
 "nbformat": 4,
 "nbformat_minor": 2
}
