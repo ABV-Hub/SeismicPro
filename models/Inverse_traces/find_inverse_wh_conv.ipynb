{
 "cells": [
  {
   "cell_type": "code",
   "execution_count": 1,
   "metadata": {},
   "outputs": [
    {
     "name": "stdout",
     "output_type": "stream",
     "text": [
      "env: CUDA_VISIBLE_DEVICES=2\n"
     ]
    }
   ],
   "source": [
    "import sys\n",
    "import pandas as pd\n",
    "import numpy as np\n",
    "import matplotlib.pyplot as plt\n",
    "\n",
    "import torch\n",
    "from sklearn.model_selection import train_test_split\n",
    "from sklearn.ensemble import RandomForestClassifier\n",
    "from sklearn.linear_model import LinearRegression\n",
    "from sklearn.metrics import accuracy_score, classification_report\n",
    "\n",
    "sys.path.append('../..')\n",
    "\n",
    "from seismicpro.batchflow import Pipeline, Dataset, B, V\n",
    "from seismicpro.batchflow.models.torch import VGG7\n",
    "from seismicpro.src import TraceIndex\n",
    "from seismicpro.src.seismic_batch_2 import (SeismicBatch,\n",
    "                                            seismic_plot)\n",
    "from inverse_batch import InverseBatch, predict, crop_trace\n",
    "%env CUDA_VISIBLE_DEVICES=2"
   ]
  },
  {
   "cell_type": "code",
   "execution_count": 2,
   "metadata": {},
   "outputs": [],
   "source": [
    "path_raw = '/notebooks/egor/FB/Pal/Pal_Flatiron_1k.sgy'\n",
    "trace_index = TraceIndex(name='raw', path=path_raw, extra_headers=['offset'])"
   ]
  },
  {
   "cell_type": "code",
   "execution_count": 3,
   "metadata": {},
   "outputs": [],
   "source": [
    "from seismicpro.batchflow import action, inbatch_parallel\n",
    "\n",
    "class InverseBatch(SeismicBatch):\n",
    "    @action\n",
    "    @inbatch_parallel(init='_init_component')\n",
    "    def inv_traces(self, index, src, dst, p=.5):\n",
    "        pos = self.get_pos(None, src, index)\n",
    "        trace = getattr(self, src)[pos]\n",
    "        if np.random.choice([0, 1], p=(1-p, p)):\n",
    "            getattr(self, dst[0])[pos] = (-1) * trace\n",
    "            getattr(self, dst[1])[pos] = 1\n",
    "        else:\n",
    "            getattr(self, dst[0])[pos] = trace\n",
    "            getattr(self, dst[1])[pos] = 0\n",
    "\n",
    "    @action\n",
    "    def preprocess_component(self, src, dst):\n",
    "        \"\"\"Prepeare data for loading into torch models.\"\"\"\n",
    "        data = getattr(self, src)\n",
    "        data_dst = np.stack(data).astype(np.float32)\n",
    "        setattr(self, dst, data_dst)\n",
    "        return self\n",
    "    \n",
    "    @action\n",
    "    def preprocess_answers(self, src, dst):\n",
    "        data = getattr(self, src)\n",
    "        data_res = data\n",
    "        setattr(self, dst, data_res.astype(np.int32))\n",
    "        return self\n",
    "\n",
    "    @action\n",
    "    def normalize_traces(self, src, dst, drop_nan=None):\n",
    "        data = getattr(self, src)\n",
    "        shape = np.stack(data).shape\n",
    "        data = np.vstack(data)\n",
    "        dst_data = (data - np.mean(data, axis=1)[:, np.newaxis]) / \\\n",
    "                    np.std(data, axis=1)[:, np.newaxis]\n",
    "        if drop_nan is not None:\n",
    "            mask = np.argwhere(np.sum(np.isnan(dst_data), axis=1) > 0).flatten()\n",
    "            for i in range(len(mask)):\n",
    "                dst_data[mask[i]] = dst_data[mask[i] - (-1) ** i]\n",
    "        dst_data = dst_data.reshape(shape)\n",
    "        setattr(self, dst, np.array([i for i in dst_data] + [None])[:-1])\n",
    "        return self"
   ]
  },
  {
   "cell_type": "code",
   "execution_count": 33,
   "metadata": {},
   "outputs": [],
   "source": [
    "train_subset = range(0, 60000)\n",
    "train_index = trace_index.create_subset(trace_index.indices[train_subset])\n",
    "train_data = Dataset(TraceIndex((train_index)), InverseBatch)\n",
    "\n",
    "test_index = TraceIndex(trace_index.create_subset(trace_index.indices[70000:80000]))\n",
    "test_data = Dataset(test_index, InverseBatch)"
   ]
  },
  {
   "cell_type": "code",
   "execution_count": 5,
   "metadata": {},
   "outputs": [],
   "source": [
    "prep_ppl = (Pipeline()\n",
    "          .load(components='raw', fmt='segy')\n",
    "          .inv_traces(src='raw', dst=['raw', 'labels'])\n",
    "          .preprocess_component(src='raw', dst='raw')\n",
    "          .preprocess_answers(src='labels', dst='labels')\n",
    ")"
   ]
  },
  {
   "cell_type": "code",
   "execution_count": 6,
   "metadata": {},
   "outputs": [],
   "source": [
    "inputs_config = {\n",
    "    'raw': {'shape': (1, 751)}, \n",
    "    'masks': {'shape': (),\n",
    "              'classes': 2,\n",
    "              'data_format': 'f',\n",
    "              'name': 'targets'}\n",
    "    }\n",
    "\n",
    "config = {\n",
    "    'loss': 'ce',\n",
    "    'inputs': inputs_config,\n",
    "    'initial_block/inputs': 'raw',\n",
    "    'optimizer': ('Adam', {'lr': 0.001}),\n",
    "    'head': dict(num_classes=2),\n",
    "   'device': 'cuda',\n",
    "}"
   ]
  },
  {
   "cell_type": "code",
   "execution_count": 7,
   "metadata": {},
   "outputs": [],
   "source": [
    "train_ppl = prep_ppl + (Pipeline()\n",
    "             .init_model('dynamic', VGG7, 'model', config)\n",
    "             .init_variable('loss', init_on_each_run=list)\n",
    "             .train_model('model', B('raw'), B('labels'),  \n",
    "                          fetches='loss', save_to=V('loss', mode='a'))\n",
    ")"
   ]
  },
  {
   "cell_type": "code",
   "execution_count": 8,
   "metadata": {},
   "outputs": [],
   "source": [
    "ppl = (train_ppl << train_data)"
   ]
  },
  {
   "cell_type": "code",
   "execution_count": 9,
   "metadata": {},
   "outputs": [
    {
     "name": "stderr",
     "output_type": "stream",
     "text": [
      "100%|█████████▉| 2999/3000 [22:11<00:00,  2.30it/s]\n"
     ]
    },
    {
     "data": {
      "text/plain": [
       "<seismicpro.batchflow.batchflow.pipeline.Pipeline at 0x7fc1aff4e908>"
      ]
     },
     "execution_count": 9,
     "metadata": {},
     "output_type": "execute_result"
    }
   ],
   "source": [
    "ppl.run(400, n_epochs=20, shuffle=True, drop_last=True, bar=True)"
   ]
  },
  {
   "cell_type": "code",
   "execution_count": 10,
   "metadata": {},
   "outputs": [
    {
     "data": {
      "text/plain": [
       "[<matplotlib.lines.Line2D at 0x7fc1a819aa58>]"
      ]
     },
     "execution_count": 10,
     "metadata": {},
     "output_type": "execute_result"
    },
    {
     "data": {
      "image/png": "[encoded data removed]",
      "text/plain": [
       "<Figure size 432x288 with 1 Axes>"
      ]
     },
     "metadata": {
      "needs_background": "light"
     },
     "output_type": "display_data"
    }
   ],
   "source": [
    "plt.plot(ppl.get_variable('loss'))"
   ]
  },
  {
   "cell_type": "code",
   "execution_count": null,
   "metadata": {},
   "outputs": [],
   "source": [
    "m = ppl.get_model_by_name('model').model"
   ]
  },
  {
   "cell_type": "code",
   "execution_count": null,
   "metadata": {},
   "outputs": [],
   "source": [
    "b = (prep_ppl << train_data).next_batch(400, shuffle=True)"
   ]
  },
  {
   "cell_type": "code",
   "execution_count": null,
   "metadata": {},
   "outputs": [],
   "source": [
    "import torch\n",
    "sigm = torch.nn.Sigmoid()\n",
    "inp = torch.Tensor(b.raw).to('cuda')\n",
    "out = sigm(m(inp))"
   ]
  },
  {
   "cell_type": "code",
   "execution_count": null,
   "metadata": {},
   "outputs": [],
   "source": [
    "pred = np.array(out.cpu().detach().numpy()[:, 1]>.5, dtype=np.int32)"
   ]
  },
  {
   "cell_type": "code",
   "execution_count": null,
   "metadata": {},
   "outputs": [],
   "source": [
    "from sklearn.metrics import classification_report"
   ]
  },
  {
   "cell_type": "code",
   "execution_count": null,
   "metadata": {},
   "outputs": [],
   "source": [
    "target = b.labels"
   ]
  },
  {
   "cell_type": "code",
   "execution_count": null,
   "metadata": {},
   "outputs": [
    {
     "name": "stdout",
     "output_type": "stream",
     "text": [
      "              precision    recall  f1-score   support\n",
      "\n",
      "           0       1.00      1.00      1.00       204\n",
      "           1       1.00      1.00      1.00       196\n",
      "\n",
      "   micro avg       1.00      1.00      1.00       400\n",
      "   macro avg       1.00      1.00      1.00       400\n",
      "weighted avg       1.00      1.00      1.00       400\n",
      "\n"
     ]
    }
   ],
   "source": [
    "print(classification_report(target, pred))"
   ]
  },
  {
   "cell_type": "code",
   "execution_count": 34,
   "metadata": {},
   "outputs": [],
   "source": [
    "pred_ppl = (Pipeline()\n",
    "          .load(components='raw', fmt='segy')\n",
    "          .inv_traces(src='raw', dst=['raw', 'labels'], p=0.0001)\n",
    "          .import_model('model', ppl, 'model')\n",
    "          .preprocess_component(src='raw', dst='raw')\n",
    "          .preprocess_answers(src='labels', dst='labels')\n",
    "          .init_variable('pred', init_on_each_run=list())\n",
    "          .init_variable('labels', init_on_each_run=list())\n",
    "          .update_variable('labels', B('labels'), mode='a') \n",
    "          .predict_model('model', B('raw'),\n",
    "                         fetches='predictions',  save_to=V('pred', mode='a'))\n",
    ") << test_data"
   ]
  },
  {
   "cell_type": "code",
   "execution_count": 35,
   "metadata": {},
   "outputs": [
    {
     "name": "stderr",
     "output_type": "stream",
     "text": [
      " 96%|█████████▌| 24/25 [00:08<00:00,  2.85it/s]\n"
     ]
    }
   ],
   "source": [
    "batch = pred_ppl.run(400, drop_last=True, shuffle=True, bar=True, n_epochs=1)"
   ]
  },
  {
   "cell_type": "code",
   "execution_count": 36,
   "metadata": {},
   "outputs": [],
   "source": [
    "preds = np.array(np.concatenate(pred_ppl.get_variable('pred'))[:, 1] > .5, dtype=int)\n",
    "labels = np.concatenate(pred_ppl.get_variable('labels'))"
   ]
  },
  {
   "cell_type": "code",
   "execution_count": 37,
   "metadata": {},
   "outputs": [
    {
     "name": "stdout",
     "output_type": "stream",
     "text": [
      "              precision    recall  f1-score   support\n",
      "\n",
      "           0       1.00      1.00      1.00      9998\n",
      "           1       1.00      1.00      1.00         2\n",
      "\n",
      "   micro avg       1.00      1.00      1.00     10000\n",
      "   macro avg       1.00      1.00      1.00     10000\n",
      "weighted avg       1.00      1.00      1.00     10000\n",
      "\n"
     ]
    }
   ],
   "source": [
    "print(classification_report(labels, preds))"
   ]
  },
  {
   "cell_type": "code",
   "execution_count": 38,
   "metadata": {},
   "outputs": [
    {
     "name": "stdout",
     "output_type": "stream",
     "text": [
      "Accuracy score: 1.0\n",
      "Number of inverse traces: 2\n",
      "Number of predict inverse traces: 2\n",
      "Number of missed inverse traces: 0\n"
     ]
    }
   ],
   "source": [
    "print('Accuracy score: {:.3}'.format(accuracy_score(labels, preds)))\n",
    "print('Number of inverse traces: {}'.format(sum(labels)))\n",
    "print('Number of predict inverse traces: {}'.format(sum(preds)))\n",
    "false_neg = sum(labels[np.where(labels != preds)])\n",
    "print('Number of missed inverse traces: {}'.format(false_neg))"
   ]
  },
  {
   "cell_type": "code",
   "execution_count": null,
   "metadata": {},
   "outputs": [],
   "source": []
  }
 ],
 "metadata": {
  "kernelspec": {
   "display_name": "Python 3",
   "language": "python",
   "name": "python3"
  },
  "language_info": {
   "codemirror_mode": {
    "name": "ipython",
    "version": 3
   },
   "file_extension": ".py",
   "mimetype": "text/x-python",
   "name": "python",
   "nbconvert_exporter": "python",
   "pygments_lexer": "ipython3",
   "version": "3.5.2"
  }
 },
 "nbformat": 4,
 "nbformat_minor": 2
}
