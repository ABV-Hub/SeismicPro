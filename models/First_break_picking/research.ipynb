{
 "cells": [
  {
   "cell_type": "code",
   "execution_count": 1,
   "metadata": {},
   "outputs": [],
   "source": [
    "import sys\n",
    "import numpy as np\n",
    "\n",
    "sys.path.append('../..')\n",
    "\n",
    "from matplotlib import colors as mcolors\n",
    "from seismicpro.batchflow import Pipeline, Dataset, B, V, F, C\n",
    "from seismicpro.batchflow.models.torch import UNet\n",
    "from seismicpro.src import SeismicBatch, FieldIndex, TraceIndex, seismic_plot, CustomIndex, show_research\n",
    "from seismicpro.batchflow.research import Research, Option"
   ]
  },
  {
   "cell_type": "code",
   "execution_count": 2,
   "metadata": {},
   "outputs": [],
   "source": [
    "path_raw = '/notebooks/egor/FB/Pal/Pal_Flatiron_1k.sgy'\n",
    "markup_path = '/notebooks/egor/FB/Pal/Pal_Flatiron_1k_picking.csv'\n",
    "index = FieldIndex(name='raw', path=path_raw, markup_path=markup_path)"
   ]
  },
  {
   "cell_type": "code",
   "execution_count": 3,
   "metadata": {},
   "outputs": [],
   "source": [
    "train_index = index.create_subset(index.indices[:20])\n",
    "train_data = Dataset(TraceIndex((train_index)), SeismicBatch)"
   ]
  },
  {
   "cell_type": "code",
   "execution_count": 4,
   "metadata": {},
   "outputs": [],
   "source": [
    "test_index = index.create_subset(index.indices[20:25])\n",
    "test_data = Dataset(TraceIndex((test_index)), SeismicBatch)"
   ]
  },
  {
   "cell_type": "code",
   "execution_count": 5,
   "metadata": {},
   "outputs": [],
   "source": [
    "inputs_config = {\n",
    "    'raw': {'shape': (1, 753)}, #753 PAL\n",
    "    'mask': {'shape': (1, 753),\n",
    "              'classes': 2,\n",
    "              'data_format': 'f',\n",
    "              'name': 'targets'}\n",
    "    }\n",
    "\n",
    "config = {\n",
    "    'inputs': inputs_config,\n",
    "    'initial_block/inputs': 'raw',\n",
    "    'optimizer': ('Adam', {'lr': 0.001}),\n",
    "    'head/num_classes': 2, \n",
    "    'body/num_blocks': 5,\n",
    "    'body/filters': C('filters'),\n",
    "    'body/encoder': dict(layout='cna cna', kernel_sizee=C('kernel_size')),\n",
    "    'body/decoder': dict(layout='cna cna', kernel_size=C('kernel_size')),\n",
    "    'device': C('device')\n",
    "}"
   ]
  },
  {
   "cell_type": "code",
   "execution_count": 6,
   "metadata": {},
   "outputs": [],
   "source": [
    "B_SIZE = 64\n",
    "train_pipeline = (train_data.p\n",
    "                      .load(components='raw', fmt='segy')\n",
    "                      .load(components='markup', fmt='picks')\n",
    "                      .drop_zero_traces(num_zero=500, src='raw')\n",
    "                      .normalize_traces(src='raw', dst='raw')\n",
    "                      .picking_to_mask(src='markup', dst='mask')\n",
    "                      .init_model('dynamic', UNet, 'my_model', config)\n",
    "                      .init_variable('loss', init_on_each_run=list)\n",
    "                      .preprocess_torch_input(src=['raw', 'mask'], dst=['raw', 'mask'])\n",
    "                      .train_model('my_model', B('raw'), B('mask'), \n",
    "                                   fetches='loss', save_to=V('loss',mode='w'))\n",
    "                      .run(B_SIZE, n_epochs=None, drop_last=True, shuffle=21, lazy=True))\n",
    "\n",
    "test_pipeline = (test_data.p\n",
    "                      .import_model('my_model', C('import_from'))\n",
    "                      .load(components='raw', fmt='segy')\n",
    "                      .load(components='markup', fmt='picks')\n",
    "                      .drop_zero_traces(num_zero=700, src='raw')\n",
    "                      .normalize_traces(src='raw', dst='raw')\n",
    "                      .picking_to_mask(src='markup', dst='mask')\n",
    "                      .add_components(components='unet_predictions')\n",
    "                      .preprocess_torch_input(src=['raw', 'mask'], dst=['raw', 'mask'])    \n",
    "                      .predict_model('my_model', B('raw'),\n",
    "                                     fetches='predictions',  save_to=B('unet_predictions', mode='a'))\n",
    "                      .mask_to_pick(src='unet_predictions', dst='unet_predictions', labels=False)\n",
    "                      .init_variable('picking', init_on_each_run=list())\n",
    "                      .update_variable('picking', B('mask'), mode='a')\n",
    "                      .init_variable('predictions', init_on_each_run=list())\n",
    "                      .update_variable('predictions', B('unet_predictions'), mode='a')\n",
    "                      .run(1000, n_epochs=1, drop_last=False, shuffle=False, lazy=True))"
   ]
  },
  {
   "cell_type": "code",
   "execution_count": 19,
   "metadata": {},
   "outputs": [],
   "source": [
    "grid = Option('filters', [[8, 16, 32, 64, 128]]) * Option('kernel_size', [21])"
   ]
  },
  {
   "cell_type": "code",
   "execution_count": 25,
   "metadata": {},
   "outputs": [],
   "source": [
    "def mae(iteration, experiment, pipeline):\n",
    "    pipeline = experiment[pipeline].pipeline\n",
    "    pred = np.hstack(np.concatenate(pipeline.get_variable('predictions')))\n",
    "    true = np.argmax(np.vstack(pipeline.get_variable('picking')), axis=1)\n",
    "    return np.mean(np.abs(true - pred))"
   ]
  },
  {
   "cell_type": "code",
   "execution_count": 26,
   "metadata": {},
   "outputs": [],
   "source": [
    "research = (Research()\n",
    "    .add_pipeline(train_pipeline, dataset=train_data, variables='loss', name='train')\n",
    "    .add_pipeline(test_pipeline, dataset=test_data, name='test', run=True, execute='%10', import_from='train')\n",
    "    .add_grid(grid)\n",
    "    .add_function(mae, returns='mae', name='test_mae', execute='%10', pipeline='test')\n",
    ")"
   ]
  },
  {
   "cell_type": "code",
   "execution_count": 27,
   "metadata": {},
   "outputs": [
    {
     "name": "stdout",
     "output_type": "stream",
     "text": [
      "Research my_research_3 is starting...\n"
     ]
    },
    {
     "name": "stderr",
     "output_type": "stream",
     "text": [
      "  0%|          | 0/500 [00:00<?, ?it/s]"
     ]
    },
    {
     "name": "stdout",
     "output_type": "stream",
     "text": [
      "Distributor has 1 jobs with 500 iterations. Totally: 500\n"
     ]
    },
    {
     "name": "stderr",
     "output_type": "stream",
     "text": [
      "100%|██████████| 500/500 [04:28<00:00,  1.87it/s]\n"
     ]
    },
    {
     "data": {
      "text/plain": [
       "<seismicpro.batchflow.research.research.Research at 0x7f4c00fdbe80>"
      ]
     },
     "execution_count": 27,
     "metadata": {},
     "output_type": "execute_result"
    }
   ],
   "source": [
    "research.run(n_reps=1, n_iters=500, workers=3, name='my_research', gpu=[4,5, 6], bar=True, framework='torch')"
   ]
  },
  {
   "cell_type": "code",
   "execution_count": null,
   "metadata": {},
   "outputs": [],
   "source": [
    "results = research.load_results(use_alias=True)\n",
    "results.tail(10)"
   ]
  },
  {
   "cell_type": "code",
   "execution_count": 29,
   "metadata": {},
   "outputs": [
    {
     "data": {
      "image/png": "[encoded data removed]",
      "text/plain": [
       "<Figure size 1296x504 with 2 Axes>"
      ]
     },
     "metadata": {},
     "output_type": "display_data"
    }
   ],
   "source": [
    "show_research(results, layout=['train/loss', 'test_mae/mae'], average_repetitions=True, color=list(mcolors.TABLEAU_COLORS.keys()))"
   ]
  }
 ],
 "metadata": {
  "kernelspec": {
   "display_name": "Python 3",
   "language": "python",
   "name": "python3"
  },
  "language_info": {
   "codemirror_mode": {
    "name": "ipython",
    "version": 3
   },
   "file_extension": ".py",
   "mimetype": "text/x-python",
   "name": "python",
   "nbconvert_exporter": "python",
   "pygments_lexer": "ipython3",
   "version": "3.5.2"
  }
 },
 "nbformat": 4,
 "nbformat_minor": 2
}
