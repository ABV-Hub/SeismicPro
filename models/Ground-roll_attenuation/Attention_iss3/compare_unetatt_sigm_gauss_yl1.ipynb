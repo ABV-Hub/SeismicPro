{
 "cells": [
  {
   "cell_type": "code",
   "execution_count": 1,
   "metadata": {},
   "outputs": [
    {
     "name": "stdout",
     "output_type": "stream",
     "text": [
      "env: CUDA_VISIBLE_DEVICES=1\n"
     ]
    }
   ],
   "source": [
    "import os\n",
    "\n",
    "import warnings\n",
    "warnings.filterwarnings('ignore')\n",
    "from tensorflow import logging\n",
    "logging.set_verbosity(logging.ERROR)\n",
    "os.environ['TF_CPP_MIN_LOG_LEVEL'] = '3'\n",
    "\n",
    "\n",
    "import shutil\n",
    "\n",
    "import sys\n",
    "import datetime\n",
    "import pprint\n",
    "\n",
    "\n",
    "import numpy as np\n",
    "import matplotlib.pyplot as plt\n",
    "import tensorflow as tf\n",
    "\n",
    "\n",
    "\n",
    "\n",
    "sys.path.append('../../..')\n",
    "\n",
    "from seismicpro.batchflow import Pipeline, V, B, L, I, W, C\n",
    "# from seismicpro.batchflow.models.tf.layers import conv_block\n",
    "# from seismicpro.batchflow.models.tf import UNet\n",
    "\n",
    "from seismicpro.src import (SeismicDataset, FieldIndex, TraceIndex,\n",
    "                           # , statistics_plot,\n",
    "#                            seismic_plot, spectrum_plot, \n",
    "                            merge_segy_files\n",
    "                           )\n",
    "from seismicpro.models import UnetAtt, UnetAttGauss1, attention_loss, attention_loss_gauss, FieldMetrics\n",
    "\n",
    "\n",
    "from seismicpro.batchflow.batchflow.research import Research, Option, KV\n",
    "from seismicpro.batchflow.batchflow.utils import plot_results_by_config\n",
    "\n",
    "\n",
    "from metric_utils import get_windowed_spectrogram_dists\n",
    "\n",
    "%env CUDA_VISIBLE_DEVICES=1"
   ]
  },
  {
   "cell_type": "code",
   "execution_count": 2,
   "metadata": {},
   "outputs": [],
   "source": [
    "model_config = {\n",
    "    'initial_block/inputs': 'trace_raw',\n",
    "    'inputs': dict(trace_raw={'shape': (3000, 1)},\n",
    "                   lift={'name': 'targets', 'shape': (3000, 1)}),\n",
    "\n",
    "#     'loss': (C('loss'), {'balance': 0.05}),\n",
    "    'optimizer': ('Adam', {'learning_rate': 0.0001}),\n",
    "    'common/data_format': 'channels_last',\n",
    "    'body': {\n",
    "        'main': {\n",
    "            'encoder/num_stages': 5,\n",
    "            'encoder/blocks': dict(layout='ca ca',\n",
    "                                   filters=[16, 32, 64, 128, 256],\n",
    "                                   kernel_size=[7, 5, 5, 5, 5],\n",
    "                                   activation=tf.nn.elu),\n",
    "            'encoder/downsample': dict(layout='pd',\n",
    "                                       pool_size=2,\n",
    "                                       pool_strides=2,\n",
    "                                       dropout_rate=0.05),\n",
    "\n",
    "            'decoder/blocks': dict(layout='ca ca',\n",
    "                                   filters=[16, 32, 64, 128, 256][::-1],\n",
    "                                   kernel_size=[7, 5, 5, 5, 5][::-1],\n",
    "                                   activation=tf.nn.elu),\n",
    "            'decoder/upsample': dict(layout='tad',\n",
    "                                     kernel_size=[7, 5, 5, 5, 5][::-1],\n",
    "                                     strides=2,\n",
    "                                     dropout_rate=0.05,\n",
    "                                     activation=tf.nn.elu,),\n",
    "          },\n",
    "        'attn': {\n",
    "              'encoder/num_stages': 5,\n",
    "              'encoder/blocks': dict(layout='ca ca',\n",
    "                                     filters=[8, 16, 32, 64, 128],\n",
    "                                     kernel_size=3,\n",
    "                                     activation=tf.nn.elu),\n",
    "              'encoder/downsample': dict(layout='pd',\n",
    "                                         pool_size=2,\n",
    "                                         pool_strides=2,\n",
    "                                         dropout_rate=0.05),\n",
    "\n",
    "              'decoder/blocks': dict(layout='ca ca',\n",
    "                                     filters=[8, 16, 32, 64, 128][::-1],\n",
    "                                     kernel_size=3,\n",
    "                                     activation=tf.nn.elu),\n",
    "              'decoder/upsample': dict(layout='ta d',\n",
    "                                       kernel_size=3,\n",
    "                                       strides=2,\n",
    "                                       dropout_rate=0.05,\n",
    "                                       activation=tf.nn.elu),\n",
    "        },\n",
    "    },\n",
    "    'head': {'scale': 1.5},\n",
    "    'train_steps': {\n",
    "        'step_main': {'scope': 'main_branch'},\n",
    "        'step_attention': {'scope': 'attention_branch'},\n",
    "\n",
    "    }\n",
    "}\n"
   ]
  },
  {
   "cell_type": "code",
   "execution_count": null,
   "metadata": {},
   "outputs": [],
   "source": []
  },
  {
   "cell_type": "code",
   "execution_count": 3,
   "metadata": {},
   "outputs": [],
   "source": [
    "BATCH_SIZE=64\n",
    "\n",
    "def exp_stack(x):\n",
    "    return np.expand_dims(np.vstack(x), -1)\n",
    "\n",
    "def make_data(batch, **kwagrs):\n",
    "    return {'trace_raw': exp_stack(batch.raw), 'lift': exp_stack(batch.lift)}\n",
    "\n",
    "def make_data_inference(batch, **kwagrs):\n",
    "    return {'trace_raw': exp_stack(batch.raw)}\n"
   ]
  },
  {
   "cell_type": "code",
   "execution_count": 4,
   "metadata": {},
   "outputs": [],
   "source": [
    "def train_n_save(model, loss, train_set, model_path='./saved_models', **kwargs):\n",
    "\n",
    "    fi = train_set.indices\n",
    "    \n",
    "    tindex = TraceIndex(train_set.index)\n",
    "    t_train_set = SeismicDataset(tindex)\n",
    "    \n",
    "    train_pipeline = (t_train_set.p\n",
    "                      .load(components=('raw', 'lift'), fmt='segy', tslice=np.arange(3000))\n",
    "                      .init_model('dynamic', model, name='unet', \n",
    "                                  config={**model_config, **{'loss': (loss, {'balance': 0.05})}})\n",
    "                      .init_variable('loss', default=list())\n",
    "                      .train_model('unet', make_data=make_data, fetches='loss_step_main', save_to=V('loss', 'a'))\n",
    "                     )\n",
    "    \n",
    "    batch_size = kwargs.get('batch_size', 64)\n",
    "    \n",
    "    if 'n_epochs' not in kwargs and 'n_iters' not in kwargs:\n",
    "        n_epochs = 1\n",
    "        n_iters = None\n",
    "    else:\n",
    "        n_epochs = kwargs.get('n_epochs', None)\n",
    "        n_iters = kwargs.get('n_iters', None)\n",
    "    \n",
    "    train_pipeline = train_pipeline.run(batch_size=batch_size, n_epochs=n_epochs, n_iters=n_iters, drop_last=True,\n",
    "                                    shuffle=True, bar=True, bar_desc=W(V('loss')[-1].format('Current loss is: {:7.7}')))\n",
    "    \n",
    "#     tz = datetime.timezone(datetime.timedelta(hours=3))\n",
    "#     path = os.path.join(model_path, str(datetime.datetime.now(tz=tz)).replace(' ', '_'))\n",
    "#     print(path)\n",
    "    path = model_path\n",
    "\n",
    "    train_pipeline.save_model_now('unet', path)\n",
    "    \n",
    "    loss = np.array(train_pipeline.get_variable('loss'))\n",
    "    \n",
    "    readme = os.path.join(path, 'README.txt')\n",
    "    with open(readme, 'w') as inpf:\n",
    "        inpf.write(\"Model name: {}\\n\".format(model.__name__))\n",
    "        inpf.write(\"Avg final loss (100 points): {}\\n\".format(np.mean(loss[-100:])))\n",
    "        inpf.write(\"\\nConfig:\\n\")\n",
    "        inpf.write(pprint.pformat(model_config, compact=True))\n",
    "        inpf.write(\"\\n\\nAdditional Info:\\n\")\n",
    "        inpf.write(pprint.pformat(dict(fields=list(fi), **kwargs)))\n",
    "        \n",
    "    return loss, path, fi\n",
    "\n",
    "\n",
    "def inference(model, model_path, test_set, output_path=None, tmp_dump_path='tmp', clear=False):\n",
    "    if os.path.exists(tmp_dump_path):\n",
    "        shutil.rmtree(tmp_dump_path)\n",
    "    \n",
    "    os.makedirs(tmp_dump_path)\n",
    "    \n",
    "    tindex = TraceIndex(test_set.index)\n",
    "    t_test_set = SeismicDataset(tindex)\n",
    "    \n",
    "    inference_ppl = (t_test_set.p\n",
    "                     .load_model(\"dynamic\", model, 'unet', path=model_path)\n",
    "                     .init_variable('res')\n",
    "                     .load(components='raw', fmt='segy', tslice=np.arange(3000))\n",
    "                     .predict_model('unet', make_data=make_data_inference,\n",
    "                                    fetches=['out_lift'], save_to=B('raw'))\n",
    "                     .dump(path=L(lambda x: os.path.join(tmp_dump_path, str(x) + '.sgy'))(I()),\n",
    "                           src='raw', fmt='segy', split=False)\n",
    "                 )\n",
    "    inference_ppl.run(1000, n_epochs=1, drop_last=False, shuffle=False, bar=True)\n",
    "    \n",
    "    if output_path is None:\n",
    "        clear = False\n",
    "        output_path = os.path.join(tmp_dump_path, 'merged.sgy')\n",
    "        \n",
    "    print(\"merging .sgy\")\n",
    "    merge_segy_files(output_path=output_path, extra_headers='all', path=os.path.join(tmp_dump_path, '*.sgy'))\n",
    "    \n",
    "    if clear:\n",
    "        if os.path.exists(tmp_dump_path):\n",
    "            shutil.rmtree(tmp_dump_path)        \n",
    "    \n",
    "    return output_path\n",
    "\n",
    "\n",
    "def eval_mt(batch, *args):\n",
    "    mt = FieldMetrics(batch.lift[0], batch.ml[0])\n",
    "    return mt.mae(), mt.corr_coef()\n",
    "\n",
    "def eval_dist(batch, *args):\n",
    "    n_use_traces = 200\n",
    "    dist_m = get_windowed_spectrogram_dists(batch.lift[0][0:n_use_traces], batch.ml[0][0:n_use_traces])\n",
    "    dist = np.mean(dist_m)\n",
    "    return dist\n",
    "\n",
    "def _test(path_lift, model_out, fi):\n",
    "    m_index = (FieldIndex(name='ml', path=model_out, extra_headers=['offset'])\n",
    "               .merge(FieldIndex(name='lift', path=path_lift)))\n",
    "    \n",
    "    dset = SeismicDataset(m_index)   \n",
    "    metr_pipeline = (Pipeline()\n",
    "                 .init_variable('mt', default=[])\n",
    "                 .init_variable('dist', default=[])\n",
    "                 .load(components=('ml', 'lift'), fmt='segy', tslice=np.arange(3000))\n",
    "                 .sort_traces(src=('ml', 'lift'), dst=('ml', 'lift'), sort_by='offset')\n",
    "                 .call(eval_mt, save_to=V('mt', mode='a'))\n",
    "                 .call(eval_dist, save_to=V('dist', mode='a')))\n",
    "    \n",
    "    metr_pipeline = metr_pipeline << dset\n",
    "    metr_pipeline = metr_pipeline.run(batch_size=1, n_epochs=1, drop_last=False,\n",
    "                                      shuffle=False, bar=True)\n",
    "    mt = np.vstack(metr_pipeline.get_variable('mt'))\n",
    "    dist = np.asarray(metr_pipeline.get_variable('dist'))\n",
    "    \n",
    "    return np.mean(mt[:, 0]), np.mean(mt[:, 1]), np.mean(dist)\n",
    "    "
   ]
  },
  {
   "cell_type": "code",
   "execution_count": 5,
   "metadata": {},
   "outputs": [],
   "source": [
    "def process(model, loss_fn, splits, dataset_name, path_lift):\n",
    "    losses = []\n",
    "    save_res = []\n",
    "    for i, split in enumerate(splits): # [ds.cv0, ds.cv1, ds.cv2, ds.cv3, ds.cv4]):\n",
    "        print(\"Processing dataset {}, model {}, cv_split {}\".format(dataset_name, model.__name__, i))\n",
    "        # NB split.test is passed as train and vice versa\n",
    "        loss, model_path, fi = train_n_save(model, loss_fn, split.test, model_path='./saved_models/{}/{}/{}'.format(model.__name__, dataset_name, i), n_epochs=3)\n",
    "        losses.append((model.__name__, dataset_name, i, loss))\n",
    "        print(\"mean final loss:\", np.mean(loss[-100:]))\n",
    "\n",
    "        output_path = inference(model, model_path, split.train, output_path=os.path.join(model_path, '{}_out.sgy'.format(dataset_name)), clear=True)\n",
    "        print(output_path)\n",
    "\n",
    "        mae, corr, dist = _test(path_lift, output_path, fi)\n",
    "        print(\"mae, corr, dist\")\n",
    "        print(mae, corr, dist)\n",
    "\n",
    "        save_res.append([model.__name__, dataset_name, i, mae, corr, dist])\n",
    "        \n",
    "    return losses, save_res"
   ]
  },
  {
   "cell_type": "code",
   "execution_count": 6,
   "metadata": {},
   "outputs": [],
   "source": [
    "dataset_name = 'YL1_UKM'\n",
    "path_raw = '/notebooks/data/YL1_UKM/01_NA-gr_input_prep_norm2.sgy'\n",
    "path_lift = '/notebooks/data/YL1_UKM/03_NA-gr_output_lift2_agora_norm2.sgy'\n",
    "\n",
    "index = (FieldIndex(name='raw', extra_headers=['offset'], path=path_raw)\n",
    "             .merge(FieldIndex(name='lift', path=path_lift)))\n",
    "    \n",
    "findex = FieldIndex(index)\n",
    "ds = SeismicDataset(findex)\n",
    "ds.cv_split()\n",
    "splits = [ds.cv0, ds.cv1, ds.cv2, ds.cv3, ds.cv4]"
   ]
  },
  {
   "cell_type": "code",
   "execution_count": 7,
   "metadata": {},
   "outputs": [
    {
     "name": "stderr",
     "output_type": "stream",
     "text": [
      "  0%|          | 0/2865 [00:00<?, ?it/s]"
     ]
    },
    {
     "name": "stdout",
     "output_type": "stream",
     "text": [
      "Processing dataset YL1_UKM, model UnetAtt, cv_split 0\n"
     ]
    },
    {
     "name": "stderr",
     "output_type": "stream",
     "text": [
      "Current loss is: 0.07571647: 100%|██████████| 2865/2865 [14:39<00:00,  3.21it/s]\n",
      "  0%|          | 0/233 [00:00<?, ?it/s]"
     ]
    },
    {
     "name": "stdout",
     "output_type": "stream",
     "text": [
      "mean final loss: 0.06829385\n"
     ]
    },
    {
     "name": "stderr",
     "output_type": "stream",
     "text": [
      "100%|██████████| 233/233 [24:09<00:00,  5.93s/it]\n"
     ]
    },
    {
     "name": "stdout",
     "output_type": "stream",
     "text": [
      "merging .sgy\n"
     ]
    },
    {
     "name": "stderr",
     "output_type": "stream",
     "text": [
      "100%|██████████| 233/233 [01:03<00:00,  3.02it/s]\n"
     ]
    },
    {
     "name": "stdout",
     "output_type": "stream",
     "text": [
      "./saved_models/UnetAtt/YL1_UKM/0/YL1_UKM_out.sgy\n"
     ]
    },
    {
     "name": "stderr",
     "output_type": "stream",
     "text": [
      "100%|██████████| 38/38 [01:31<00:00,  2.72s/it]\n",
      "  0%|          | 0/2862 [00:00<?, ?it/s]"
     ]
    },
    {
     "name": "stdout",
     "output_type": "stream",
     "text": [
      "mae, corr, dist\n",
      "0.06901871 0.8702623 188.48369\n",
      "Processing dataset YL1_UKM, model UnetAtt, cv_split 1\n"
     ]
    },
    {
     "name": "stderr",
     "output_type": "stream",
     "text": [
      "Current loss is: 0.07038935: 100%|██████████| 2862/2862 [14:05<00:00,  3.45it/s]\n",
      "  0%|          | 0/233 [00:00<?, ?it/s]"
     ]
    },
    {
     "name": "stdout",
     "output_type": "stream",
     "text": [
      "mean final loss: 0.07716212\n"
     ]
    },
    {
     "name": "stderr",
     "output_type": "stream",
     "text": [
      "100%|██████████| 233/233 [24:48<00:00,  6.38s/it]\n"
     ]
    },
    {
     "name": "stdout",
     "output_type": "stream",
     "text": [
      "merging .sgy\n"
     ]
    },
    {
     "name": "stderr",
     "output_type": "stream",
     "text": [
      "100%|██████████| 233/233 [01:08<00:00,  1.87it/s]\n"
     ]
    },
    {
     "name": "stdout",
     "output_type": "stream",
     "text": [
      "./saved_models/UnetAtt/YL1_UKM/1/YL1_UKM_out.sgy\n"
     ]
    },
    {
     "name": "stderr",
     "output_type": "stream",
     "text": [
      "100%|██████████| 38/38 [01:38<00:00,  2.56s/it]\n",
      "  0%|          | 0/2859 [00:00<?, ?it/s]"
     ]
    },
    {
     "name": "stdout",
     "output_type": "stream",
     "text": [
      "mae, corr, dist\n",
      "0.065486185 0.88083285 179.46333\n",
      "Processing dataset YL1_UKM, model UnetAtt, cv_split 2\n"
     ]
    },
    {
     "name": "stderr",
     "output_type": "stream",
     "text": [
      "Current loss is: 0.09257775: 100%|██████████| 2859/2859 [14:42<00:00,  3.31it/s]\n",
      "  0%|          | 0/233 [00:00<?, ?it/s]"
     ]
    },
    {
     "name": "stdout",
     "output_type": "stream",
     "text": [
      "mean final loss: 0.0844183\n"
     ]
    },
    {
     "name": "stderr",
     "output_type": "stream",
     "text": [
      "100%|██████████| 233/233 [24:47<00:00,  6.30s/it]\n"
     ]
    },
    {
     "name": "stdout",
     "output_type": "stream",
     "text": [
      "merging .sgy\n"
     ]
    },
    {
     "name": "stderr",
     "output_type": "stream",
     "text": [
      "100%|██████████| 233/233 [00:56<00:00,  4.40it/s]\n"
     ]
    },
    {
     "name": "stdout",
     "output_type": "stream",
     "text": [
      "./saved_models/UnetAtt/YL1_UKM/2/YL1_UKM_out.sgy\n"
     ]
    },
    {
     "name": "stderr",
     "output_type": "stream",
     "text": [
      "100%|██████████| 38/38 [01:37<00:00,  2.60s/it]\n",
      "  0%|          | 0/2571 [00:00<?, ?it/s]"
     ]
    },
    {
     "name": "stdout",
     "output_type": "stream",
     "text": [
      "mae, corr, dist\n",
      "0.062653 0.88633406 162.13652\n",
      "Processing dataset YL1_UKM, model UnetAtt, cv_split 3\n"
     ]
    },
    {
     "name": "stderr",
     "output_type": "stream",
     "text": [
      "Current loss is: 0.06762134: 100%|██████████| 2571/2571 [13:16<00:00,  3.27it/s]\n",
      "  0%|          | 0/239 [00:00<?, ?it/s]"
     ]
    },
    {
     "name": "stdout",
     "output_type": "stream",
     "text": [
      "mean final loss: 0.08075408\n"
     ]
    },
    {
     "name": "stderr",
     "output_type": "stream",
     "text": [
      "100%|██████████| 239/239 [26:07<00:00,  6.55s/it]\n"
     ]
    },
    {
     "name": "stdout",
     "output_type": "stream",
     "text": [
      "merging .sgy\n"
     ]
    },
    {
     "name": "stderr",
     "output_type": "stream",
     "text": [
      "100%|██████████| 239/239 [00:58<00:00,  4.32it/s]\n"
     ]
    },
    {
     "name": "stdout",
     "output_type": "stream",
     "text": [
      "./saved_models/UnetAtt/YL1_UKM/3/YL1_UKM_out.sgy\n"
     ]
    },
    {
     "name": "stderr",
     "output_type": "stream",
     "text": [
      "100%|██████████| 39/39 [01:40<00:00,  2.57s/it]\n",
      "  0%|          | 0/2577 [00:00<?, ?it/s]"
     ]
    },
    {
     "name": "stdout",
     "output_type": "stream",
     "text": [
      "mae, corr, dist\n",
      "0.064297386 0.8837772 164.41396\n",
      "Processing dataset YL1_UKM, model UnetAtt, cv_split 4\n"
     ]
    },
    {
     "name": "stderr",
     "output_type": "stream",
     "text": [
      "Current loss is: 0.1006109: 100%|██████████| 2577/2577 [13:19<00:00,  3.22it/s]\n",
      "  0%|          | 0/239 [00:00<?, ?it/s]"
     ]
    },
    {
     "name": "stdout",
     "output_type": "stream",
     "text": [
      "mean final loss: 0.08757274\n"
     ]
    },
    {
     "name": "stderr",
     "output_type": "stream",
     "text": [
      "100%|██████████| 239/239 [25:33<00:00,  6.16s/it]\n"
     ]
    },
    {
     "name": "stdout",
     "output_type": "stream",
     "text": [
      "merging .sgy\n"
     ]
    },
    {
     "name": "stderr",
     "output_type": "stream",
     "text": [
      "100%|██████████| 239/239 [00:57<00:00,  4.40it/s]\n"
     ]
    },
    {
     "name": "stdout",
     "output_type": "stream",
     "text": [
      "./saved_models/UnetAtt/YL1_UKM/4/YL1_UKM_out.sgy\n"
     ]
    },
    {
     "name": "stderr",
     "output_type": "stream",
     "text": [
      "100%|██████████| 39/39 [01:37<00:00,  2.43s/it]\n",
      "  0%|          | 0/2865 [00:00<?, ?it/s]"
     ]
    },
    {
     "name": "stdout",
     "output_type": "stream",
     "text": [
      "mae, corr, dist\n",
      "0.06589429 0.8741626 154.37144\n",
      "Processing dataset YL1_UKM, model UnetAttGauss1, cv_split 0\n"
     ]
    },
    {
     "name": "stderr",
     "output_type": "stream",
     "text": [
      "Current loss is: 0.0742138: 100%|██████████| 2865/2865 [14:49<00:00,  3.21it/s]\n",
      "  0%|          | 0/233 [00:00<?, ?it/s]"
     ]
    },
    {
     "name": "stdout",
     "output_type": "stream",
     "text": [
      "mean final loss: 0.06780868\n"
     ]
    },
    {
     "name": "stderr",
     "output_type": "stream",
     "text": [
      "100%|██████████| 233/233 [25:36<00:00,  6.45s/it]\n"
     ]
    },
    {
     "name": "stdout",
     "output_type": "stream",
     "text": [
      "merging .sgy\n"
     ]
    },
    {
     "name": "stderr",
     "output_type": "stream",
     "text": [
      "100%|██████████| 233/233 [00:57<00:00,  4.37it/s]\n"
     ]
    },
    {
     "name": "stdout",
     "output_type": "stream",
     "text": [
      "./saved_models/UnetAttGauss1/YL1_UKM/0/YL1_UKM_out.sgy\n"
     ]
    },
    {
     "name": "stderr",
     "output_type": "stream",
     "text": [
      "100%|██████████| 38/38 [01:36<00:00,  2.50s/it]\n",
      "  0%|          | 0/2862 [00:00<?, ?it/s]"
     ]
    },
    {
     "name": "stdout",
     "output_type": "stream",
     "text": [
      "mae, corr, dist\n",
      "0.07573813 0.8609198 99.9151\n",
      "Processing dataset YL1_UKM, model UnetAttGauss1, cv_split 1\n"
     ]
    },
    {
     "name": "stderr",
     "output_type": "stream",
     "text": [
      "Current loss is: 0.07493941: 100%|██████████| 2862/2862 [14:48<00:00,  3.23it/s]\n",
      "  0%|          | 0/233 [00:00<?, ?it/s]"
     ]
    },
    {
     "name": "stdout",
     "output_type": "stream",
     "text": [
      "mean final loss: 0.07624987\n"
     ]
    },
    {
     "name": "stderr",
     "output_type": "stream",
     "text": [
      "100%|██████████| 233/233 [25:50<00:00,  6.34s/it]\n"
     ]
    },
    {
     "name": "stdout",
     "output_type": "stream",
     "text": [
      "merging .sgy\n"
     ]
    },
    {
     "name": "stderr",
     "output_type": "stream",
     "text": [
      "100%|██████████| 233/233 [00:57<00:00,  4.29it/s]\n"
     ]
    },
    {
     "name": "stdout",
     "output_type": "stream",
     "text": [
      "./saved_models/UnetAttGauss1/YL1_UKM/1/YL1_UKM_out.sgy\n"
     ]
    },
    {
     "name": "stderr",
     "output_type": "stream",
     "text": [
      "100%|██████████| 38/38 [01:34<00:00,  2.50s/it]\n",
      "  0%|          | 0/2859 [00:00<?, ?it/s]"
     ]
    },
    {
     "name": "stdout",
     "output_type": "stream",
     "text": [
      "mae, corr, dist\n",
      "0.068846375 0.87662286 79.586044\n",
      "Processing dataset YL1_UKM, model UnetAttGauss1, cv_split 2\n"
     ]
    },
    {
     "name": "stderr",
     "output_type": "stream",
     "text": [
      "100%|██████████| 233/233 [26:05<00:00,  6.39s/it]\n"
     ]
    },
    {
     "name": "stdout",
     "output_type": "stream",
     "text": [
      "merging .sgy\n"
     ]
    },
    {
     "name": "stderr",
     "output_type": "stream",
     "text": [
      "100%|██████████| 233/233 [00:55<00:00,  4.39it/s]\n"
     ]
    },
    {
     "name": "stdout",
     "output_type": "stream",
     "text": [
      "./saved_models/UnetAttGauss1/YL1_UKM/2/YL1_UKM_out.sgy\n"
     ]
    },
    {
     "name": "stderr",
     "output_type": "stream",
     "text": [
      "100%|██████████| 38/38 [01:34<00:00,  2.54s/it]\n",
      "  0%|          | 0/2571 [00:00<?, ?it/s]"
     ]
    },
    {
     "name": "stdout",
     "output_type": "stream",
     "text": [
      "mae, corr, dist\n",
      "0.067793585 0.87550265 69.18949\n",
      "Processing dataset YL1_UKM, model UnetAttGauss1, cv_split 3\n"
     ]
    },
    {
     "name": "stderr",
     "output_type": "stream",
     "text": [
      "Current loss is: 0.1106426: 100%|██████████| 2571/2571 [13:17<00:00,  3.22it/s]\n",
      "  0%|          | 0/239 [00:00<?, ?it/s]"
     ]
    },
    {
     "name": "stdout",
     "output_type": "stream",
     "text": [
      "mean final loss: 0.08701746\n"
     ]
    },
    {
     "name": "stderr",
     "output_type": "stream",
     "text": [
      "100%|██████████| 239/239 [26:51<00:00,  6.41s/it]\n"
     ]
    },
    {
     "name": "stdout",
     "output_type": "stream",
     "text": [
      "merging .sgy\n"
     ]
    },
    {
     "name": "stderr",
     "output_type": "stream",
     "text": [
      "100%|██████████| 239/239 [00:56<00:00,  4.39it/s]\n"
     ]
    },
    {
     "name": "stdout",
     "output_type": "stream",
     "text": [
      "./saved_models/UnetAttGauss1/YL1_UKM/3/YL1_UKM_out.sgy\n"
     ]
    },
    {
     "name": "stderr",
     "output_type": "stream",
     "text": [
      "100%|██████████| 39/39 [01:37<00:00,  2.52s/it]\n",
      "  0%|          | 0/2577 [00:00<?, ?it/s]"
     ]
    },
    {
     "name": "stdout",
     "output_type": "stream",
     "text": [
      "mae, corr, dist\n",
      "0.08435896 0.82755125 107.35914\n",
      "Processing dataset YL1_UKM, model UnetAttGauss1, cv_split 4\n"
     ]
    },
    {
     "name": "stderr",
     "output_type": "stream",
     "text": [
      "Current loss is: 0.08832957: 100%|██████████| 2577/2577 [13:23<00:00,  3.30it/s]\n",
      "  0%|          | 0/239 [00:00<?, ?it/s]"
     ]
    },
    {
     "name": "stdout",
     "output_type": "stream",
     "text": [
      "mean final loss: 0.09254609\n"
     ]
    },
    {
     "name": "stderr",
     "output_type": "stream",
     "text": [
      "100%|██████████| 239/239 [27:08<00:00,  6.57s/it]\n"
     ]
    },
    {
     "name": "stdout",
     "output_type": "stream",
     "text": [
      "merging .sgy\n"
     ]
    },
    {
     "name": "stderr",
     "output_type": "stream",
     "text": [
      "100%|██████████| 239/239 [00:58<00:00,  4.38it/s]\n"
     ]
    },
    {
     "name": "stdout",
     "output_type": "stream",
     "text": [
      "./saved_models/UnetAttGauss1/YL1_UKM/4/YL1_UKM_out.sgy\n"
     ]
    },
    {
     "name": "stderr",
     "output_type": "stream",
     "text": [
      "100%|██████████| 39/39 [01:37<00:00,  2.51s/it]"
     ]
    },
    {
     "name": "stdout",
     "output_type": "stream",
     "text": [
      "mae, corr, dist\n",
      "0.07537316 0.8450072 78.42301\n"
     ]
    },
    {
     "name": "stderr",
     "output_type": "stream",
     "text": [
      "\n"
     ]
    }
   ],
   "source": [
    "losses = []\n",
    "save_res = []\n",
    "\n",
    "for model, loss in zip([UnetAtt, UnetAttGauss1], [attention_loss, attention_loss_gauss]):\n",
    "    l, r = process(model, loss, splits, dataset_name, path_lift)\n",
    "    losses.extend(l)\n",
    "    save_res.extend(r)\n",
    "    "
   ]
  },
  {
   "cell_type": "code",
   "execution_count": 8,
   "metadata": {},
   "outputs": [
    {
     "data": {
      "text/plain": [
       "<matplotlib.legend.Legend at 0x7f4760f28438>"
      ]
     },
     "execution_count": 8,
     "metadata": {},
     "output_type": "execute_result"
    },
    {
     "data": {
      "image/png": "[encoded data removed]",
      "text/plain": [
       "<Figure size 432x288 with 1 Axes>"
      ]
     },
     "metadata": {
      "needs_background": "light"
     },
     "output_type": "display_data"
    }
   ],
   "source": [
    "for model, dataset_name, i, loss in losses:\n",
    "    plt.plot(loss, label=model+\"_{} {}\".format(i, np.mean(loss[-100:])))\n",
    "    \n",
    "plt.legend()"
   ]
  },
  {
   "cell_type": "code",
   "execution_count": 9,
   "metadata": {},
   "outputs": [
    {
     "data": {
      "text/html": [
       "<div>\n",
       "<style scoped>\n",
       "    .dataframe tbody tr th:only-of-type {\n",
       "        vertical-align: middle;\n",
       "    }\n",
       "\n",
       "    .dataframe tbody tr th {\n",
       "        vertical-align: top;\n",
       "    }\n",
       "\n",
       "    .dataframe thead th {\n",
       "        text-align: right;\n",
       "    }\n",
       "</style>\n",
       "<table border=\"1\" class=\"dataframe\">\n",
       "  <thead>\n",
       "    <tr style=\"text-align: right;\">\n",
       "      <th></th>\n",
       "      <th>Model</th>\n",
       "      <th>DS_train</th>\n",
       "      <th>split_no</th>\n",
       "      <th>MAE</th>\n",
       "      <th>Corr</th>\n",
       "      <th>Dist</th>\n",
       "    </tr>\n",
       "  </thead>\n",
       "  <tbody>\n",
       "    <tr>\n",
       "      <th>0</th>\n",
       "      <td>UnetAtt</td>\n",
       "      <td>YL1_UKM</td>\n",
       "      <td>0</td>\n",
       "      <td>0.069019</td>\n",
       "      <td>0.870262</td>\n",
       "      <td>188.483688</td>\n",
       "    </tr>\n",
       "    <tr>\n",
       "      <th>1</th>\n",
       "      <td>UnetAtt</td>\n",
       "      <td>YL1_UKM</td>\n",
       "      <td>1</td>\n",
       "      <td>0.065486</td>\n",
       "      <td>0.880833</td>\n",
       "      <td>179.463333</td>\n",
       "    </tr>\n",
       "    <tr>\n",
       "      <th>2</th>\n",
       "      <td>UnetAtt</td>\n",
       "      <td>YL1_UKM</td>\n",
       "      <td>2</td>\n",
       "      <td>0.062653</td>\n",
       "      <td>0.886334</td>\n",
       "      <td>162.136520</td>\n",
       "    </tr>\n",
       "    <tr>\n",
       "      <th>3</th>\n",
       "      <td>UnetAtt</td>\n",
       "      <td>YL1_UKM</td>\n",
       "      <td>3</td>\n",
       "      <td>0.064297</td>\n",
       "      <td>0.883777</td>\n",
       "      <td>164.413956</td>\n",
       "    </tr>\n",
       "    <tr>\n",
       "      <th>4</th>\n",
       "      <td>UnetAtt</td>\n",
       "      <td>YL1_UKM</td>\n",
       "      <td>4</td>\n",
       "      <td>0.065894</td>\n",
       "      <td>0.874163</td>\n",
       "      <td>154.371445</td>\n",
       "    </tr>\n",
       "    <tr>\n",
       "      <th>5</th>\n",
       "      <td>UnetAttGauss1</td>\n",
       "      <td>YL1_UKM</td>\n",
       "      <td>0</td>\n",
       "      <td>0.075738</td>\n",
       "      <td>0.860920</td>\n",
       "      <td>99.915100</td>\n",
       "    </tr>\n",
       "    <tr>\n",
       "      <th>6</th>\n",
       "      <td>UnetAttGauss1</td>\n",
       "      <td>YL1_UKM</td>\n",
       "      <td>1</td>\n",
       "      <td>0.068846</td>\n",
       "      <td>0.876623</td>\n",
       "      <td>79.586044</td>\n",
       "    </tr>\n",
       "    <tr>\n",
       "      <th>7</th>\n",
       "      <td>UnetAttGauss1</td>\n",
       "      <td>YL1_UKM</td>\n",
       "      <td>2</td>\n",
       "      <td>0.067794</td>\n",
       "      <td>0.875503</td>\n",
       "      <td>69.189491</td>\n",
       "    </tr>\n",
       "    <tr>\n",
       "      <th>8</th>\n",
       "      <td>UnetAttGauss1</td>\n",
       "      <td>YL1_UKM</td>\n",
       "      <td>3</td>\n",
       "      <td>0.084359</td>\n",
       "      <td>0.827551</td>\n",
       "      <td>107.359138</td>\n",
       "    </tr>\n",
       "    <tr>\n",
       "      <th>9</th>\n",
       "      <td>UnetAttGauss1</td>\n",
       "      <td>YL1_UKM</td>\n",
       "      <td>4</td>\n",
       "      <td>0.075373</td>\n",
       "      <td>0.845007</td>\n",
       "      <td>78.423012</td>\n",
       "    </tr>\n",
       "  </tbody>\n",
       "</table>\n",
       "</div>"
      ],
      "text/plain": [
       "           Model DS_train  split_no       MAE      Corr        Dist\n",
       "0        UnetAtt  YL1_UKM         0  0.069019  0.870262  188.483688\n",
       "1        UnetAtt  YL1_UKM         1  0.065486  0.880833  179.463333\n",
       "2        UnetAtt  YL1_UKM         2  0.062653  0.886334  162.136520\n",
       "3        UnetAtt  YL1_UKM         3  0.064297  0.883777  164.413956\n",
       "4        UnetAtt  YL1_UKM         4  0.065894  0.874163  154.371445\n",
       "5  UnetAttGauss1  YL1_UKM         0  0.075738  0.860920   99.915100\n",
       "6  UnetAttGauss1  YL1_UKM         1  0.068846  0.876623   79.586044\n",
       "7  UnetAttGauss1  YL1_UKM         2  0.067794  0.875503   69.189491\n",
       "8  UnetAttGauss1  YL1_UKM         3  0.084359  0.827551  107.359138\n",
       "9  UnetAttGauss1  YL1_UKM         4  0.075373  0.845007   78.423012"
      ]
     },
     "execution_count": 9,
     "metadata": {},
     "output_type": "execute_result"
    }
   ],
   "source": [
    "import pandas as pd\n",
    "\n",
    "res = pd.DataFrame.from_records(save_res, columns=['Model', 'DS_train', 'split_no', 'MAE', 'Corr', 'Dist'])\n",
    "res"
   ]
  },
  {
   "cell_type": "code",
   "execution_count": 10,
   "metadata": {},
   "outputs": [
    {
     "data": {
      "text/plain": [
       "[['UnetAtt', 'YL1_UKM', 0, 0.06901871, 0.8702623, 188.48369],\n",
       " ['UnetAtt', 'YL1_UKM', 1, 0.065486185, 0.88083285, 179.46333],\n",
       " ['UnetAtt', 'YL1_UKM', 2, 0.062653, 0.88633406, 162.13652],\n",
       " ['UnetAtt', 'YL1_UKM', 3, 0.064297386, 0.8837772, 164.41396],\n",
       " ['UnetAtt', 'YL1_UKM', 4, 0.06589429, 0.8741626, 154.37144],\n",
       " ['UnetAttGauss1', 'YL1_UKM', 0, 0.07573813, 0.8609198, 99.9151],\n",
       " ['UnetAttGauss1', 'YL1_UKM', 1, 0.068846375, 0.87662286, 79.586044],\n",
       " ['UnetAttGauss1', 'YL1_UKM', 2, 0.067793585, 0.87550265, 69.18949],\n",
       " ['UnetAttGauss1', 'YL1_UKM', 3, 0.08435896, 0.82755125, 107.35914],\n",
       " ['UnetAttGauss1', 'YL1_UKM', 4, 0.07537316, 0.8450072, 78.42301]]"
      ]
     },
     "execution_count": 10,
     "metadata": {},
     "output_type": "execute_result"
    }
   ],
   "source": [
    "save_res"
   ]
  },
  {
   "cell_type": "code",
   "execution_count": 11,
   "metadata": {},
   "outputs": [
    {
     "data": {
      "text/html": [
       "<div>\n",
       "<style scoped>\n",
       "    .dataframe tbody tr th:only-of-type {\n",
       "        vertical-align: middle;\n",
       "    }\n",
       "\n",
       "    .dataframe tbody tr th {\n",
       "        vertical-align: top;\n",
       "    }\n",
       "\n",
       "    .dataframe thead th {\n",
       "        text-align: right;\n",
       "    }\n",
       "</style>\n",
       "<table border=\"1\" class=\"dataframe\">\n",
       "  <thead>\n",
       "    <tr style=\"text-align: right;\">\n",
       "      <th></th>\n",
       "      <th>split_no</th>\n",
       "      <th>MAE</th>\n",
       "      <th>Corr</th>\n",
       "      <th>Dist</th>\n",
       "    </tr>\n",
       "    <tr>\n",
       "      <th>Model</th>\n",
       "      <th></th>\n",
       "      <th></th>\n",
       "      <th></th>\n",
       "      <th></th>\n",
       "    </tr>\n",
       "  </thead>\n",
       "  <tbody>\n",
       "    <tr>\n",
       "      <th>UnetAtt</th>\n",
       "      <td>2</td>\n",
       "      <td>0.065470</td>\n",
       "      <td>0.879074</td>\n",
       "      <td>169.773788</td>\n",
       "    </tr>\n",
       "    <tr>\n",
       "      <th>UnetAttGauss1</th>\n",
       "      <td>2</td>\n",
       "      <td>0.074422</td>\n",
       "      <td>0.857121</td>\n",
       "      <td>86.894557</td>\n",
       "    </tr>\n",
       "  </tbody>\n",
       "</table>\n",
       "</div>"
      ],
      "text/plain": [
       "               split_no       MAE      Corr        Dist\n",
       "Model                                                  \n",
       "UnetAtt               2  0.065470  0.879074  169.773788\n",
       "UnetAttGauss1         2  0.074422  0.857121   86.894557"
      ]
     },
     "execution_count": 11,
     "metadata": {},
     "output_type": "execute_result"
    }
   ],
   "source": [
    "res.groupby('Model').mean()"
   ]
  },
  {
   "cell_type": "code",
   "execution_count": null,
   "metadata": {},
   "outputs": [],
   "source": []
  }
 ],
 "metadata": {
  "kernelspec": {
   "display_name": "Python 3",
   "language": "python",
   "name": "python3"
  },
  "language_info": {
   "codemirror_mode": {
    "name": "ipython",
    "version": 3
   },
   "file_extension": ".py",
   "mimetype": "text/x-python",
   "name": "python",
   "nbconvert_exporter": "python",
   "pygments_lexer": "ipython3",
   "version": "3.5.2"
  }
 },
 "nbformat": 4,
 "nbformat_minor": 2
}
