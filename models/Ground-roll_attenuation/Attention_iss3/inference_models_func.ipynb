{
 "cells": [
  {
   "cell_type": "markdown",
   "metadata": {},
   "source": [
    "# Ground-roll attenuation model with attention"
   ]
  },
  {
   "cell_type": "markdown",
   "metadata": {},
   "source": [
    "Raw field seismograms contain noises of various nature. One type of noise is assosiated with ground-roll waves propagation. The model should suppress the ground-roll noise and keep desired signal unchanged."
   ]
  },
  {
   "cell_type": "code",
   "execution_count": 2,
   "metadata": {},
   "outputs": [
    {
     "name": "stdout",
     "output_type": "stream",
     "text": [
      "env: CUDA_VISIBLE_DEVICES=5\n"
     ]
    }
   ],
   "source": [
    "import os\n",
    "import sys\n",
    "import shutil\n",
    "\n",
    "from tqdm import tqdm_notebook\n",
    "import numpy as np\n",
    "\n",
    "sys.path.append('../../..')\n",
    "\n",
    "from seismicpro.batchflow import Pipeline, B, L, I\n",
    "\n",
    "from seismicpro.src import SeismicDataset, TraceIndex, merge_segy_files\n",
    "from seismicpro.models import UnetAtt \n",
    "from seismicpro.models.unetatt_3 import UnetAttention4, UnetAttention3\n",
    "\n",
    "%env CUDA_VISIBLE_DEVICES=5"
   ]
  },
  {
   "cell_type": "code",
   "execution_count": 3,
   "metadata": {},
   "outputs": [],
   "source": [
    "def exp_stack(x):\n",
    "    return np.expand_dims(np.vstack(x), -1)\n",
    "\n",
    "def make_data_inference(batch, **kwagrs):\n",
    "    return {\"feed_dict\": {'trace_raw': exp_stack(batch.raw),\n",
    "                          'offset': np.vstack(batch.trace_headers('offset'))}}"
   ]
  },
  {
   "cell_type": "markdown",
   "metadata": {},
   "source": [
    "## Inference"
   ]
  },
  {
   "cell_type": "markdown",
   "metadata": {},
   "source": [
    "For inference we need a ```TraceIndex```, we also keep all SEGY headers from original traces:"
   ]
  },
  {
   "cell_type": "code",
   "execution_count": 4,
   "metadata": {},
   "outputs": [],
   "source": [
    "def inference(model, model_path, path_raw, output_path=None, tmp_dump_path='tmp', clear=False):\n",
    "    if os.path.exists(tmp_dump_path):\n",
    "        shutil.rmtree(tmp_dump_path)\n",
    "    \n",
    "    os.makedirs(tmp_dump_path)\n",
    "    \n",
    "    inference_index = TraceIndex(name='raw', extra_headers='all', path=path_raw)\n",
    "    inference_ppl = (SeismicDataset(inference_index).p\n",
    "                     .load_model(\"static\", model, 'unet', path=model_path)\n",
    "                     .init_variable('res')\n",
    "                     .load(components='raw', fmt='segy', tslice=np.arange(3000))\n",
    "                     .predict_model('unet', make_data=make_data_inference,\n",
    "                                    fetches=['out_lift'], save_to=B('raw'))\n",
    "                     .dump(path=L(lambda x: os.path.join(tmp_dump_path, str(x) + '.sgy'))(I()),\n",
    "                           src='raw', fmt='segy', split=False)\n",
    "                 )\n",
    "    inference_ppl.run(2000, n_epochs=1, drop_last=False, shuffle=False, bar=True)\n",
    "    \n",
    "    if output_path is None:\n",
    "        clear = False\n",
    "        output_path = os.path.join(tmp_dump_path, 'merged.sgy')\n",
    "        \n",
    "    merge_segy_files(output_path=output_path, extra_headers='all', path=os.path.join(tmp_dump_path, '*.sgy'))\n",
    "    \n",
    "    if clear:\n",
    "        if os.path.exists(tmp_dump_path):\n",
    "            shutil.rmtree(tmp_dump_path)        \n",
    "    \n",
    "    return output_path"
   ]
  },
  {
   "cell_type": "code",
   "execution_count": 4,
   "metadata": {},
   "outputs": [
    {
     "name": "stdout",
     "output_type": "stream",
     "text": [
      "INFO:tensorflow:Restoring parameters from ./saved_models/noise_dataset_1/UnetAttention4/2019-10-08_13:27:57.070603+03:00/model-2700\n"
     ]
    },
    {
     "name": "stderr",
     "output_type": "stream",
     "text": [
      "100%|██████████| 88/88 [03:43<00:00,  3.55s/it]\n",
      "100%|██████████| 88/88 [00:42<00:00,  2.14it/s]\n"
     ]
    },
    {
     "name": "stdout",
     "output_type": "stream",
     "text": [
      "./saved_models/noise_dataset_1/UnetAttention4/2019-10-08_13:27:57.070603+03:00/noise_dataset_1_out.sgy\n",
      "INFO:tensorflow:Restoring parameters from ./saved_models/noise_dataset_1/UnetAttention3/2019-10-08_13:01:12.296337+03:00/model-2700\n"
     ]
    },
    {
     "name": "stderr",
     "output_type": "stream",
     "text": [
      "100%|██████████| 88/88 [03:27<00:00,  2.54s/it]\n",
      "100%|██████████| 88/88 [00:42<00:00,  2.08it/s]\n"
     ]
    },
    {
     "name": "stdout",
     "output_type": "stream",
     "text": [
      "./saved_models/noise_dataset_1/UnetAttention3/2019-10-08_13:01:12.296337+03:00/noise_dataset_1_out.sgy\n",
      "INFO:tensorflow:Restoring parameters from ./saved_models/noise_dataset_1/UnetAtt/2019-10-08_13:15:31.021212+03:00/model-2700\n"
     ]
    },
    {
     "name": "stderr",
     "output_type": "stream",
     "text": [
      "100%|██████████| 88/88 [04:19<00:00,  3.80s/it]\n",
      "100%|██████████| 88/88 [00:43<00:00,  2.08it/s]\n"
     ]
    },
    {
     "name": "stdout",
     "output_type": "stream",
     "text": [
      "./saved_models/noise_dataset_1/UnetAtt/2019-10-08_13:15:31.021212+03:00/noise_dataset_1_out.sgy\n",
      "CPU times: user 6min 26s, sys: 1min 25s, total: 7min 51s\n",
      "Wall time: 13min 59s\n"
     ]
    }
   ],
   "source": [
    "%%time\n",
    "\n",
    "path_raw = '/notebooks/data/noise_dataset_1/DN02A_LIFT_AMPSCAL_norm2.sgy'\n",
    "\n",
    "paths = {\n",
    "    UnetAttention3: \"./saved_models/noise_dataset_1/UnetAttention3/2019-10-08_13:01:12.296337+03:00\",\n",
    "    UnetAttention4: \"./saved_models/noise_dataset_1/UnetAttention4/2019-10-08_13:27:57.070603+03:00\",\n",
    "    UnetAtt: \"./saved_models/noise_dataset_1/UnetAtt/2019-10-08_13:15:31.021212+03:00\",\n",
    "}\n",
    "\n",
    "for model, model_path in paths.items():\n",
    "    output_path = inference(model, model_path, path_raw, output_path=os.path.join(model_path, 'noise_dataset_1_out.sgy'), clear=True)\n",
    "    print(output_path)"
   ]
  },
  {
   "cell_type": "code",
   "execution_count": 9,
   "metadata": {},
   "outputs": [
    {
     "name": "stdout",
     "output_type": "stream",
     "text": [
      "INFO:tensorflow:Restoring parameters from ./saved_models/noise_dataset_1/UnetAttention4/2019-10-08_13:27:57.070603+03:00/model-2700\n"
     ]
    },
    {
     "name": "stderr",
     "output_type": "stream",
     "text": [
      "100%|██████████| 147/147 [05:57<00:00,  2.18s/it]\n",
      "100%|██████████| 147/147 [01:08<00:00,  2.00it/s]\n"
     ]
    },
    {
     "name": "stdout",
     "output_type": "stream",
     "text": [
      "./saved_models/noise_dataset_1/UnetAttention4/2019-10-08_13:27:57.070603+03:00/YL1_UKM_out.sgy\n",
      "INFO:tensorflow:Restoring parameters from ./saved_models/noise_dataset_1/UnetAttention3/2019-10-08_13:01:12.296337+03:00/model-2700\n"
     ]
    },
    {
     "name": "stderr",
     "output_type": "stream",
     "text": [
      "100%|██████████| 147/147 [05:37<00:00,  2.06s/it]\n",
      "100%|██████████| 147/147 [01:09<00:00,  2.12it/s]\n"
     ]
    },
    {
     "name": "stdout",
     "output_type": "stream",
     "text": [
      "./saved_models/noise_dataset_1/UnetAttention3/2019-10-08_13:01:12.296337+03:00/YL1_UKM_out.sgy\n",
      "INFO:tensorflow:Restoring parameters from ./saved_models/noise_dataset_1/UnetAtt/2019-10-08_13:15:31.021212+03:00/model-2700\n"
     ]
    },
    {
     "name": "stderr",
     "output_type": "stream",
     "text": [
      "100%|██████████| 147/147 [06:56<00:00,  2.55s/it]\n",
      "100%|██████████| 147/147 [01:08<00:00,  2.14it/s]\n"
     ]
    },
    {
     "name": "stdout",
     "output_type": "stream",
     "text": [
      "./saved_models/noise_dataset_1/UnetAtt/2019-10-08_13:15:31.021212+03:00/YL1_UKM_out.sgy\n",
      "CPU times: user 10min 9s, sys: 1min 48s, total: 11min 57s\n",
      "Wall time: 22min 34s\n"
     ]
    }
   ],
   "source": [
    "%%time\n",
    "\n",
    "path_raw = '/notebooks/data/YL1_UKM/01_NA-gr_input_prep_norm2.sgy'\n",
    "\n",
    "paths = {\n",
    "    UnetAttention3: \"./saved_models/noise_dataset_1/UnetAttention3/2019-10-08_13:01:12.296337+03:00\",\n",
    "    UnetAttention4: \"./saved_models/noise_dataset_1/UnetAttention4/2019-10-08_13:27:57.070603+03:00\",\n",
    "    UnetAtt: \"./saved_models/noise_dataset_1/UnetAtt/2019-10-08_13:15:31.021212+03:00\",\n",
    "}\n",
    "\n",
    "for model, model_path in paths.items():\n",
    "    output_path = inference(model, model_path, path_raw, output_path=os.path.join(model_path, 'YL1_UKM_out.sgy'), clear=True)\n",
    "    print(output_path)\n"
   ]
  },
  {
   "cell_type": "code",
   "execution_count": 10,
   "metadata": {},
   "outputs": [
    {
     "name": "stdout",
     "output_type": "stream",
     "text": [
      "INFO:tensorflow:Restoring parameters from ./saved_models/YL1_UKM/UnetAttention4/2019-10-08_17:51:27.015153+03:00/model-4775\n"
     ]
    },
    {
     "name": "stderr",
     "output_type": "stream",
     "text": [
      "100%|██████████| 88/88 [03:35<00:00,  2.41s/it]\n",
      "100%|██████████| 88/88 [00:43<00:00,  2.05it/s]\n"
     ]
    },
    {
     "name": "stdout",
     "output_type": "stream",
     "text": [
      "./saved_models/YL1_UKM/UnetAttention4/2019-10-08_17:51:27.015153+03:00/noise_dataset_1_out.sgy\n",
      "INFO:tensorflow:Restoring parameters from ./saved_models/YL1_UKM/UnetAttention3/2019-10-08_19:22:03.834257+03:00/model-4775\n"
     ]
    },
    {
     "name": "stderr",
     "output_type": "stream",
     "text": [
      "100%|██████████| 88/88 [03:26<00:00,  2.32s/it]\n",
      "100%|██████████| 88/88 [00:43<00:00,  2.15it/s]\n"
     ]
    },
    {
     "name": "stdout",
     "output_type": "stream",
     "text": [
      "./saved_models/YL1_UKM/UnetAttention3/2019-10-08_19:22:03.834257+03:00/noise_dataset_1_out.sgy\n",
      "INFO:tensorflow:Restoring parameters from ./saved_models/YL1_UKM/UnetAtt/2019-10-08_17:29:10.283045+03:00/model-4775\n"
     ]
    },
    {
     "name": "stderr",
     "output_type": "stream",
     "text": [
      "100%|██████████| 88/88 [04:10<00:00,  2.82s/it]\n",
      "100%|██████████| 88/88 [00:42<00:00,  2.18it/s]\n"
     ]
    },
    {
     "name": "stdout",
     "output_type": "stream",
     "text": [
      "./saved_models/YL1_UKM/UnetAtt/2019-10-08_17:29:10.283045+03:00/noise_dataset_1_out.sgy\n",
      "CPU times: user 6min 18s, sys: 1min 6s, total: 7min 24s\n",
      "Wall time: 13min 46s\n"
     ]
    }
   ],
   "source": [
    "%%time\n",
    "\n",
    "path_raw = '/notebooks/data/noise_dataset_1/DN02A_LIFT_AMPSCAL_norm2.sgy'\n",
    "\n",
    "paths = {\n",
    "    UnetAttention3: \"./saved_models/YL1_UKM/UnetAttention3/2019-10-08_19:22:03.834257+03:00\",\n",
    "    UnetAttention4: \"./saved_models/YL1_UKM/UnetAttention4/2019-10-08_17:51:27.015153+03:00\",\n",
    "    UnetAtt: \"./saved_models/YL1_UKM/UnetAtt/2019-10-08_17:29:10.283045+03:00\",\n",
    "}\n",
    "\n",
    "for model, model_path in paths.items():\n",
    "    output_path = inference(model, model_path, path_raw, output_path=os.path.join(model_path, 'noise_dataset_1_out.sgy'), clear=True)\n",
    "    print(output_path)"
   ]
  },
  {
   "cell_type": "code",
   "execution_count": 11,
   "metadata": {},
   "outputs": [
    {
     "name": "stdout",
     "output_type": "stream",
     "text": [
      "INFO:tensorflow:Restoring parameters from ./saved_models/YL1_UKM/UnetAttention4/2019-10-08_17:51:27.015153+03:00/model-4775\n"
     ]
    },
    {
     "name": "stderr",
     "output_type": "stream",
     "text": [
      "100%|██████████| 147/147 [05:58<00:00,  2.18s/it]\n",
      "100%|██████████| 147/147 [01:14<00:00,  2.00it/s]\n"
     ]
    },
    {
     "name": "stdout",
     "output_type": "stream",
     "text": [
      "./saved_models/YL1_UKM/UnetAttention4/2019-10-08_17:51:27.015153+03:00/YL1_UKM_out.sgy\n",
      "INFO:tensorflow:Restoring parameters from ./saved_models/YL1_UKM/UnetAttention3/2019-10-08_19:22:03.834257+03:00/model-4775\n"
     ]
    },
    {
     "name": "stderr",
     "output_type": "stream",
     "text": [
      "100%|██████████| 147/147 [05:43<00:00,  2.08s/it]\n",
      "100%|██████████| 147/147 [01:11<00:00,  1.97it/s]\n"
     ]
    },
    {
     "name": "stdout",
     "output_type": "stream",
     "text": [
      "./saved_models/YL1_UKM/UnetAttention3/2019-10-08_19:22:03.834257+03:00/YL1_UKM_out.sgy\n",
      "INFO:tensorflow:Restoring parameters from ./saved_models/YL1_UKM/UnetAtt/2019-10-08_17:29:10.283045+03:00/model-4775\n"
     ]
    },
    {
     "name": "stderr",
     "output_type": "stream",
     "text": [
      "100%|██████████| 147/147 [07:01<00:00,  2.55s/it]\n",
      "100%|██████████| 147/147 [01:15<00:00,  1.55it/s]\n"
     ]
    },
    {
     "name": "stdout",
     "output_type": "stream",
     "text": [
      "./saved_models/YL1_UKM/UnetAtt/2019-10-08_17:29:10.283045+03:00/YL1_UKM_out.sgy\n",
      "CPU times: user 10min 28s, sys: 1min 52s, total: 12min 21s\n",
      "Wall time: 22min 50s\n"
     ]
    }
   ],
   "source": [
    "%%time\n",
    "\n",
    "path_raw = '/notebooks/data/YL1_UKM/01_NA-gr_input_prep_norm2.sgy'\n",
    "\n",
    "paths = {\n",
    "    UnetAttention3: \"./saved_models/YL1_UKM/UnetAttention3/2019-10-08_19:22:03.834257+03:00\",\n",
    "    UnetAttention4: \"./saved_models/YL1_UKM/UnetAttention4/2019-10-08_17:51:27.015153+03:00\",\n",
    "    UnetAtt: \"./saved_models/YL1_UKM/UnetAtt/2019-10-08_17:29:10.283045+03:00\",\n",
    "}\n",
    "\n",
    "for model, model_path in paths.items():\n",
    "    output_path = inference(model, model_path, path_raw, output_path=os.path.join(model_path, 'YL1_UKM_out.sgy'), clear=True)\n",
    "    print(output_path)\n"
   ]
  },
  {
   "cell_type": "code",
   "execution_count": 6,
   "metadata": {},
   "outputs": [
    {
     "name": "stdout",
     "output_type": "stream",
     "text": [
      "INFO:tensorflow:Restoring parameters from ./saved_models/noise_dataset_1/UnetAttention2/2019-10-11_14:54:28.544402+03:00/model-2700\n"
     ]
    },
    {
     "name": "stderr",
     "output_type": "stream",
     "text": [
      "100%|██████████| 88/88 [03:38<00:00,  3.43s/it]\n",
      "100%|██████████| 88/88 [00:42<00:00,  1.98it/s]\n"
     ]
    },
    {
     "name": "stdout",
     "output_type": "stream",
     "text": [
      "./saved_models/noise_dataset_1/UnetAttention2/2019-10-11_14:54:28.544402+03:00/noise_dataset_1_out.sgy\n",
      "INFO:tensorflow:Restoring parameters from ./saved_models/YL1_UKM/UnetAttention2/2019-10-11_15:28:25.671905+03:00/model-4775\n"
     ]
    },
    {
     "name": "stderr",
     "output_type": "stream",
     "text": [
      "100%|██████████| 88/88 [03:30<00:00,  2.36s/it]\n",
      "100%|██████████| 88/88 [00:41<00:00,  2.04it/s]\n"
     ]
    },
    {
     "name": "stdout",
     "output_type": "stream",
     "text": [
      "./saved_models/YL1_UKM/UnetAttention2/2019-10-11_15:28:25.671905+03:00/noise_dataset_1_out.sgy\n",
      "INFO:tensorflow:Restoring parameters from ./saved_models/noise_dataset_1/UnetAttention2/2019-10-11_14:54:28.544402+03:00/model-2700\n"
     ]
    },
    {
     "name": "stderr",
     "output_type": "stream",
     "text": [
      "100%|██████████| 147/147 [05:51<00:00,  2.77s/it]\n",
      "100%|██████████| 147/147 [01:12<00:00,  1.53it/s]\n"
     ]
    },
    {
     "name": "stdout",
     "output_type": "stream",
     "text": [
      "./saved_models/noise_dataset_1/UnetAttention2/2019-10-11_14:54:28.544402+03:00/YL1_UKM_out.sgy\n",
      "INFO:tensorflow:Restoring parameters from ./saved_models/YL1_UKM/UnetAttention2/2019-10-11_15:28:25.671905+03:00/model-4775\n"
     ]
    },
    {
     "name": "stderr",
     "output_type": "stream",
     "text": [
      "100%|██████████| 147/147 [05:45<00:00,  2.09s/it]\n",
      "100%|██████████| 147/147 [01:10<00:00,  1.94it/s]\n"
     ]
    },
    {
     "name": "stdout",
     "output_type": "stream",
     "text": [
      "./saved_models/YL1_UKM/UnetAttention2/2019-10-11_15:28:25.671905+03:00/YL1_UKM_out.sgy\n",
      "CPU times: user 11min 6s, sys: 2min 4s, total: 13min 10s\n",
      "Wall time: 23min\n"
     ]
    }
   ],
   "source": [
    "%%time\n",
    "\n",
    "from itertools import product\n",
    "\n",
    "path_raw_list = ['/notebooks/data/noise_dataset_1/DN02A_LIFT_AMPSCAL_norm2.sgy',\n",
    "                '/notebooks/data/YL1_UKM/01_NA-gr_input_prep_norm2.sgy']\n",
    "model_path_list = ['./saved_models/noise_dataset_1/UnetAttention2/2019-10-11_14:54:28.544402+03:00',\n",
    "                  './saved_models/YL1_UKM/UnetAttention2/2019-10-11_15:28:25.671905+03:00']\n",
    "\n",
    "for path_raw, model_path in product(path_raw_list, model_path_list):\n",
    "    output_path = os.path.join(model_path, 'noise_dataset_1_out.sgy' if 'noise_dataset_1' in path_raw else 'YL1_UKM_out.sgy')\n",
    "    output_path = inference(UnetAttention3, model_path, path_raw, output_path=output_path, clear=True)\n",
    "    print(output_path)\n"
   ]
  },
  {
   "cell_type": "code",
   "execution_count": null,
   "metadata": {},
   "outputs": [],
   "source": []
  }
 ],
 "metadata": {
  "kernelspec": {
   "display_name": "Python 3",
   "language": "python",
   "name": "python3"
  },
  "language_info": {
   "codemirror_mode": {
    "name": "ipython",
    "version": 3
   },
   "file_extension": ".py",
   "mimetype": "text/x-python",
   "name": "python",
   "nbconvert_exporter": "python",
   "pygments_lexer": "ipython3",
   "version": "3.5.2"
  }
 },
 "nbformat": 4,
 "nbformat_minor": 2
}
