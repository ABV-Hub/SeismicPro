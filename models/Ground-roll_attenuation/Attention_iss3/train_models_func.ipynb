{
 "cells": [
  {
   "cell_type": "code",
   "execution_count": 1,
   "metadata": {},
   "outputs": [
    {
     "name": "stdout",
     "output_type": "stream",
     "text": [
      "env: CUDA_VISIBLE_DEVICES=5\n"
     ]
    }
   ],
   "source": [
    "import os\n",
    "import sys\n",
    "from functools import reduce\n",
    "import datetime\n",
    "import pprint\n",
    "\n",
    "import numpy as np\n",
    "\n",
    "\n",
    "import matplotlib.pyplot as plt\n",
    "import tensorflow as tf\n",
    "\n",
    "sys.path.append('../../..')\n",
    "\n",
    "from seismicpro.batchflow import Pipeline, C, V\n",
    "from seismicpro.batchflow.named_expr import eval_expr\n",
    "\n",
    "from seismicpro.src import SeismicDataset, FieldIndex, TraceIndex, SeismicBatch\n",
    "from seismicpro.models import attention_loss, FieldMetrics, UnetAtt\n",
    "from seismicpro.models.unetatt_3 import UnetAttention4, UnetAttention3\n",
    "\n",
    "from seismicpro.batchflow.research import Research, Option, KV\n",
    "\n",
    "\n",
    "%env CUDA_VISIBLE_DEVICES=5"
   ]
  },
  {
   "cell_type": "code",
   "execution_count": 2,
   "metadata": {},
   "outputs": [],
   "source": [
    "def exp_stack(x):\n",
    "    return np.expand_dims(np.vstack(x), -1)\n",
    "\n",
    "def make_data(batch, **kwagrs):\n",
    "    return {'trace_raw': exp_stack(batch.raw),\n",
    "                          'offset': np.vstack(batch.trace_headers('offset')),\n",
    "                          'lift': exp_stack(batch.lift)}\n",
    "def make_dataset(base_path, paths, idx_range):\n",
    "    field_index = reduce(lambda x, y: x.merge(y), \n",
    "                     (FieldIndex(name=name, path=os.path.join(base_path,path), extra_headers=['offset']) for name, path in paths.items()))\n",
    "    fi = field_index.indices[idx_range]   \n",
    "    tindex = TraceIndex(field_index.create_subset(fi))\n",
    "    return SeismicDataset(tindex), fi\n"
   ]
  },
  {
   "cell_type": "code",
   "execution_count": 3,
   "metadata": {},
   "outputs": [],
   "source": [
    "raw_shape = (3000, 1)\n",
    "offset_shape = (1,)\n",
    "\n",
    "\n",
    "common_config = {\n",
    "    'initial_block/inputs': ['trace_raw', 'offset'],\n",
    "    'inputs': dict(trace_raw={'shape': raw_shape},\n",
    "                   offset={'shape': offset_shape},\n",
    "                   lift={'name': 'targets', 'shape': raw_shape}),\n",
    "\n",
    "    'loss': (attention_loss, {'balance': 0.05}),\n",
    "    'optimizer': ('Adam', {'learning_rate': 0.001}),\n",
    "    'common/data_format': 'channels_last',\n",
    "}\n",
    "\n",
    "unetatt_new_config ={\n",
    "    'body/encoder': {'num_stages': 4,\n",
    "                     'blocks': dict(layout='caca', filters=[16, 32, 64, 128], kernel_size=7, activation=tf.nn.elu),\n",
    "                     'downsample': dict(layout='pd', pool_size=2, pool_strides=2, dropout_rate=0.05)},\n",
    "    'body/embedding': dict(layout='caca', filters=256, kernel_size=7, activation=tf.nn.elu),\n",
    "    'body/decoder': {'blocks': dict(layout='caca', filters=[128, 64, 32, 16], kernel_size=7, activation=tf.nn.elu),\n",
    "                     'upsample': dict(layout='tad', kernel_size=7, strides=2, dropout_rate=0.05, activation=tf.nn.elu)},\n",
    "    'body/attention': {'blocks': dict(layout='caca', filters=[64, 32, 16, 8], kernel_size=3, activation=tf.nn.elu),\n",
    "                       'upsample': dict(layout='tad', kernel_size=3, strides=2,\n",
    "                                        dropout_rate=0.05, activation=tf.nn.elu)},\n",
    "}\n",
    "\n",
    "unetatt_old_config = {\n",
    "    'body': {'main': {\n",
    "        'encoder/num_stages': 5,\n",
    "        'encoder/blocks': dict(layout='caca', filters=[16, 32, 64, 128, 256], kernel_size=7, activation=tf.nn.elu),\n",
    "        'encoder/downsample': dict(layout='pd', pool_size=2, pool_strides=2, dropout_rate=0.05),\n",
    "\n",
    "        'decoder/num_stages': 5,\n",
    "        'decoder/blocks': dict(layout='caca', filters=[16, 32, 64, 128, 256][::-1], kernel_size=7,\n",
    "                               activation=tf.nn.elu),\n",
    "        'decoder/upsample': dict(layout='tad', kernel_size=7, strides=2,\n",
    "                                 dropout_rate=0.05, activation=tf.nn.elu, ),\n",
    "    },\n",
    "        'attn': {\n",
    "            'encoder/num_stages': 4,\n",
    "            'encoder/blocks': dict(layout='caca', filters=[8, 16, 32, 64], kernel_size=3, activation=tf.nn.elu),\n",
    "            'encoder/downsample': dict(layout='pd', pool_size=2, pool_strides=2, dropout_rate=0.05),\n",
    "\n",
    "            'decoder/num_stages': 4,\n",
    "            'decoder/blocks': dict(layout='caca', filters=[8, 16, 32, 64][::-1], kernel_size=3, activation=tf.nn.elu),\n",
    "            'decoder/upsample': dict(layout='tad', kernel_size=3, strides=2,\n",
    "                                     dropout_rate=0.05, activation=tf.nn.elu),\n",
    "        },\n",
    "    },\n",
    "}\n"
   ]
  },
  {
   "cell_type": "markdown",
   "metadata": {},
   "source": [
    "## Training"
   ]
  },
  {
   "cell_type": "markdown",
   "metadata": {},
   "source": [
    "Define a train pipeline:"
   ]
  },
  {
   "cell_type": "code",
   "execution_count": 4,
   "metadata": {},
   "outputs": [],
   "source": [
    "def train_n_save(model, model_config, base_path, paths, model_path='./saved_models', **kwargs):\n",
    "\n",
    "    train_set, fi = make_dataset(base_path, paths, slice(10))\n",
    "    \n",
    "    train_pipeline = (train_set.p\n",
    "                      .load(components=('raw', 'lift'), fmt='segy', tslice=np.arange(3000))\n",
    "                      .init_model('dynamic', model, name='unet', config=model_config)\n",
    "                      .init_variable('loss', default=[])\n",
    "                      .train_model('unet', make_data=make_data, fetches='loss', save_to=V('loss', 'a'))\n",
    "                     )\n",
    "    \n",
    "    batch_size = kwargs.get('batch_size', 64)\n",
    "    \n",
    "    if 'n_epochs' not in kwargs and 'n_iters' not in kwargs:\n",
    "        n_epochs = 1\n",
    "        n_iters = None\n",
    "    else:\n",
    "        n_epochs = kwargs.get('n_epochs', None)\n",
    "        n_iters = kwargs.get('n_iters', None)\n",
    "    \n",
    "    train_pipeline = train_pipeline.run(batch_size=batch_size, n_epochs=n_epochs, n_iters=n_iters, drop_last=True,\n",
    "                                    shuffle=True, bar=True)\n",
    "    \n",
    "    tz = datetime.timezone(datetime.timedelta(hours=3))\n",
    "    path = os.path.join(model_path, str(datetime.datetime.now(tz=tz)).replace(' ', '_'))\n",
    "    print(path)\n",
    "\n",
    "    train_pipeline.save_model_now('unet', path)\n",
    "    \n",
    "    loss = np.array(train_pipeline.get_variable('loss'))\n",
    "    \n",
    "    readme = os.path.join(path, 'README.txt')\n",
    "    with open(readme, 'w') as inpf:\n",
    "        inpf.write(\"Model name: {}\\n\".format(model.__name__))\n",
    "        inpf.write(\"Avg final loss (100 points): {}\\n\".format(np.mean(loss[-100:])))\n",
    "        inpf.write(\"\\nConfig:\\n\")\n",
    "        inpf.write(pprint.pformat(model_config, compact=True))\n",
    "        inpf.write(\"\\n\\nAdditional Info:\\n\")\n",
    "        inpf.write(pprint.pformat(dict(fields=list(fi), **paths, **kwargs)))\n",
    "        \n",
    "    return loss\n"
   ]
  },
  {
   "cell_type": "code",
   "execution_count": 5,
   "metadata": {},
   "outputs": [],
   "source": [
    "data_path = 'noise_dataset_1'\n",
    "paths = dict(raw = 'DN02A_LIFT_AMPSCAL_norm2.sgy', lift = 'DN02B_SHOTS_LIFT1_norm2.sgy')\n",
    "\n",
    "base_path = os.path.join('/notebooks/data/', data_path)"
   ]
  },
  {
   "cell_type": "code",
   "execution_count": 6,
   "metadata": {},
   "outputs": [
    {
     "name": "stderr",
     "output_type": "stream",
     "text": [
      "100%|██████████| 2700/2700 [14:19<00:00,  3.29it/s]\n"
     ]
    },
    {
     "name": "stdout",
     "output_type": "stream",
     "text": [
      "./saved_models/noise_dataset_1/UnetAtt/2019-10-08_11:57:51.855819+03:00\n"
     ]
    },
    {
     "name": "stderr",
     "output_type": "stream",
     "text": [
      "100%|██████████| 2700/2700 [12:24<00:00,  3.64it/s]\n"
     ]
    },
    {
     "name": "stdout",
     "output_type": "stream",
     "text": [
      "./saved_models/noise_dataset_1/UnetAttention4/2019-10-08_12:10:20.011646+03:00\n"
     ]
    },
    {
     "name": "stderr",
     "output_type": "stream",
     "text": [
      "100%|██████████| 2700/2700 [12:00<00:00,  3.83it/s]\n"
     ]
    },
    {
     "name": "stdout",
     "output_type": "stream",
     "text": [
      "./saved_models/noise_dataset_1/UnetAttention3/2019-10-08_12:22:22.954551+03:00\n"
     ]
    },
    {
     "name": "stderr",
     "output_type": "stream",
     "text": [
      "100%|██████████| 2700/2700 [14:15<00:00,  3.15it/s]\n"
     ]
    },
    {
     "name": "stdout",
     "output_type": "stream",
     "text": [
      "./saved_models/noise_dataset_1/UnetAtt/2019-10-08_12:36:41.242986+03:00\n"
     ]
    },
    {
     "name": "stderr",
     "output_type": "stream",
     "text": [
      "100%|██████████| 2700/2700 [12:26<00:00,  3.72it/s]\n"
     ]
    },
    {
     "name": "stdout",
     "output_type": "stream",
     "text": [
      "./saved_models/noise_dataset_1/UnetAttention4/2019-10-08_12:49:11.506480+03:00\n"
     ]
    },
    {
     "name": "stderr",
     "output_type": "stream",
     "text": [
      "100%|██████████| 2700/2700 [11:58<00:00,  3.77it/s]\n"
     ]
    },
    {
     "name": "stdout",
     "output_type": "stream",
     "text": [
      "./saved_models/noise_dataset_1/UnetAttention3/2019-10-08_13:01:12.296337+03:00\n"
     ]
    },
    {
     "name": "stderr",
     "output_type": "stream",
     "text": [
      "100%|██████████| 2700/2700 [14:16<00:00,  3.27it/s]\n"
     ]
    },
    {
     "name": "stdout",
     "output_type": "stream",
     "text": [
      "./saved_models/noise_dataset_1/UnetAtt/2019-10-08_13:15:31.021212+03:00\n"
     ]
    },
    {
     "name": "stderr",
     "output_type": "stream",
     "text": [
      "100%|██████████| 2700/2700 [12:23<00:00,  3.60it/s]\n"
     ]
    },
    {
     "name": "stdout",
     "output_type": "stream",
     "text": [
      "./saved_models/noise_dataset_1/UnetAttention4/2019-10-08_13:27:57.070603+03:00\n"
     ]
    },
    {
     "name": "stderr",
     "output_type": "stream",
     "text": [
      "100%|██████████| 2700/2700 [11:55<00:00,  3.76it/s]\n"
     ]
    },
    {
     "name": "stdout",
     "output_type": "stream",
     "text": [
      "./saved_models/noise_dataset_1/UnetAttention3/2019-10-08_13:39:55.037601+03:00\n"
     ]
    }
   ],
   "source": [
    "losses = []\n",
    "for model, config in zip([UnetAtt, UnetAttention4, UnetAttention3]*3, [{**common_config, **c} for c in (unetatt_old_config, unetatt_new_config, unetatt_new_config)]*3):\n",
    "    loss = train_n_save(model, config,base_path, paths, model_path='./saved_models/{}/{}'.format(data_path, model.__name__), n_epochs=5)\n",
    "    losses.append((model.__name__, loss))\n"
   ]
  },
  {
   "cell_type": "code",
   "execution_count": 7,
   "metadata": {},
   "outputs": [
    {
     "data": {
      "text/plain": [
       "<matplotlib.legend.Legend at 0x7f3af98b0438>"
      ]
     },
     "execution_count": 7,
     "metadata": {},
     "output_type": "execute_result"
    },
    {
     "data": {
      "image/png": "[encoded data removed]",
      "text/plain": [
       "<Figure size 432x288 with 1 Axes>"
      ]
     },
     "metadata": {
      "needs_background": "light"
     },
     "output_type": "display_data"
    }
   ],
   "source": [
    "seen_models = {}\n",
    "for model, loss in losses:\n",
    "    seen_models.setdefault(model, 0)\n",
    "    seen_models[model] += 1\n",
    "    plt.plot(loss, label=model+\"_{} {}\".format(seen_models[model], np.mean(loss[-100:])))\n",
    "    \n",
    "plt.legend()"
   ]
  },
  {
   "cell_type": "code",
   "execution_count": 8,
   "metadata": {},
   "outputs": [],
   "source": [
    "data_path = 'YL1_UKM' \n",
    "\n",
    "paths = {\n",
    "#     'lift': '02_NA-gr_output_lift1_fdnat.sgy',\n",
    "    'lift': '03_NA-gr_output_lift2_agora_norm2.sgy',\n",
    "    'raw': '01_NA-gr_input_prep_norm2.sgy',\n",
    "}\n",
    "\n",
    "base_path = os.path.join('/notebooks/data/', data_path)"
   ]
  },
  {
   "cell_type": "code",
   "execution_count": 11,
   "metadata": {},
   "outputs": [
    {
     "name": "stderr",
     "output_type": "stream",
     "text": [
      "100%|██████████| 4775/4775 [25:24<00:00,  3.06it/s]\n"
     ]
    },
    {
     "name": "stdout",
     "output_type": "stream",
     "text": [
      "./saved_models/YL1_UKM/UnetAtt/2019-10-08_16:20:20.604207+03:00\n"
     ]
    },
    {
     "name": "stderr",
     "output_type": "stream",
     "text": [
      "100%|██████████| 4775/4775 [22:20<00:00,  3.72it/s]\n"
     ]
    },
    {
     "name": "stdout",
     "output_type": "stream",
     "text": [
      "./saved_models/YL1_UKM/UnetAttention4/2019-10-08_16:42:44.849399+03:00\n"
     ]
    },
    {
     "name": "stderr",
     "output_type": "stream",
     "text": [
      "100%|██████████| 4775/4775 [21:21<00:00,  3.84it/s]\n"
     ]
    },
    {
     "name": "stdout",
     "output_type": "stream",
     "text": [
      "./saved_models/YL1_UKM/UnetAttention3/2019-10-08_17:04:09.156240+03:00\n"
     ]
    },
    {
     "name": "stderr",
     "output_type": "stream",
     "text": [
      "100%|██████████| 4775/4775 [24:58<00:00,  3.14it/s]\n"
     ]
    },
    {
     "name": "stdout",
     "output_type": "stream",
     "text": [
      "./saved_models/YL1_UKM/UnetAtt/2019-10-08_17:29:10.283045+03:00\n"
     ]
    },
    {
     "name": "stderr",
     "output_type": "stream",
     "text": [
      "100%|██████████| 4775/4775 [22:13<00:00,  3.58it/s]\n"
     ]
    },
    {
     "name": "stdout",
     "output_type": "stream",
     "text": [
      "./saved_models/YL1_UKM/UnetAttention4/2019-10-08_17:51:27.015153+03:00\n"
     ]
    },
    {
     "name": "stderr",
     "output_type": "stream",
     "text": [
      "100%|██████████| 4775/4775 [21:09<00:00,  4.04it/s]\n"
     ]
    },
    {
     "name": "stdout",
     "output_type": "stream",
     "text": [
      "./saved_models/YL1_UKM/UnetAttention3/2019-10-08_18:12:40.052645+03:00\n"
     ]
    },
    {
     "name": "stderr",
     "output_type": "stream",
     "text": [
      "100%|██████████| 4775/4775 [25:14<00:00,  3.14it/s]\n"
     ]
    },
    {
     "name": "stdout",
     "output_type": "stream",
     "text": [
      "./saved_models/YL1_UKM/UnetAtt/2019-10-08_18:37:57.075865+03:00\n"
     ]
    },
    {
     "name": "stderr",
     "output_type": "stream",
     "text": [
      "100%|██████████| 4775/4775 [22:25<00:00,  3.51it/s]\n"
     ]
    },
    {
     "name": "stdout",
     "output_type": "stream",
     "text": [
      "./saved_models/YL1_UKM/UnetAttention4/2019-10-08_19:00:26.220510+03:00\n"
     ]
    },
    {
     "name": "stderr",
     "output_type": "stream",
     "text": [
      "100%|██████████| 4775/4775 [21:34<00:00,  3.80it/s]\n"
     ]
    },
    {
     "name": "stdout",
     "output_type": "stream",
     "text": [
      "./saved_models/YL1_UKM/UnetAttention3/2019-10-08_19:22:03.834257+03:00\n"
     ]
    }
   ],
   "source": [
    "losses = []\n",
    "for model, config in zip([UnetAtt, UnetAttention4, UnetAttention3]*3, [{**common_config, **c} for c in (unetatt_old_config, unetatt_new_config, unetatt_new_config)]*3):\n",
    "    loss = train_n_save(model, config,base_path, paths, model_path='./saved_models/{}/{}'.format(data_path, model.__name__), n_epochs=5)\n",
    "    losses.append((model.__name__, loss))\n"
   ]
  },
  {
   "cell_type": "code",
   "execution_count": 12,
   "metadata": {},
   "outputs": [
    {
     "data": {
      "text/plain": [
       "<matplotlib.legend.Legend at 0x7f3ac4217e80>"
      ]
     },
     "execution_count": 12,
     "metadata": {},
     "output_type": "execute_result"
    },
    {
     "data": {
      "image/png": "[encoded data removed]",
      "text/plain": [
       "<Figure size 432x288 with 1 Axes>"
      ]
     },
     "metadata": {
      "needs_background": "light"
     },
     "output_type": "display_data"
    }
   ],
   "source": [
    "seen_models = {}\n",
    "for model, loss in losses:\n",
    "    seen_models.setdefault(model, 0)\n",
    "    seen_models[model] += 1\n",
    "    plt.plot(loss, label=model+\"_{} {}\".format(seen_models[model], np.mean(loss[-100:])))\n",
    "    \n",
    "plt.legend()"
   ]
  },
  {
   "cell_type": "code",
   "execution_count": null,
   "metadata": {},
   "outputs": [],
   "source": [
    "  "
   ]
  }
 ],
 "metadata": {
  "kernelspec": {
   "display_name": "Python 3",
   "language": "python",
   "name": "python3"
  },
  "language_info": {
   "codemirror_mode": {
    "name": "ipython",
    "version": 3
   },
   "file_extension": ".py",
   "mimetype": "text/x-python",
   "name": "python",
   "nbconvert_exporter": "python",
   "pygments_lexer": "ipython3",
   "version": "3.5.2"
  }
 },
 "nbformat": 4,
 "nbformat_minor": 2
}
