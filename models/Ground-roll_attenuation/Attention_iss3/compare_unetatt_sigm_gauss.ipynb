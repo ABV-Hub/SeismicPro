{
 "cells": [
  {
   "cell_type": "code",
   "execution_count": 1,
   "metadata": {},
   "outputs": [
    {
     "name": "stdout",
     "output_type": "stream",
     "text": [
      "env: CUDA_VISIBLE_DEVICES=3\n"
     ]
    }
   ],
   "source": [
    "import os\n",
    "\n",
    "import warnings\n",
    "warnings.filterwarnings('ignore')\n",
    "from tensorflow import logging\n",
    "logging.set_verbosity(logging.ERROR)\n",
    "os.environ['TF_CPP_MIN_LOG_LEVEL'] = '3'\n",
    "\n",
    "\n",
    "import shutil\n",
    "\n",
    "import sys\n",
    "import datetime\n",
    "import pprint\n",
    "\n",
    "\n",
    "import numpy as np\n",
    "import matplotlib.pyplot as plt\n",
    "import tensorflow as tf\n",
    "\n",
    "\n",
    "\n",
    "\n",
    "sys.path.append('../../..')\n",
    "\n",
    "from seismicpro.batchflow import Pipeline, V, B, L, I, W, C\n",
    "# from seismicpro.batchflow.models.tf.layers import conv_block\n",
    "# from seismicpro.batchflow.models.tf import UNet\n",
    "\n",
    "from seismicpro.src import (SeismicDataset, FieldIndex, TraceIndex,\n",
    "                           # , statistics_plot,\n",
    "#                            seismic_plot, spectrum_plot, \n",
    "                            merge_segy_files\n",
    "                           )\n",
    "from seismicpro.models import UnetAtt, UnetAttGauss1, attention_loss, attention_loss_gauss, FieldMetrics\n",
    "\n",
    "\n",
    "from seismicpro.batchflow.batchflow.research import Research, Option, KV\n",
    "from seismicpro.batchflow.batchflow.utils import plot_results_by_config\n",
    "\n",
    "\n",
    "from metric_utils import get_windowed_spectrogram_dists\n",
    "\n",
    "%env CUDA_VISIBLE_DEVICES=3"
   ]
  },
  {
   "cell_type": "code",
   "execution_count": 2,
   "metadata": {},
   "outputs": [],
   "source": [
    "model_config = {\n",
    "    'initial_block/inputs': 'trace_raw',\n",
    "    'inputs': dict(trace_raw={'shape': (3000, 1)},\n",
    "                   lift={'name': 'targets', 'shape': (3000, 1)}),\n",
    "\n",
    "#     'loss': (C('loss'), {'balance': 0.05}),\n",
    "    'optimizer': ('Adam', {'learning_rate': 0.0001}),\n",
    "    'common/data_format': 'channels_last',\n",
    "    'body': {\n",
    "        'main': {\n",
    "            'encoder/num_stages': 5,\n",
    "            'encoder/blocks': dict(layout='ca ca',\n",
    "                                   filters=[16, 32, 64, 128, 256],\n",
    "                                   kernel_size=[7, 5, 5, 5, 5],\n",
    "                                   activation=tf.nn.elu),\n",
    "            'encoder/downsample': dict(layout='pd',\n",
    "                                       pool_size=2,\n",
    "                                       pool_strides=2,\n",
    "                                       dropout_rate=0.05),\n",
    "\n",
    "            'decoder/blocks': dict(layout='ca ca',\n",
    "                                   filters=[16, 32, 64, 128, 256][::-1],\n",
    "                                   kernel_size=[7, 5, 5, 5, 5][::-1],\n",
    "                                   activation=tf.nn.elu),\n",
    "            'decoder/upsample': dict(layout='tad',\n",
    "                                     kernel_size=[7, 5, 5, 5, 5][::-1],\n",
    "                                     strides=2,\n",
    "                                     dropout_rate=0.05,\n",
    "                                     activation=tf.nn.elu,),\n",
    "          },\n",
    "        'attn': {\n",
    "              'encoder/num_stages': 5,\n",
    "              'encoder/blocks': dict(layout='ca ca',\n",
    "                                     filters=[8, 16, 32, 64, 128],\n",
    "                                     kernel_size=3,\n",
    "                                     activation=tf.nn.elu),\n",
    "              'encoder/downsample': dict(layout='pd',\n",
    "                                         pool_size=2,\n",
    "                                         pool_strides=2,\n",
    "                                         dropout_rate=0.05),\n",
    "\n",
    "              'decoder/blocks': dict(layout='ca ca',\n",
    "                                     filters=[8, 16, 32, 64, 128][::-1],\n",
    "                                     kernel_size=3,\n",
    "                                     activation=tf.nn.elu),\n",
    "              'decoder/upsample': dict(layout='ta d',\n",
    "                                       kernel_size=3,\n",
    "                                       strides=2,\n",
    "                                       dropout_rate=0.05,\n",
    "                                       activation=tf.nn.elu),\n",
    "        },\n",
    "    },\n",
    "    'head': {'scale': 1.5},\n",
    "    'train_steps': {\n",
    "        'step_main': {'scope': 'main_branch'},\n",
    "        'step_attention': {'scope': 'attention_branch'},\n",
    "\n",
    "    }\n",
    "}\n"
   ]
  },
  {
   "cell_type": "code",
   "execution_count": null,
   "metadata": {},
   "outputs": [],
   "source": []
  },
  {
   "cell_type": "code",
   "execution_count": 3,
   "metadata": {},
   "outputs": [],
   "source": [
    "BATCH_SIZE=64\n",
    "\n",
    "def exp_stack(x):\n",
    "    return np.expand_dims(np.vstack(x), -1)\n",
    "\n",
    "def make_data(batch, **kwagrs):\n",
    "    return {'trace_raw': exp_stack(batch.raw), 'lift': exp_stack(batch.lift)}\n",
    "\n",
    "def make_data_inference(batch, **kwagrs):\n",
    "    return {'trace_raw': exp_stack(batch.raw)}\n"
   ]
  },
  {
   "cell_type": "code",
   "execution_count": 4,
   "metadata": {},
   "outputs": [],
   "source": [
    "def train_n_save(model, loss, train_set, model_path='./saved_models', **kwargs):\n",
    "\n",
    "    fi = train_set.indices\n",
    "    \n",
    "    tindex = TraceIndex(train_set.index)\n",
    "    t_train_set = SeismicDataset(tindex)\n",
    "    \n",
    "    train_pipeline = (t_train_set.p\n",
    "                      .load(components=('raw', 'lift'), fmt='segy', tslice=np.arange(3000))\n",
    "                      .init_model('dynamic', model, name='unet', \n",
    "                                  config={**model_config, **{'loss': (loss, {'balance': 0.05})}})\n",
    "                      .init_variable('loss', default=list())\n",
    "                      .train_model('unet', make_data=make_data, fetches='loss_step_main', save_to=V('loss', 'a'))\n",
    "                     )\n",
    "    \n",
    "    batch_size = kwargs.get('batch_size', 64)\n",
    "    \n",
    "    if 'n_epochs' not in kwargs and 'n_iters' not in kwargs:\n",
    "        n_epochs = 1\n",
    "        n_iters = None\n",
    "    else:\n",
    "        n_epochs = kwargs.get('n_epochs', None)\n",
    "        n_iters = kwargs.get('n_iters', None)\n",
    "    \n",
    "    train_pipeline = train_pipeline.run(batch_size=batch_size, n_epochs=n_epochs, n_iters=n_iters, drop_last=True,\n",
    "                                    shuffle=True, bar=True, bar_desc=W(V('loss')[-1].format('Current loss is: {:7.7}')))\n",
    "    \n",
    "#     tz = datetime.timezone(datetime.timedelta(hours=3))\n",
    "#     path = os.path.join(model_path, str(datetime.datetime.now(tz=tz)).replace(' ', '_'))\n",
    "#     print(path)\n",
    "    path = model_path\n",
    "\n",
    "    train_pipeline.save_model_now('unet', path)\n",
    "    \n",
    "    loss = np.array(train_pipeline.get_variable('loss'))\n",
    "    \n",
    "    readme = os.path.join(path, 'README.txt')\n",
    "    with open(readme, 'w') as inpf:\n",
    "        inpf.write(\"Model name: {}\\n\".format(model.__name__))\n",
    "        inpf.write(\"Avg final loss (100 points): {}\\n\".format(np.mean(loss[-100:])))\n",
    "        inpf.write(\"\\nConfig:\\n\")\n",
    "        inpf.write(pprint.pformat(model_config, compact=True))\n",
    "        inpf.write(\"\\n\\nAdditional Info:\\n\")\n",
    "        inpf.write(pprint.pformat(dict(fields=list(fi), **kwargs)))\n",
    "        \n",
    "    return loss, path, fi\n",
    "\n",
    "\n",
    "def inference(model, model_path, test_set, output_path=None, tmp_dump_path='tmp', clear=False):\n",
    "    if os.path.exists(tmp_dump_path):\n",
    "        shutil.rmtree(tmp_dump_path)\n",
    "    \n",
    "    os.makedirs(tmp_dump_path)\n",
    "    \n",
    "    tindex = TraceIndex(test_set.index)\n",
    "    t_test_set = SeismicDataset(tindex)\n",
    "    \n",
    "    inference_ppl = (t_test_set.p\n",
    "                     .load_model(\"dynamic\", model, 'unet', path=model_path)\n",
    "                     .init_variable('res')\n",
    "                     .load(components='raw', fmt='segy', tslice=np.arange(3000))\n",
    "                     .predict_model('unet', make_data=make_data_inference,\n",
    "                                    fetches=['out_lift'], save_to=B('raw'))\n",
    "                     .dump(path=L(lambda x: os.path.join(tmp_dump_path, str(x) + '.sgy'))(I()),\n",
    "                           src='raw', fmt='segy', split=False)\n",
    "                 )\n",
    "    inference_ppl.run(1000, n_epochs=1, drop_last=False, shuffle=False, bar=True)\n",
    "    \n",
    "    if output_path is None:\n",
    "        clear = False\n",
    "        output_path = os.path.join(tmp_dump_path, 'merged.sgy')\n",
    "        \n",
    "    print(\"merging .sgy\")\n",
    "    merge_segy_files(output_path=output_path, extra_headers='all', path=os.path.join(tmp_dump_path, '*.sgy'))\n",
    "    \n",
    "    if clear:\n",
    "        if os.path.exists(tmp_dump_path):\n",
    "            shutil.rmtree(tmp_dump_path)        \n",
    "    \n",
    "    return output_path\n",
    "\n",
    "\n",
    "def eval_mt(batch, *args):\n",
    "    mt = FieldMetrics(batch.lift[0], batch.ml[0])\n",
    "    return mt.mae(), mt.corr_coef()\n",
    "\n",
    "def eval_dist(batch, *args):\n",
    "    n_use_traces = 200\n",
    "    dist_m = get_windowed_spectrogram_dists(batch.lift[0][0:n_use_traces], batch.ml[0][0:n_use_traces])\n",
    "    dist = np.mean(dist_m)\n",
    "    return dist\n",
    "\n",
    "def _test(path_lift, model_out, fi):\n",
    "    m_index = (FieldIndex(name='ml', path=model_out, extra_headers=['offset'])\n",
    "               .merge(FieldIndex(name='lift', path=path_lift)))\n",
    "    \n",
    "    dset = SeismicDataset(m_index)   \n",
    "    metr_pipeline = (Pipeline()\n",
    "                 .init_variable('mt', default=[])\n",
    "                 .init_variable('dist', default=[])\n",
    "                 .load(components=('ml', 'lift'), fmt='segy', tslice=np.arange(3000))\n",
    "                 .sort_traces(src=('ml', 'lift'), dst=('ml', 'lift'), sort_by='offset')\n",
    "                 .call(eval_mt, save_to=V('mt', mode='a'))\n",
    "                 .call(eval_dist, save_to=V('dist', mode='a')))\n",
    "    \n",
    "    metr_pipeline = metr_pipeline << dset\n",
    "    metr_pipeline = metr_pipeline.run(batch_size=1, n_epochs=1, drop_last=False,\n",
    "                                      shuffle=False, bar=True)\n",
    "    mt = np.vstack(metr_pipeline.get_variable('mt'))\n",
    "    dist = np.asarray(metr_pipeline.get_variable('dist'))\n",
    "    \n",
    "    return np.mean(mt[:, 0]), np.mean(mt[:, 1]), np.mean(dist)\n",
    "    "
   ]
  },
  {
   "cell_type": "code",
   "execution_count": 5,
   "metadata": {},
   "outputs": [],
   "source": [
    "def process(model, loss_fn, splits, dataset_name, path_lift):\n",
    "    losses = []\n",
    "    save_res = []\n",
    "    for i, split in enumerate(splits): # [ds.cv0, ds.cv1, ds.cv2, ds.cv3, ds.cv4]):\n",
    "        print(\"Processing dataset {}, model {}, cv_split {}\".format(dataset_name, model.__name__, i))\n",
    "        # NB split.test is passed as train and vice versa\n",
    "        loss, model_path, fi = train_n_save(model, loss_fn, split.test, model_path='./saved_models/{}/{}/{}'.format(model.__name__, dataset_name, i), n_epochs=3)\n",
    "        losses.append((model.__name__, dataset_name, i, loss))\n",
    "        print(\"mean final loss:\", np.mean(loss[-100:]))\n",
    "\n",
    "        output_path = inference(model, model_path, split.train, output_path=os.path.join(model_path, '{}_out.sgy'.format(dataset_name)), clear=True)\n",
    "        print(output_path)\n",
    "\n",
    "        mae, corr, dist = _test(path_lift, output_path, fi)\n",
    "        print(\"mae, corr, dist\")\n",
    "        print(mae, corr, dist)\n",
    "\n",
    "        save_res.append([model.__name__, dataset_name, i, mae, corr, dist])\n",
    "        \n",
    "    return losses, save_res"
   ]
  },
  {
   "cell_type": "code",
   "execution_count": 6,
   "metadata": {},
   "outputs": [],
   "source": [
    "dataset_name = 'H1_WZ'\n",
    "path_raw = '/notebooks/data/H1_WZ/1_NA-gr_input_DN01_norm2.sgy'\n",
    "path_lift = '/notebooks/data/H1_WZ/1_NA-gr_output_DN03_norm2.sgy'\n",
    "\n",
    "index = (FieldIndex(name='raw', extra_headers=['offset'], path=path_raw)\n",
    "             .merge(FieldIndex(name='lift', path=path_lift)))\n",
    "    \n",
    "findex = FieldIndex(index)\n",
    "ds = SeismicDataset(findex)\n",
    "ds.cv_split()\n",
    "splits = [ds.cv0, ds.cv1, ds.cv2, ds.cv3, ds.cv4]"
   ]
  },
  {
   "cell_type": "code",
   "execution_count": 7,
   "metadata": {},
   "outputs": [
    {
     "name": "stderr",
     "output_type": "stream",
     "text": [
      "  0%|          | 0/1707 [00:00<?, ?it/s]"
     ]
    },
    {
     "name": "stdout",
     "output_type": "stream",
     "text": [
      "Processing dataset H1_WZ, model UnetAtt, cv_split 0\n"
     ]
    },
    {
     "name": "stderr",
     "output_type": "stream",
     "text": [
      "Current loss is: 0.07146405: 100%|██████████| 1707/1707 [36:29<00:00,  1.27s/it]\n",
      "  0%|          | 0/124 [00:00<?, ?it/s]"
     ]
    },
    {
     "name": "stdout",
     "output_type": "stream",
     "text": [
      "mean final loss: 0.07427031\n"
     ]
    },
    {
     "name": "stderr",
     "output_type": "stream",
     "text": [
      "100%|██████████| 124/124 [13:15<00:00,  6.99s/it]\n"
     ]
    },
    {
     "name": "stdout",
     "output_type": "stream",
     "text": [
      "merging .sgy\n"
     ]
    },
    {
     "name": "stderr",
     "output_type": "stream",
     "text": [
      "100%|██████████| 124/124 [00:29<00:00,  4.20it/s]\n"
     ]
    },
    {
     "name": "stdout",
     "output_type": "stream",
     "text": [
      "./saved_models/UnetAtt/H1_WZ/0/H1_WZ_out.sgy\n"
     ]
    },
    {
     "name": "stderr",
     "output_type": "stream",
     "text": [
      "100%|██████████| 80/80 [01:36<00:00,  1.21s/it]\n",
      "  0%|          | 0/1599 [00:00<?, ?it/s]"
     ]
    },
    {
     "name": "stdout",
     "output_type": "stream",
     "text": [
      "mae, corr, dist\n",
      "0.061014336 0.92739236 3.648461\n",
      "Processing dataset H1_WZ, model UnetAtt, cv_split 1\n"
     ]
    },
    {
     "name": "stderr",
     "output_type": "stream",
     "text": [
      "Current loss is: 0.06124561: 100%|██████████| 1599/1599 [34:12<00:00,  1.31s/it]\n",
      "  0%|          | 0/127 [00:00<?, ?it/s]"
     ]
    },
    {
     "name": "stdout",
     "output_type": "stream",
     "text": [
      "mean final loss: 0.06762416\n"
     ]
    },
    {
     "name": "stderr",
     "output_type": "stream",
     "text": [
      "100%|██████████| 127/127 [13:36<00:00,  6.25s/it]\n"
     ]
    },
    {
     "name": "stdout",
     "output_type": "stream",
     "text": [
      "merging .sgy\n"
     ]
    },
    {
     "name": "stderr",
     "output_type": "stream",
     "text": [
      "100%|██████████| 127/127 [00:31<00:00,  4.14it/s]\n"
     ]
    },
    {
     "name": "stdout",
     "output_type": "stream",
     "text": [
      "./saved_models/UnetAtt/H1_WZ/1/H1_WZ_out.sgy\n"
     ]
    },
    {
     "name": "stderr",
     "output_type": "stream",
     "text": [
      "100%|██████████| 81/81 [01:42<00:00,  1.16s/it]\n",
      "  0%|          | 0/1437 [00:00<?, ?it/s]"
     ]
    },
    {
     "name": "stdout",
     "output_type": "stream",
     "text": [
      "mae, corr, dist\n",
      "0.056588743 0.9299664 3.1021445\n",
      "Processing dataset H1_WZ, model UnetAtt, cv_split 2\n"
     ]
    },
    {
     "name": "stderr",
     "output_type": "stream",
     "text": [
      "Current loss is: 0.07701822: 100%|██████████| 1437/1437 [30:59<00:00,  1.28s/it]\n",
      "  0%|          | 0/130 [00:00<?, ?it/s]"
     ]
    },
    {
     "name": "stdout",
     "output_type": "stream",
     "text": [
      "mean final loss: 0.07531453\n"
     ]
    },
    {
     "name": "stderr",
     "output_type": "stream",
     "text": [
      "100%|██████████| 130/130 [13:59<00:00,  6.92s/it]\n"
     ]
    },
    {
     "name": "stdout",
     "output_type": "stream",
     "text": [
      "merging .sgy\n"
     ]
    },
    {
     "name": "stderr",
     "output_type": "stream",
     "text": [
      "100%|██████████| 130/130 [00:32<00:00,  4.22it/s]\n"
     ]
    },
    {
     "name": "stdout",
     "output_type": "stream",
     "text": [
      "./saved_models/UnetAtt/H1_WZ/2/H1_WZ_out.sgy\n"
     ]
    },
    {
     "name": "stderr",
     "output_type": "stream",
     "text": [
      "100%|██████████| 81/81 [01:42<00:00,  1.29s/it]\n",
      "  0%|          | 0/1350 [00:00<?, ?it/s]"
     ]
    },
    {
     "name": "stdout",
     "output_type": "stream",
     "text": [
      "mae, corr, dist\n",
      "0.053748626 0.93050104 3.0839195\n",
      "Processing dataset H1_WZ, model UnetAtt, cv_split 3\n"
     ]
    },
    {
     "name": "stderr",
     "output_type": "stream",
     "text": [
      "Current loss is: 0.08406805: 100%|██████████| 1350/1350 [28:53<00:00,  1.25s/it]\n",
      "  0%|          | 0/132 [00:00<?, ?it/s]"
     ]
    },
    {
     "name": "stdout",
     "output_type": "stream",
     "text": [
      "mean final loss: 0.077341065\n"
     ]
    },
    {
     "name": "stderr",
     "output_type": "stream",
     "text": [
      "100%|██████████| 132/132 [14:24<00:00,  6.87s/it]\n"
     ]
    },
    {
     "name": "stdout",
     "output_type": "stream",
     "text": [
      "merging .sgy\n"
     ]
    },
    {
     "name": "stderr",
     "output_type": "stream",
     "text": [
      "100%|██████████| 132/132 [00:32<00:00,  4.17it/s]\n"
     ]
    },
    {
     "name": "stdout",
     "output_type": "stream",
     "text": [
      "./saved_models/UnetAtt/H1_WZ/3/H1_WZ_out.sgy\n"
     ]
    },
    {
     "name": "stderr",
     "output_type": "stream",
     "text": [
      "100%|██████████| 81/81 [01:45<00:00,  1.32s/it]\n",
      "  0%|          | 0/1422 [00:00<?, ?it/s]"
     ]
    },
    {
     "name": "stdout",
     "output_type": "stream",
     "text": [
      "mae, corr, dist\n",
      "0.056105312 0.9240947 2.9565938\n",
      "Processing dataset H1_WZ, model UnetAtt, cv_split 4\n"
     ]
    },
    {
     "name": "stderr",
     "output_type": "stream",
     "text": [
      "Current loss is: 0.08030392: 100%|██████████| 1422/1422 [30:28<00:00,  1.28s/it]\n",
      "  0%|          | 0/131 [00:00<?, ?it/s]"
     ]
    },
    {
     "name": "stdout",
     "output_type": "stream",
     "text": [
      "mean final loss: 0.07946405\n"
     ]
    },
    {
     "name": "stderr",
     "output_type": "stream",
     "text": [
      "100%|██████████| 131/131 [14:14<00:00,  6.31s/it]\n"
     ]
    },
    {
     "name": "stdout",
     "output_type": "stream",
     "text": [
      "merging .sgy\n"
     ]
    },
    {
     "name": "stderr",
     "output_type": "stream",
     "text": [
      "100%|██████████| 131/131 [00:32<00:00,  3.63it/s]\n"
     ]
    },
    {
     "name": "stdout",
     "output_type": "stream",
     "text": [
      "./saved_models/UnetAtt/H1_WZ/4/H1_WZ_out.sgy\n"
     ]
    },
    {
     "name": "stderr",
     "output_type": "stream",
     "text": [
      "100%|██████████| 81/81 [01:44<00:00,  1.20s/it]\n",
      "  0%|          | 0/1707 [00:00<?, ?it/s]"
     ]
    },
    {
     "name": "stdout",
     "output_type": "stream",
     "text": [
      "mae, corr, dist\n",
      "0.05617448 0.92843807 3.0402982\n",
      "Processing dataset H1_WZ, model UnetAttGauss1, cv_split 0\n"
     ]
    },
    {
     "name": "stderr",
     "output_type": "stream",
     "text": [
      "Current loss is: 0.07200701: 100%|██████████| 1707/1707 [36:39<00:00,  1.27s/it]\n",
      "  0%|          | 0/124 [00:00<?, ?it/s]"
     ]
    },
    {
     "name": "stdout",
     "output_type": "stream",
     "text": [
      "mean final loss: 0.07372358\n"
     ]
    },
    {
     "name": "stderr",
     "output_type": "stream",
     "text": [
      "100%|██████████| 124/124 [13:50<00:00,  6.64s/it]\n"
     ]
    },
    {
     "name": "stdout",
     "output_type": "stream",
     "text": [
      "merging .sgy\n"
     ]
    },
    {
     "name": "stderr",
     "output_type": "stream",
     "text": [
      "100%|██████████| 124/124 [00:30<00:00,  4.11it/s]\n"
     ]
    },
    {
     "name": "stdout",
     "output_type": "stream",
     "text": [
      "./saved_models/UnetAttGauss1/H1_WZ/0/H1_WZ_out.sgy\n"
     ]
    },
    {
     "name": "stderr",
     "output_type": "stream",
     "text": [
      "100%|██████████| 80/80 [01:34<00:00,  1.21s/it]\n",
      "  0%|          | 0/1599 [00:00<?, ?it/s]"
     ]
    },
    {
     "name": "stdout",
     "output_type": "stream",
     "text": [
      "mae, corr, dist\n",
      "0.059555322 0.9293375 3.4275641\n",
      "Processing dataset H1_WZ, model UnetAttGauss1, cv_split 1\n"
     ]
    },
    {
     "name": "stderr",
     "output_type": "stream",
     "text": [
      "Current loss is: 0.06674813: 100%|██████████| 1599/1599 [34:08<00:00,  1.31s/it]\n",
      "  0%|          | 0/127 [00:00<?, ?it/s]"
     ]
    },
    {
     "name": "stdout",
     "output_type": "stream",
     "text": [
      "mean final loss: 0.06740414\n"
     ]
    },
    {
     "name": "stderr",
     "output_type": "stream",
     "text": [
      "100%|██████████| 127/127 [14:16<00:00,  6.61s/it]\n"
     ]
    },
    {
     "name": "stdout",
     "output_type": "stream",
     "text": [
      "merging .sgy\n"
     ]
    },
    {
     "name": "stderr",
     "output_type": "stream",
     "text": [
      "100%|██████████| 127/127 [00:30<00:00,  4.14it/s]\n"
     ]
    },
    {
     "name": "stdout",
     "output_type": "stream",
     "text": [
      "./saved_models/UnetAttGauss1/H1_WZ/1/H1_WZ_out.sgy\n"
     ]
    },
    {
     "name": "stderr",
     "output_type": "stream",
     "text": [
      "100%|██████████| 81/81 [01:43<00:00,  1.30s/it]\n",
      "  0%|          | 0/1437 [00:00<?, ?it/s]"
     ]
    },
    {
     "name": "stdout",
     "output_type": "stream",
     "text": [
      "mae, corr, dist\n",
      "0.058970552 0.92705905 3.1408527\n",
      "Processing dataset H1_WZ, model UnetAttGauss1, cv_split 2\n"
     ]
    },
    {
     "name": "stderr",
     "output_type": "stream",
     "text": [
      "Current loss is: 0.07547864: 100%|██████████| 1437/1437 [30:53<00:00,  1.32s/it]\n",
      "  0%|          | 0/130 [00:00<?, ?it/s]"
     ]
    },
    {
     "name": "stdout",
     "output_type": "stream",
     "text": [
      "mean final loss: 0.07705389\n"
     ]
    },
    {
     "name": "stderr",
     "output_type": "stream",
     "text": [
      "100%|██████████| 130/130 [14:44<00:00,  6.66s/it]\n"
     ]
    },
    {
     "name": "stdout",
     "output_type": "stream",
     "text": [
      "merging .sgy\n"
     ]
    },
    {
     "name": "stderr",
     "output_type": "stream",
     "text": [
      "100%|██████████| 130/130 [00:32<00:00,  4.12it/s]\n"
     ]
    },
    {
     "name": "stdout",
     "output_type": "stream",
     "text": [
      "./saved_models/UnetAttGauss1/H1_WZ/2/H1_WZ_out.sgy\n"
     ]
    },
    {
     "name": "stderr",
     "output_type": "stream",
     "text": [
      "100%|██████████| 81/81 [01:46<00:00,  1.32s/it]\n",
      "  0%|          | 0/1350 [00:00<?, ?it/s]"
     ]
    },
    {
     "name": "stdout",
     "output_type": "stream",
     "text": [
      "mae, corr, dist\n",
      "0.063915804 0.9138484 3.5927813\n",
      "Processing dataset H1_WZ, model UnetAttGauss1, cv_split 3\n"
     ]
    },
    {
     "name": "stderr",
     "output_type": "stream",
     "text": [
      "Current loss is: 0.07222325: 100%|██████████| 1350/1350 [29:05<00:00,  1.31s/it]\n",
      "  0%|          | 0/132 [00:00<?, ?it/s]"
     ]
    },
    {
     "name": "stdout",
     "output_type": "stream",
     "text": [
      "mean final loss: 0.07785295\n"
     ]
    },
    {
     "name": "stderr",
     "output_type": "stream",
     "text": [
      "100%|██████████| 132/132 [14:25<00:00,  6.39s/it]\n"
     ]
    },
    {
     "name": "stdout",
     "output_type": "stream",
     "text": [
      "merging .sgy\n"
     ]
    },
    {
     "name": "stderr",
     "output_type": "stream",
     "text": [
      "100%|██████████| 132/132 [00:34<00:00,  3.75it/s]\n"
     ]
    },
    {
     "name": "stdout",
     "output_type": "stream",
     "text": [
      "./saved_models/UnetAttGauss1/H1_WZ/3/H1_WZ_out.sgy\n"
     ]
    },
    {
     "name": "stderr",
     "output_type": "stream",
     "text": [
      "100%|██████████| 81/81 [01:45<00:00,  1.36s/it]\n",
      "  0%|          | 0/1422 [00:00<?, ?it/s]"
     ]
    },
    {
     "name": "stdout",
     "output_type": "stream",
     "text": [
      "mae, corr, dist\n",
      "0.056629423 0.9196036 2.926244\n",
      "Processing dataset H1_WZ, model UnetAttGauss1, cv_split 4\n"
     ]
    },
    {
     "name": "stderr",
     "output_type": "stream",
     "text": [
      "Current loss is: 0.08849416:   9%|▉         | 134/1422 [03:05<27:24,  1.28s/it]IOPub message rate exceeded.\n",
      "The notebook server will temporarily stop sending output\n",
      "to the client in order to avoid crashing it.\n",
      "To change this limit, set the config variable\n",
      "`--NotebookApp.iopub_msg_rate_limit`.\n",
      "\n",
      "Current values:\n",
      "NotebookApp.iopub_msg_rate_limit=1000.0 (msgs/sec)\n",
      "NotebookApp.rate_limit_window=3.0 (secs)\n",
      "\n"
     ]
    }
   ],
   "source": [
    "losses = []\n",
    "save_res = []\n",
    "\n",
    "for model, loss in zip([UnetAtt, UnetAttGauss1], [attention_loss, attention_loss_gauss]):\n",
    "    l, r = process(model, loss, splits, dataset_name, path_lift)\n",
    "    losses.extend(l)\n",
    "    save_res.extend(r)\n",
    "    "
   ]
  },
  {
   "cell_type": "code",
   "execution_count": 8,
   "metadata": {},
   "outputs": [
    {
     "data": {
      "text/plain": [
       "<matplotlib.legend.Legend at 0x7f0a94250940>"
      ]
     },
     "execution_count": 8,
     "metadata": {},
     "output_type": "execute_result"
    },
    {
     "data": {
      "image/png": "[encoded data removed]",
      "text/plain": [
       "<Figure size 432x288 with 1 Axes>"
      ]
     },
     "metadata": {
      "needs_background": "light"
     },
     "output_type": "display_data"
    }
   ],
   "source": [
    "for model, dataset_name, i, loss in losses:\n",
    "    plt.plot(loss, label=model+\"_{} {}\".format(i, np.mean(loss[-100:])))\n",
    "    \n",
    "plt.legend()"
   ]
  },
  {
   "cell_type": "code",
   "execution_count": 9,
   "metadata": {},
   "outputs": [
    {
     "data": {
      "text/html": [
       "<div>\n",
       "<style scoped>\n",
       "    .dataframe tbody tr th:only-of-type {\n",
       "        vertical-align: middle;\n",
       "    }\n",
       "\n",
       "    .dataframe tbody tr th {\n",
       "        vertical-align: top;\n",
       "    }\n",
       "\n",
       "    .dataframe thead th {\n",
       "        text-align: right;\n",
       "    }\n",
       "</style>\n",
       "<table border=\"1\" class=\"dataframe\">\n",
       "  <thead>\n",
       "    <tr style=\"text-align: right;\">\n",
       "      <th></th>\n",
       "      <th>Model</th>\n",
       "      <th>DS_train</th>\n",
       "      <th>split_no</th>\n",
       "      <th>MAE</th>\n",
       "      <th>Corr</th>\n",
       "      <th>Dist</th>\n",
       "    </tr>\n",
       "  </thead>\n",
       "  <tbody>\n",
       "    <tr>\n",
       "      <th>0</th>\n",
       "      <td>UnetAtt</td>\n",
       "      <td>H1_WZ</td>\n",
       "      <td>0</td>\n",
       "      <td>0.061014</td>\n",
       "      <td>0.927392</td>\n",
       "      <td>3.648461</td>\n",
       "    </tr>\n",
       "    <tr>\n",
       "      <th>1</th>\n",
       "      <td>UnetAtt</td>\n",
       "      <td>H1_WZ</td>\n",
       "      <td>1</td>\n",
       "      <td>0.056589</td>\n",
       "      <td>0.929966</td>\n",
       "      <td>3.102144</td>\n",
       "    </tr>\n",
       "    <tr>\n",
       "      <th>2</th>\n",
       "      <td>UnetAtt</td>\n",
       "      <td>H1_WZ</td>\n",
       "      <td>2</td>\n",
       "      <td>0.053749</td>\n",
       "      <td>0.930501</td>\n",
       "      <td>3.083920</td>\n",
       "    </tr>\n",
       "    <tr>\n",
       "      <th>3</th>\n",
       "      <td>UnetAtt</td>\n",
       "      <td>H1_WZ</td>\n",
       "      <td>3</td>\n",
       "      <td>0.056105</td>\n",
       "      <td>0.924095</td>\n",
       "      <td>2.956594</td>\n",
       "    </tr>\n",
       "    <tr>\n",
       "      <th>4</th>\n",
       "      <td>UnetAtt</td>\n",
       "      <td>H1_WZ</td>\n",
       "      <td>4</td>\n",
       "      <td>0.056174</td>\n",
       "      <td>0.928438</td>\n",
       "      <td>3.040298</td>\n",
       "    </tr>\n",
       "    <tr>\n",
       "      <th>5</th>\n",
       "      <td>UnetAttGauss1</td>\n",
       "      <td>H1_WZ</td>\n",
       "      <td>0</td>\n",
       "      <td>0.059555</td>\n",
       "      <td>0.929338</td>\n",
       "      <td>3.427564</td>\n",
       "    </tr>\n",
       "    <tr>\n",
       "      <th>6</th>\n",
       "      <td>UnetAttGauss1</td>\n",
       "      <td>H1_WZ</td>\n",
       "      <td>1</td>\n",
       "      <td>0.058971</td>\n",
       "      <td>0.927059</td>\n",
       "      <td>3.140853</td>\n",
       "    </tr>\n",
       "    <tr>\n",
       "      <th>7</th>\n",
       "      <td>UnetAttGauss1</td>\n",
       "      <td>H1_WZ</td>\n",
       "      <td>2</td>\n",
       "      <td>0.063916</td>\n",
       "      <td>0.913848</td>\n",
       "      <td>3.592781</td>\n",
       "    </tr>\n",
       "    <tr>\n",
       "      <th>8</th>\n",
       "      <td>UnetAttGauss1</td>\n",
       "      <td>H1_WZ</td>\n",
       "      <td>3</td>\n",
       "      <td>0.056629</td>\n",
       "      <td>0.919604</td>\n",
       "      <td>2.926244</td>\n",
       "    </tr>\n",
       "    <tr>\n",
       "      <th>9</th>\n",
       "      <td>UnetAttGauss1</td>\n",
       "      <td>H1_WZ</td>\n",
       "      <td>4</td>\n",
       "      <td>0.056236</td>\n",
       "      <td>0.926858</td>\n",
       "      <td>2.980900</td>\n",
       "    </tr>\n",
       "  </tbody>\n",
       "</table>\n",
       "</div>"
      ],
      "text/plain": [
       "           Model DS_train  split_no       MAE      Corr      Dist\n",
       "0        UnetAtt    H1_WZ         0  0.061014  0.927392  3.648461\n",
       "1        UnetAtt    H1_WZ         1  0.056589  0.929966  3.102144\n",
       "2        UnetAtt    H1_WZ         2  0.053749  0.930501  3.083920\n",
       "3        UnetAtt    H1_WZ         3  0.056105  0.924095  2.956594\n",
       "4        UnetAtt    H1_WZ         4  0.056174  0.928438  3.040298\n",
       "5  UnetAttGauss1    H1_WZ         0  0.059555  0.929338  3.427564\n",
       "6  UnetAttGauss1    H1_WZ         1  0.058971  0.927059  3.140853\n",
       "7  UnetAttGauss1    H1_WZ         2  0.063916  0.913848  3.592781\n",
       "8  UnetAttGauss1    H1_WZ         3  0.056629  0.919604  2.926244\n",
       "9  UnetAttGauss1    H1_WZ         4  0.056236  0.926858  2.980900"
      ]
     },
     "execution_count": 9,
     "metadata": {},
     "output_type": "execute_result"
    }
   ],
   "source": [
    "import pandas as pd\n",
    "\n",
    "res = pd.DataFrame.from_records(save_res, columns=['Model', 'DS_train', 'split_no', 'MAE', 'Corr', 'Dist'])\n",
    "res"
   ]
  },
  {
   "cell_type": "code",
   "execution_count": 10,
   "metadata": {},
   "outputs": [
    {
     "data": {
      "text/plain": [
       "[['UnetAtt', 'H1_WZ', 0, 0.061014336, 0.92739236, 3.648461],\n",
       " ['UnetAtt', 'H1_WZ', 1, 0.056588743, 0.9299664, 3.1021445],\n",
       " ['UnetAtt', 'H1_WZ', 2, 0.053748626, 0.93050104, 3.0839195],\n",
       " ['UnetAtt', 'H1_WZ', 3, 0.056105312, 0.9240947, 2.9565938],\n",
       " ['UnetAtt', 'H1_WZ', 4, 0.05617448, 0.92843807, 3.0402982],\n",
       " ['UnetAttGauss1', 'H1_WZ', 0, 0.059555322, 0.9293375, 3.4275641],\n",
       " ['UnetAttGauss1', 'H1_WZ', 1, 0.058970552, 0.92705905, 3.1408527],\n",
       " ['UnetAttGauss1', 'H1_WZ', 2, 0.063915804, 0.9138484, 3.5927813],\n",
       " ['UnetAttGauss1', 'H1_WZ', 3, 0.056629423, 0.9196036, 2.926244],\n",
       " ['UnetAttGauss1', 'H1_WZ', 4, 0.05623567, 0.9268578, 2.9809]]"
      ]
     },
     "execution_count": 10,
     "metadata": {},
     "output_type": "execute_result"
    }
   ],
   "source": [
    "save_res"
   ]
  },
  {
   "cell_type": "code",
   "execution_count": 11,
   "metadata": {},
   "outputs": [
    {
     "data": {
      "text/html": [
       "<div>\n",
       "<style scoped>\n",
       "    .dataframe tbody tr th:only-of-type {\n",
       "        vertical-align: middle;\n",
       "    }\n",
       "\n",
       "    .dataframe tbody tr th {\n",
       "        vertical-align: top;\n",
       "    }\n",
       "\n",
       "    .dataframe thead th {\n",
       "        text-align: right;\n",
       "    }\n",
       "</style>\n",
       "<table border=\"1\" class=\"dataframe\">\n",
       "  <thead>\n",
       "    <tr style=\"text-align: right;\">\n",
       "      <th></th>\n",
       "      <th>split_no</th>\n",
       "      <th>MAE</th>\n",
       "      <th>Corr</th>\n",
       "      <th>Dist</th>\n",
       "    </tr>\n",
       "    <tr>\n",
       "      <th>Model</th>\n",
       "      <th></th>\n",
       "      <th></th>\n",
       "      <th></th>\n",
       "      <th></th>\n",
       "    </tr>\n",
       "  </thead>\n",
       "  <tbody>\n",
       "    <tr>\n",
       "      <th>UnetAtt</th>\n",
       "      <td>2</td>\n",
       "      <td>0.056726</td>\n",
       "      <td>0.928079</td>\n",
       "      <td>3.166283</td>\n",
       "    </tr>\n",
       "    <tr>\n",
       "      <th>UnetAttGauss1</th>\n",
       "      <td>2</td>\n",
       "      <td>0.059061</td>\n",
       "      <td>0.923341</td>\n",
       "      <td>3.213668</td>\n",
       "    </tr>\n",
       "  </tbody>\n",
       "</table>\n",
       "</div>"
      ],
      "text/plain": [
       "               split_no       MAE      Corr      Dist\n",
       "Model                                                \n",
       "UnetAtt               2  0.056726  0.928079  3.166283\n",
       "UnetAttGauss1         2  0.059061  0.923341  3.213668"
      ]
     },
     "execution_count": 11,
     "metadata": {},
     "output_type": "execute_result"
    }
   ],
   "source": [
    "res.groupby('Model').mean()"
   ]
  },
  {
   "cell_type": "code",
   "execution_count": null,
   "metadata": {},
   "outputs": [],
   "source": []
  }
 ],
 "metadata": {
  "kernelspec": {
   "display_name": "Python 3",
   "language": "python",
   "name": "python3"
  },
  "language_info": {
   "codemirror_mode": {
    "name": "ipython",
    "version": 3
   },
   "file_extension": ".py",
   "mimetype": "text/x-python",
   "name": "python",
   "nbconvert_exporter": "python",
   "pygments_lexer": "ipython3",
   "version": "3.5.2"
  }
 },
 "nbformat": 4,
 "nbformat_minor": 2
}
