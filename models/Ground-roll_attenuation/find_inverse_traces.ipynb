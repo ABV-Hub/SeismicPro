{
 "cells": [
  {
   "cell_type": "markdown",
   "metadata": {},
   "source": [
    "### Find inverse traces\n",
    "This notebook shows now to predict inverse trace using first break piking model and Random Trees."
   ]
  },
  {
   "cell_type": "code",
   "execution_count": 1,
   "metadata": {},
   "outputs": [],
   "source": [
    "import sys\n",
    "import torch\n",
    "import segyio\n",
    "import pandas as pd\n",
    "import numpy as np\n",
    "import matplotlib.pyplot as plt\n",
    "\n",
    "from sklearn.model_selection import train_test_split\n",
    "from sklearn.ensemble import RandomForestClassifier\n",
    "from sklearn.linear_model import LogisticRegression\n",
    "from sklearn.metrics import accuracy_score, classification_report\n",
    "\n",
    "sys.path.append('../..')\n",
    "\n",
    "from seismicpro.batchflow import Pipeline, Dataset, B\n",
    "from seismicpro.src import SeismicBatch, FieldIndex, TraceIndex, merge_picking_files, seismic_plot, KNNIndex"
   ]
  },
  {
   "cell_type": "markdown",
   "metadata": {},
   "source": [
    "Firstly we load pretrained TCN model."
   ]
  },
  {
   "cell_type": "code",
   "execution_count": 2,
   "metadata": {},
   "outputs": [],
   "source": [
    "sys.path.append('/notebooks/kalashnikov/')\n",
    "from TCN.mnist_pixel.model import TCN\n",
    "input_channels = 1\n",
    "n_classes = 2\n",
    "nhid = 20\n",
    "levels = 8\n",
    "channel_sizes = [nhid] * levels\n",
    "kernel_size = 3\n",
    "dropout = 0\n",
    "model = TCN(input_channels, n_classes, channel_sizes,\n",
    "            kernel_size=kernel_size, dropout=dropout)\n",
    "model.load_state_dict(torch.load('/notebooks/kalashnikov/TCN/mnist_pixel/model300',\n",
    "                                 map_location='cpu'))\n",
    "\n",
    "path_raw = '/notebooks/egor/FB/Pal/Pal_Flatiron_1k.sgy'\n",
    "\n",
    "index = (FieldIndex(name='raw', path=path_raw, extra_headers=['offset']))"
   ]
  },
  {
   "cell_type": "markdown",
   "metadata": {},
   "source": [
    "Now let's create a batch class instance. This batch class has a function to generate a dataset. The dataset consist the following params:\n",
    "* the amplitude value at the point of the first break picking\n",
    "* the difference between amplitude value on the N traces of neighors.\n",
    "* offset\n",
    "* the difference between time value of the first break picking on the N traces of neighbors."
   ]
  },
  {
   "cell_type": "code",
   "execution_count": 79,
   "metadata": {},
   "outputs": [],
   "source": [
    "from seismicpro.batchflow import action, inbatch_parallel\n",
    "predict = lambda x: np.argmax(np.argmax(model(x).cpu().detach().numpy(), axis=1), axis=1)\n",
    "\n",
    "class InvBatch(SeismicBatch):\n",
    "    @action\n",
    "    @inbatch_parallel(init='_init_component')\n",
    "    def generate_inverse_dataset(self, index, model, num_neig, src, dst=None):\n",
    "        \"\"\"Generate dataset using given model and field data.\n",
    "        \n",
    "        Parameters\n",
    "        ----------\n",
    "        model : torch model\n",
    "            model to predict first break picking.\n",
    "        num_neig : int\n",
    "            number of neighbours to compare model results.\n",
    "        src : str\n",
    "            component's name with data\n",
    "        dst : str or None, optional\n",
    "            component's name to save resulted data.\n",
    "        \"\"\"\n",
    "        dst = src if dst is None else dst\n",
    "        pos = self.get_pos(None, src, index)\n",
    "        field = getattr(self, src)[pos]\n",
    "        offset = np.array(self.index.get_df(index=index)['offset'])\n",
    "\n",
    "        t = torch.Tensor(field).reshape(field.shape[0], 1, field.shape[1])\n",
    "        inv_t = torch.Tensor(-field).reshape(field.shape[0], 1, field.shape[1])\n",
    "        pred = np.array([predict(t), predict(inv_t)]).T\n",
    "\n",
    "        traces_pred = pred.copy()\n",
    "        data = []\n",
    "        for i, (trace, inv_trace, norm_predict, off) in enumerate(zip(field, -field,\n",
    "                                                                      pred, offset)):\n",
    "            for j, (tr, pr) in enumerate([(trace, norm_predict[0]), (inv_trace,\n",
    "                                                                     norm_predict[1])]):\n",
    "                amp_val = tr[pr]\n",
    "                amp_left = []\n",
    "                amp_right = []\n",
    "                inv_amp_left = []\n",
    "                inv_amp_right = []\n",
    "                diff_pred_left = []\n",
    "                diff_pred_right = []\n",
    "                inv_diff_pred_left = []\n",
    "                inv_diff_pred_right = []\n",
    "                for neig in range(1, num_neig+1):\n",
    "                    if i >= neig and i <= len(norm_predict) - neig:\n",
    "                        amp_left.append(amp_val - field[i-neig][pred[i-neig][0]])\n",
    "                        amp_right.append(amp_val - field[i+neig][pred[i+neig][0]])\n",
    "                        inv_amp_left.append(amp_val - (-1)*field[i-neig][pred[i-neig][1]])\n",
    "                        inv_amp_right.append(amp_val - (-1)*field[i+neig][pred[i+neig][1]])\n",
    "                        diff_pred_left.append(pred[i][j] - pred[i-neig][0])\n",
    "                        diff_pred_right.append(pred[i][j] - pred[i+neig][0])\n",
    "                        inv_diff_pred_left.append(pred[i][j] - pred[i-neig][1])\n",
    "                        inv_diff_pred_right.append(pred[i][j] - pred[i+neig][1])\n",
    "                    elif i < neig:\n",
    "                        amp_left.append(0)\n",
    "                        diff_pred_left.append(0)\n",
    "                        inv_amp_left.append(0)\n",
    "                        inv_diff_pred_left.append(0)\n",
    "                        amp_right.append(amp_val - field[i+neig][pred[i+neig][0]])\n",
    "                        inv_amp_right.append(amp_val - (-1)*field[i+neig][pred[i+neig][1]])\n",
    "                        diff_pred_right.append(pred[i][j] - pred[i+neig][0])\n",
    "                        inv_diff_pred_right.append(pred[i][j] - pred[i+neig][1])\n",
    "                    else:\n",
    "                        amp_right.append(0)\n",
    "                        diff_pred_right.append(0)\n",
    "                        inv_amp_right.append(0)\n",
    "                        inv_diff_pred_right.append(0)\n",
    "                        amp_left.append(amp_val - field[i-neig][pred[i-neig][0]])\n",
    "                        diff_pred_left.append(pred[i][j] - pred[i-neig][0])\n",
    "                        amp_left.append(amp_val - field[i-neig][pred[i-neig][0]])\n",
    "                        inv_diff_pred_left.append(pred[i][j] - pred[i-neig][1])\n",
    "\n",
    "                data.append([amp_val, off, *amp_left, *inv_amp_left, *amp_right, *inv_amp_right,\n",
    "                             *diff_pred_left, *inv_diff_pred_left, *diff_pred_right, *inv_diff_pred_right,\n",
    "                             j])\n",
    "        getattr(self, dst)[pos] = data\n",
    "        return self"
   ]
  },
  {
   "cell_type": "markdown",
   "metadata": {},
   "source": [
    "Define pipeline and generate dataset."
   ]
  },
  {
   "cell_type": "code",
   "execution_count": 69,
   "metadata": {},
   "outputs": [],
   "source": [
    "def f(a):\n",
    "    return (a - a.mean())/a.std()\n",
    "\n",
    "ppl = (Dataset(index, InvBatch).p\n",
    "         .load(components='raw', fmt='segy')\n",
    "         .init_variable('diff', init_on_each_run=list)\n",
    "         .apply_transform(f, src='raw')\n",
    "         .generate_inverse_dataset(model, num_neig=10, src='raw', dst='diff')\n",
    "         .update_variable('diff', B('diff'), mode='e')\n",
    "        )"
   ]
  },
  {
   "cell_type": "markdown",
   "metadata": {},
   "source": [
    "Split dataset on train and test."
   ]
  },
  {
   "cell_type": "code",
   "execution_count": 71,
   "metadata": {},
   "outputs": [],
   "source": [
    "z = ppl.next_batch(15)\n",
    "\n",
    "diff = ppl.get_variable('diff')\n",
    "data = np.concatenate(diff)\n",
    "\n",
    "np.random.shuffle(data)\n",
    "dataset, target = data[:,:-1], data[:,-1]\n",
    "X_train, X_test, y_train, y_test = train_test_split(dataset, target)"
   ]
  },
  {
   "cell_type": "markdown",
   "metadata": {},
   "source": [
    "Train Random Forest."
   ]
  },
  {
   "cell_type": "code",
   "execution_count": 73,
   "metadata": {},
   "outputs": [
    {
     "data": {
      "text/plain": [
       "RandomForestClassifier(bootstrap=True, class_weight=None, criterion='gini',\n",
       "            max_depth=None, max_features='auto', max_leaf_nodes=None,\n",
       "            min_impurity_decrease=0.0, min_impurity_split=None,\n",
       "            min_samples_leaf=1, min_samples_split=2,\n",
       "            min_weight_fraction_leaf=0.0, n_estimators=10, n_jobs=1,\n",
       "            oob_score=False, random_state=None, verbose=0,\n",
       "            warm_start=False)"
      ]
     },
     "execution_count": 73,
     "metadata": {},
     "output_type": "execute_result"
    }
   ],
   "source": [
    "tree = RandomForestClassifier()\n",
    "tree.fit(X_train, y_train)"
   ]
  },
  {
   "cell_type": "markdown",
   "metadata": {},
   "source": [
    "Now let's check the model quality. "
   ]
  },
  {
   "cell_type": "code",
   "execution_count": 77,
   "metadata": {},
   "outputs": [
    {
     "name": "stdout",
     "output_type": "stream",
     "text": [
      "             precision    recall  f1-score   support\n",
      "\n",
      "        0.0       0.84      0.88      0.86      3211\n",
      "        1.0       0.87      0.83      0.85      3073\n",
      "\n",
      "avg / total       0.86      0.86      0.86      6284\n",
      "\n"
     ]
    }
   ],
   "source": [
    "pred = tree.predict(X_test)\n",
    "print(classification_report(y_test, pred))"
   ]
  },
  {
   "cell_type": "markdown",
   "metadata": {},
   "source": [
    "And graw feature importance."
   ]
  },
  {
   "cell_type": "code",
   "execution_count": 78,
   "metadata": {},
   "outputs": [
    {
     "data": {
      "image/png": "[encoded data removed]",
      "text/plain": [
       "<Figure size 432x288 with 1 Axes>"
      ]
     },
     "metadata": {},
     "output_type": "display_data"
    }
   ],
   "source": [
    "plt.title('Feature Importances')\n",
    "plt.plot(range(len(tree.feature_importances_)), tree.feature_importances_, marker='o', )\n",
    "plt.grid()"
   ]
  }
 ],
 "metadata": {
  "kernelspec": {
   "display_name": "Python 3",
   "language": "python",
   "name": "python3"
  },
  "language_info": {
   "codemirror_mode": {
    "name": "ipython",
    "version": 3
   },
   "file_extension": ".py",
   "mimetype": "text/x-python",
   "name": "python",
   "nbconvert_exporter": "python",
   "pygments_lexer": "ipython3",
   "version": "3.5.2"
  }
 },
 "nbformat": 4,
 "nbformat_minor": 2
}
