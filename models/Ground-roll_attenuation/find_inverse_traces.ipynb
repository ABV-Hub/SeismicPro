{
 "cells": [
  {
   "cell_type": "markdown",
   "metadata": {},
   "source": [
    "### Find inverse traces\n",
    "This notebook shows now to predict inverse trace using first break piking model and Random Trees."
   ]
  },
  {
   "cell_type": "code",
   "execution_count": 1,
   "metadata": {},
   "outputs": [],
   "source": [
    "import sys\n",
    "import torch\n",
    "import segyio\n",
    "import pandas as pd\n",
    "import numpy as np\n",
    "import matplotlib.pyplot as plt\n",
    "\n",
    "from sklearn.model_selection import train_test_split\n",
    "from sklearn.ensemble import RandomForestClassifier\n",
    "from sklearn.linear_model import LogisticRegression\n",
    "from sklearn.metrics import accuracy_score, classification_report\n",
    "\n",
    "sys.path.append('../..')\n",
    "\n",
    "from seismicpro.batchflow import Pipeline, Dataset, B\n",
    "from seismicpro.batchflow.models.torch import TorchModel\n",
    "from seismicpro.src import (SeismicBatch, FieldIndex, TraceIndex, \n",
    "                            merge_picking_files, seismic_plot, KNNIndex)"
   ]
  },
  {
   "cell_type": "markdown",
   "metadata": {},
   "source": [
    "Firstly we load pretrained TCN model."
   ]
  },
  {
   "cell_type": "code",
   "execution_count": 2,
   "metadata": {},
   "outputs": [],
   "source": [
    "model_path = '/notebooks/kalashnikov/geolog/models/First_break_picking/picks_modelUNet_ker5.dill'\n",
    "\n",
    "model_ppl = Pipeline().init_model('dynamic', TorchModel, 'my_model',\n",
    "                            config={'load' : {'path' : model_path},\n",
    "                                    'build': False})\n",
    "\n",
    "model = model_ppl.get_model_by_name('my_model').model\n",
    "\n",
    "path_raw = '/notebooks/egor/FB/Pal/Pal_Flatiron_1k.sgy'\n",
    "\n",
    "index = (FieldIndex(name='raw', path=path_raw, extra_headers=['offset']))"
   ]
  },
  {
   "cell_type": "markdown",
   "metadata": {},
   "source": [
    "Now let's create a batch class instance. This batch class has a function to generate a dataset. The dataset consist the following params:\n",
    "* the amplitude value at the point of the first break picking\n",
    "* the difference between amplitude value on the N traces of neighors.\n",
    "* offset\n",
    "* the difference between time value of the first break picking on the N traces of neighbors\n",
    "* correlation between part of traces with first break picking points."
   ]
  },
  {
   "cell_type": "code",
   "execution_count": 3,
   "metadata": {},
   "outputs": [],
   "source": [
    "def crop_trace(trace, pred, size):\n",
    "    lenght = len(trace)\n",
    "    if lenght < pred + int(size/2):\n",
    "        left = lenght - size\n",
    "        right = lenght\n",
    "    elif pred - int(size/2) < 0:\n",
    "        left = 0\n",
    "        right = size\n",
    "    else:\n",
    "        left = pred - int(size/2)\n",
    "        right = pred + int(size/2)\n",
    "    return trace[left: right]"
   ]
  },
  {
   "cell_type": "code",
   "execution_count": 4,
   "metadata": {},
   "outputs": [],
   "source": [
    "from seismicpro.batchflow import action, inbatch_parallel\n",
    "predict = lambda x: np.argmax(np.argmax(model(x).cpu().detach().numpy(), axis=1), axis=1)\n",
    "\n",
    "def crop_trace(trace, pred, size):\n",
    "    lenght = len(trace)\n",
    "    if lenght < pred + int(size/2):\n",
    "        left = lenght - size\n",
    "        right = lenght\n",
    "    elif pred - int(size/2) < 0:\n",
    "        left = 0\n",
    "        right = size\n",
    "    else:\n",
    "        left = pred - int(size/2)\n",
    "        right = pred + int(size/2)\n",
    "    return np.array(trace[left: right])\n",
    "\n",
    "class InvBatch(SeismicBatch):\n",
    "    @action\n",
    "    @inbatch_parallel(init='_init_component')\n",
    "    def generate_inverse_dataset(self, index, model, num_neig, src, mode='generate', dst=None, size=20):\n",
    "        \"\"\"Generate dataset using given model and field data.\n",
    "        \n",
    "        Parameters\n",
    "        ----------\n",
    "        model : torch model\n",
    "            model to predict first break picking.\n",
    "        num_neig : int\n",
    "            number of neighbours to compare model results.\n",
    "        src : str\n",
    "            component's name with data\n",
    "        mode : str\n",
    "            There are two generation mode - 'generate' and 'predict'.\n",
    "            If mode = 'generate' then function save dataset with equal number\n",
    "            of normal and inverce traces to dst. If 'predict' then small number of traces\n",
    "            will be inversed and dataset will have the same size as input field.\n",
    "        dst : str or None, optional\n",
    "            component's name to save resulted data.\n",
    "        size : int\n",
    "            size of vectors on the basis of which correlation is considered.\n",
    "        \"\"\"\n",
    "\n",
    "        if mode not in ['generate', 'predict']:\n",
    "            raise ValueError('Incorrect value of \"mode\" parameter.')\n",
    "\n",
    "        dst = src if dst is None else dst\n",
    "        pos = self.get_pos(None, src, index)\n",
    "        field = getattr(self, src)[pos]\n",
    "        offset = np.array(self.index.get_df(index=index)['offset'])\n",
    "        \n",
    "        pred = []\n",
    "        for trace in field:\n",
    "            t = torch.Tensor(trace).reshape(1, 1, trace.shape[0]).to('cuda')\n",
    "            inv_t = torch.Tensor(-trace).reshape(1, 1, trace.shape[0]).to('cuda')\n",
    "            pred.append([predict(t)[0], predict(inv_t)[0]])\n",
    "        data = []\n",
    "        \n",
    "        inv_ix = np.zeros(field.shape[0])\n",
    "        mask = np.random.choice(range(len(inv_ix)), size=np.random.randint(1, 5))\n",
    "        inv_ix[mask] = 1\n",
    "        \n",
    "        for i, (trace, inv_trace, norm_predict, off) in enumerate(zip(field, -field,\n",
    "                                                                      pred, offset)):\n",
    "            traces = [(trace, norm_predict[0]), (inv_trace, norm_predict[1])]\n",
    "            for j, (tr, pr) in enumerate(traces):\n",
    "                if j == 1 and mode == 'predict' and inv_ix[i] != 1:\n",
    "                    continue\n",
    "\n",
    "                amp_val = tr[pr]\n",
    "                \n",
    "                corr_vec = crop_trace(tr, pr, size)\n",
    "                amp_left = []\n",
    "                amp_right = []\n",
    "                inv_amp_left = []\n",
    "                inv_amp_right = []\n",
    "                diff_pred_left = []\n",
    "                diff_pred_right = []\n",
    "                inv_diff_pred_left = []\n",
    "                inv_diff_pred_right = []\n",
    "                corr_left = []\n",
    "                corr_right = []\n",
    "                inv_corr_left = []\n",
    "                inv_corr_right = []\n",
    "                for neig in range(1, num_neig+1):\n",
    "                    if i >= neig and i < len(field) - neig:\n",
    "                        amp_left.append(amp_val - field[i-neig][pred[i-neig][0]])\n",
    "                        amp_right.append(amp_val - field[i+neig][pred[i+neig][0]])\n",
    "                        inv_amp_left.append(amp_val - (-1)*field[i-neig][pred[i-neig][1]])\n",
    "                        inv_amp_right.append(amp_val - (-1)*field[i+neig][pred[i+neig][1]])\n",
    "                        diff_pred_left.append(pred[i][j] - pred[i-neig][0])\n",
    "                        diff_pred_right.append(pred[i][j] - pred[i+neig][0])\n",
    "                        inv_diff_pred_left.append(pred[i][j] - pred[i-neig][1])\n",
    "                        inv_diff_pred_right.append(pred[i][j] - pred[i+neig][1])\n",
    "                        \n",
    "                        left_vec = crop_trace(field[i-neig], pred[i-neig][0], size)\n",
    "                        right_vec = crop_trace(field[i+neig], pred[i+neig][0], size)\n",
    "                        inv_left_vec = crop_trace(field[i-neig], pred[i-neig][1], size)\n",
    "                        inv_right_vec = crop_trace(field[i+neig], pred[i+neig][1], size)\n",
    "                        corr_left.append(np.corrcoef(left_vec, corr_vec)[0][1])\n",
    "                        corr_right.append(np.corrcoef(right_vec, corr_vec)[0][1])\n",
    "                        inv_corr_left.append(np.corrcoef(inv_left_vec, corr_vec)[0][1])\n",
    "                        inv_corr_right.append(np.corrcoef(inv_right_vec, corr_vec)[0][1])\n",
    "\n",
    "                    elif i < neig:\n",
    "                        amp_left.append(0)\n",
    "                        diff_pred_left.append(0)\n",
    "                        inv_amp_left.append(0)\n",
    "                        inv_diff_pred_left.append(0)\n",
    "                        corr_left.append(0)\n",
    "                        inv_corr_left.append(0)\n",
    "                        amp_right.append(amp_val - field[i+neig][pred[i+neig][0]])\n",
    "                        inv_amp_right.append(amp_val - (-1)*field[i+neig][pred[i+neig][1]])\n",
    "                        diff_pred_right.append(pred[i][j] - pred[i+neig][0])\n",
    "                        inv_diff_pred_right.append(pred[i][j] - pred[i+neig][1])\n",
    "                        \n",
    "                        right_vec = crop_trace(field[i+neig], pred[i+neig][0], size)\n",
    "                        inv_right_vec = crop_trace(field[i+neig], pred[i+neig][1], size)\n",
    "                        corr_right.append(np.corrcoef(right_vec, corr_vec)[0][1])\n",
    "                        inv_corr_right.append(np.corrcoef(inv_right_vec, corr_vec)[0][1])\n",
    "                    else:\n",
    "                        amp_right.append(0)\n",
    "                        diff_pred_right.append(0)\n",
    "                        inv_amp_right.append(0)\n",
    "                        inv_diff_pred_right.append(0)\n",
    "                        corr_right.append(0)\n",
    "                        inv_corr_right.append(0)\n",
    "                        amp_left.append(amp_val - field[i-neig][pred[i-neig][0]])\n",
    "                        diff_pred_left.append(pred[i][j] - pred[i-neig][0])\n",
    "                        amp_left.append(amp_val - field[i-neig][pred[i-neig][0]])\n",
    "                        inv_diff_pred_left.append(pred[i][j] - pred[i-neig][1])\n",
    "                        \n",
    "                        left_vec = crop_trace(field[i-neig], pred[i-neig][0], size)\n",
    "                        inv_left_vec = crop_trace(field[i-neig], pred[i-neig][1], size)\n",
    "                        corr_left.append(np.corrcoef(left_vec, corr_vec)[0][1])\n",
    "                        inv_corr_left.append(np.corrcoef(inv_left_vec, corr_vec)[0][1])\n",
    "\n",
    "                data.append([amp_val, off, *amp_left, *inv_amp_left, *amp_right, *inv_amp_right,\n",
    "                             *diff_pred_left, *inv_diff_pred_left, *diff_pred_right, *inv_diff_pred_right,\n",
    "                             *corr_left, *corr_right, *inv_corr_left, *inv_corr_right,\n",
    "                             j])\n",
    "        getattr(self, dst)[pos] = data\n",
    "        return self"
   ]
  },
  {
   "cell_type": "markdown",
   "metadata": {},
   "source": [
    "Define pipeline and generate dataset."
   ]
  },
  {
   "cell_type": "code",
   "execution_count": 5,
   "metadata": {},
   "outputs": [],
   "source": [
    "def f(a):\n",
    "    return (a - a.mean())/a.std()\n",
    "\n",
    "ppl = (Dataset(index, InvBatch).p\n",
    "         .load(components='raw', fmt='segy')\n",
    "         .init_variable('diff', init_on_each_run=list)\n",
    "         .apply_transform(f, src='raw')\n",
    "         .generate_inverse_dataset(model, num_neig=10, src='raw', dst='diff')\n",
    "         .update_variable('diff', B('diff'), mode='e')\n",
    "        )"
   ]
  },
  {
   "cell_type": "markdown",
   "metadata": {},
   "source": [
    "Split dataset on train and test."
   ]
  },
  {
   "cell_type": "code",
   "execution_count": 6,
   "metadata": {},
   "outputs": [
    {
     "name": "stdout",
     "output_type": "stream",
     "text": [
      "CPU times: user 14min 48s, sys: 3min 50s, total: 18min 39s\n",
      "Wall time: 9min 28s\n"
     ]
    }
   ],
   "source": [
    "%%time\n",
    "z = ppl.next_batch(15)\n",
    "\n",
    "diff = ppl.get_variable('diff')\n",
    "data = np.concatenate(diff)\n",
    "\n",
    "np.random.shuffle(data)\n",
    "dataset, target = data[:,:-1], data[:,-1]\n",
    "dataset = np.nan_to_num(dataset)\n",
    "\n",
    "X_train, X_test, y_train, y_test = train_test_split(dataset, target)"
   ]
  },
  {
   "cell_type": "markdown",
   "metadata": {},
   "source": [
    "Train Random Forest."
   ]
  },
  {
   "cell_type": "code",
   "execution_count": 7,
   "metadata": {},
   "outputs": [
    {
     "data": {
      "text/plain": [
       "RandomForestClassifier(bootstrap=True, class_weight=None, criterion='gini',\n",
       "            max_depth=None, max_features='auto', max_leaf_nodes=None,\n",
       "            min_impurity_decrease=0.0, min_impurity_split=None,\n",
       "            min_samples_leaf=1, min_samples_split=2,\n",
       "            min_weight_fraction_leaf=0.0, n_estimators=10, n_jobs=1,\n",
       "            oob_score=False, random_state=None, verbose=0,\n",
       "            warm_start=False)"
      ]
     },
     "execution_count": 7,
     "metadata": {},
     "output_type": "execute_result"
    }
   ],
   "source": [
    "tree = RandomForestClassifier()\n",
    "tree.fit(X_train, y_train)"
   ]
  },
  {
   "cell_type": "markdown",
   "metadata": {},
   "source": [
    "Now let's check the model quality. "
   ]
  },
  {
   "cell_type": "code",
   "execution_count": 8,
   "metadata": {},
   "outputs": [
    {
     "name": "stdout",
     "output_type": "stream",
     "text": [
      "             precision    recall  f1-score   support\n",
      "\n",
      "        0.0       0.95      0.98      0.96      3086\n",
      "        1.0       0.98      0.95      0.96      3198\n",
      "\n",
      "avg / total       0.96      0.96      0.96      6284\n",
      "\n",
      "Accuracy score: 0.962\n"
     ]
    }
   ],
   "source": [
    "pred = tree.predict(X_test)\n",
    "print(classification_report(y_test, pred))\n",
    "print('Accuracy score: {:.3}'.format(accuracy_score(y_test, pred)))"
   ]
  },
  {
   "cell_type": "markdown",
   "metadata": {},
   "source": [
    "And graw feature importance."
   ]
  },
  {
   "cell_type": "code",
   "execution_count": 9,
   "metadata": {},
   "outputs": [
    {
     "data": {
      "image/png": "[encoded data removed]",
      "text/plain": [
       "<Figure size 432x288 with 1 Axes>"
      ]
     },
     "metadata": {},
     "output_type": "display_data"
    }
   ],
   "source": [
    "plt.title('Feature Importances')\n",
    "plt.plot(range(len(tree.feature_importances_)), tree.feature_importances_, marker='o')\n",
    "plt.grid()"
   ]
  },
  {
   "cell_type": "markdown",
   "metadata": {},
   "source": [
    "Let's inverse some traces in one filed and check how the model will find inverse traces."
   ]
  },
  {
   "cell_type": "code",
   "execution_count": 10,
   "metadata": {},
   "outputs": [],
   "source": [
    "ppl = (Dataset(index, InvBatch).p\n",
    "         .load(components='raw', fmt='segy')\n",
    "         .init_variable('diff', init_on_each_run=list)\n",
    "         .apply_transform(f, src='raw')\n",
    "         .generate_inverse_dataset(model, num_neig=10, src='raw', mode='predict', dst='diff')\n",
    "         .update_variable('diff', B('diff'), mode='e')\n",
    "        )"
   ]
  },
  {
   "cell_type": "code",
   "execution_count": 11,
   "metadata": {},
   "outputs": [
    {
     "name": "stdout",
     "output_type": "stream",
     "text": [
      "             precision    recall  f1-score   support\n",
      "\n",
      "        0.0       1.00      1.00      1.00       840\n",
      "        1.0       0.75      1.00      0.86         3\n",
      "\n",
      "avg / total       1.00      1.00      1.00       843\n",
      "\n",
      "Accuracy score: 0.999\n",
      "Number of inverse traces: 3.0\n",
      "Number of predict inverse traces: 4.0\n"
     ]
    }
   ],
   "source": [
    "batch = ppl.next_batch(1)\n",
    "\n",
    "pred_diff = ppl.get_variable('diff')\n",
    "pred_data = np.concatenate(pred_diff)\n",
    "\n",
    "pred_dataset, pred_target = pred_data[:, : -1], pred_data[:, -1]\n",
    "pred_dataset = np.nan_to_num(pred_dataset)\n",
    "\n",
    "pred = tree.predict(pred_dataset)\n",
    "print(classification_report(pred_target, pred))\n",
    "print('Accuracy score: {:.3}'.format(accuracy_score(pred_target, pred)))\n",
    "print('Number of inverse traces: {}\\nNumber of predict inverse traces: {}'.format(sum(pred_target),\n",
    "                                                                                  sum(pred)))"
   ]
  },
  {
   "cell_type": "markdown",
   "metadata": {},
   "source": [
    "One can notice that there are many false positive predictions."
   ]
  }
 ],
 "metadata": {
  "kernelspec": {
   "display_name": "Python 3",
   "language": "python",
   "name": "python3"
  },
  "language_info": {
   "codemirror_mode": {
    "name": "ipython",
    "version": 3
   },
   "file_extension": ".py",
   "mimetype": "text/x-python",
   "name": "python",
   "nbconvert_exporter": "python",
   "pygments_lexer": "ipython3",
   "version": "3.5.2"
  }
 },
 "nbformat": 4,
 "nbformat_minor": 2
}
