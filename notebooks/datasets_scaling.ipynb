{
 "cells": [
  {
   "cell_type": "code",
   "execution_count": 1,
   "metadata": {},
   "outputs": [],
   "source": [
    "import os\n",
    "import sys\n",
    "import numpy as np\n",
    "import matplotlib.pyplot as plt\n",
    "from tqdm import tqdm\n",
    "from sklearn.metrics import classification_report, accuracy_score\n",
    "\n",
    "sys.path.append('..')\n",
    "\n",
    "from seismicpro.batchflow import Dataset, DatasetIndex, Pipeline, B, V, F\n",
    "\n",
    "from seismicpro.src import (SeismicBatch, FieldIndex, TraceIndex, KNNIndex, CustomIndex,\n",
    "                            seismic_plot, spectrum_plot, merge_segy_files)"
   ]
  },
  {
   "cell_type": "code",
   "execution_count": 5,
   "metadata": {},
   "outputs": [
    {
     "data": {
      "text/html": [
       "<div>\n",
       "<style scoped>\n",
       "    .dataframe tbody tr th:only-of-type {\n",
       "        vertical-align: middle;\n",
       "    }\n",
       "\n",
       "    .dataframe tbody tr th {\n",
       "        vertical-align: top;\n",
       "    }\n",
       "\n",
       "    .dataframe thead tr th {\n",
       "        text-align: left;\n",
       "    }\n",
       "\n",
       "    .dataframe thead tr:last-of-type th {\n",
       "        text-align: right;\n",
       "    }\n",
       "</style>\n",
       "<table border=\"1\" class=\"dataframe\">\n",
       "  <thead>\n",
       "    <tr>\n",
       "      <th></th>\n",
       "      <th>offset</th>\n",
       "      <th>TraceNumber</th>\n",
       "      <th>TRACE_SEQUENCE_FILE</th>\n",
       "      <th>file_id</th>\n",
       "      <th>TRACE_SEQUENCE_FILE</th>\n",
       "      <th>file_id</th>\n",
       "    </tr>\n",
       "    <tr>\n",
       "      <th></th>\n",
       "      <th></th>\n",
       "      <th></th>\n",
       "      <th>raw</th>\n",
       "      <th>raw</th>\n",
       "      <th>lift</th>\n",
       "      <th>lift</th>\n",
       "    </tr>\n",
       "    <tr>\n",
       "      <th>FieldRecord</th>\n",
       "      <th></th>\n",
       "      <th></th>\n",
       "      <th></th>\n",
       "      <th></th>\n",
       "      <th></th>\n",
       "      <th></th>\n",
       "    </tr>\n",
       "  </thead>\n",
       "  <tbody>\n",
       "    <tr>\n",
       "      <th>111906</th>\n",
       "      <td>35</td>\n",
       "      <td>1656</td>\n",
       "      <td>1</td>\n",
       "      <td>/notebooks/egor/noise_dataset_1/DN02A_LIFT_AMP...</td>\n",
       "      <td>1</td>\n",
       "      <td>/notebooks/egor/noise_dataset_1/DN02B_SHOTS_LI...</td>\n",
       "    </tr>\n",
       "    <tr>\n",
       "      <th>111906</th>\n",
       "      <td>36</td>\n",
       "      <td>1657</td>\n",
       "      <td>2</td>\n",
       "      <td>/notebooks/egor/noise_dataset_1/DN02A_LIFT_AMP...</td>\n",
       "      <td>2</td>\n",
       "      <td>/notebooks/egor/noise_dataset_1/DN02B_SHOTS_LI...</td>\n",
       "    </tr>\n",
       "    <tr>\n",
       "      <th>111906</th>\n",
       "      <td>78</td>\n",
       "      <td>1655</td>\n",
       "      <td>3</td>\n",
       "      <td>/notebooks/egor/noise_dataset_1/DN02A_LIFT_AMP...</td>\n",
       "      <td>3</td>\n",
       "      <td>/notebooks/egor/noise_dataset_1/DN02B_SHOTS_LI...</td>\n",
       "    </tr>\n",
       "    <tr>\n",
       "      <th>111906</th>\n",
       "      <td>79</td>\n",
       "      <td>1658</td>\n",
       "      <td>4</td>\n",
       "      <td>/notebooks/egor/noise_dataset_1/DN02A_LIFT_AMP...</td>\n",
       "      <td>4</td>\n",
       "      <td>/notebooks/egor/noise_dataset_1/DN02B_SHOTS_LI...</td>\n",
       "    </tr>\n",
       "    <tr>\n",
       "      <th>111906</th>\n",
       "      <td>127</td>\n",
       "      <td>1654</td>\n",
       "      <td>5</td>\n",
       "      <td>/notebooks/egor/noise_dataset_1/DN02A_LIFT_AMP...</td>\n",
       "      <td>5</td>\n",
       "      <td>/notebooks/egor/noise_dataset_1/DN02B_SHOTS_LI...</td>\n",
       "    </tr>\n",
       "  </tbody>\n",
       "</table>\n",
       "</div>"
      ],
      "text/plain": [
       "            offset TraceNumber TRACE_SEQUENCE_FILE  \\\n",
       "                                               raw   \n",
       "FieldRecord                                          \n",
       "111906          35        1656                   1   \n",
       "111906          36        1657                   2   \n",
       "111906          78        1655                   3   \n",
       "111906          79        1658                   4   \n",
       "111906         127        1654                   5   \n",
       "\n",
       "                                                       file_id  \\\n",
       "                                                           raw   \n",
       "FieldRecord                                                      \n",
       "111906       /notebooks/egor/noise_dataset_1/DN02A_LIFT_AMP...   \n",
       "111906       /notebooks/egor/noise_dataset_1/DN02A_LIFT_AMP...   \n",
       "111906       /notebooks/egor/noise_dataset_1/DN02A_LIFT_AMP...   \n",
       "111906       /notebooks/egor/noise_dataset_1/DN02A_LIFT_AMP...   \n",
       "111906       /notebooks/egor/noise_dataset_1/DN02A_LIFT_AMP...   \n",
       "\n",
       "            TRACE_SEQUENCE_FILE  \\\n",
       "                           lift   \n",
       "FieldRecord                       \n",
       "111906                        1   \n",
       "111906                        2   \n",
       "111906                        3   \n",
       "111906                        4   \n",
       "111906                        5   \n",
       "\n",
       "                                                       file_id  \n",
       "                                                          lift  \n",
       "FieldRecord                                                     \n",
       "111906       /notebooks/egor/noise_dataset_1/DN02B_SHOTS_LI...  \n",
       "111906       /notebooks/egor/noise_dataset_1/DN02B_SHOTS_LI...  \n",
       "111906       /notebooks/egor/noise_dataset_1/DN02B_SHOTS_LI...  \n",
       "111906       /notebooks/egor/noise_dataset_1/DN02B_SHOTS_LI...  \n",
       "111906       /notebooks/egor/noise_dataset_1/DN02B_SHOTS_LI...  "
      ]
     },
     "execution_count": 5,
     "metadata": {},
     "output_type": "execute_result"
    }
   ],
   "source": [
    "path_raw = '/notebooks/egor/noise_dataset_1/DN02A_LIFT_AMPSCAL.sgy'\n",
    "path_lift = '/notebooks/egor/noise_dataset_1/DN02B_SHOTS_LIFT1.sgy'\n",
    "\n",
    "index1 = (FieldIndex(name='raw', extra_headers=['offset'], path=path_raw)\n",
    "          .merge(FieldIndex(name='lift', path=path_lift)))\n",
    "index1.head()"
   ]
  },
  {
   "cell_type": "code",
   "execution_count": 3,
   "metadata": {},
   "outputs": [
    {
     "data": {
      "text/html": [
       "<div>\n",
       "<style scoped>\n",
       "    .dataframe tbody tr th:only-of-type {\n",
       "        vertical-align: middle;\n",
       "    }\n",
       "\n",
       "    .dataframe tbody tr th {\n",
       "        vertical-align: top;\n",
       "    }\n",
       "\n",
       "    .dataframe thead tr th {\n",
       "        text-align: left;\n",
       "    }\n",
       "\n",
       "    .dataframe thead tr:last-of-type th {\n",
       "        text-align: right;\n",
       "    }\n",
       "</style>\n",
       "<table border=\"1\" class=\"dataframe\">\n",
       "  <thead>\n",
       "    <tr>\n",
       "      <th></th>\n",
       "      <th>offset</th>\n",
       "      <th>TraceNumber</th>\n",
       "      <th>TRACE_SEQUENCE_FILE</th>\n",
       "      <th>file_id</th>\n",
       "      <th>TRACE_SEQUENCE_FILE</th>\n",
       "      <th>file_id</th>\n",
       "    </tr>\n",
       "    <tr>\n",
       "      <th></th>\n",
       "      <th></th>\n",
       "      <th></th>\n",
       "      <th>raw</th>\n",
       "      <th>raw</th>\n",
       "      <th>lift</th>\n",
       "      <th>lift</th>\n",
       "    </tr>\n",
       "    <tr>\n",
       "      <th>FieldRecord</th>\n",
       "      <th></th>\n",
       "      <th></th>\n",
       "      <th></th>\n",
       "      <th></th>\n",
       "      <th></th>\n",
       "      <th></th>\n",
       "    </tr>\n",
       "  </thead>\n",
       "  <tbody>\n",
       "    <tr>\n",
       "      <th>3370</th>\n",
       "      <td>35</td>\n",
       "      <td>473</td>\n",
       "      <td>1</td>\n",
       "      <td>/notebooks/egor/noise_dataset_2/D01_for_Lift.sgy</td>\n",
       "      <td>1</td>\n",
       "      <td>/notebooks/egor/noise_dataset_2/D02_Lift_SP.sgy</td>\n",
       "    </tr>\n",
       "    <tr>\n",
       "      <th>3370</th>\n",
       "      <td>36</td>\n",
       "      <td>472</td>\n",
       "      <td>2</td>\n",
       "      <td>/notebooks/egor/noise_dataset_2/D01_for_Lift.sgy</td>\n",
       "      <td>2</td>\n",
       "      <td>/notebooks/egor/noise_dataset_2/D02_Lift_SP.sgy</td>\n",
       "    </tr>\n",
       "    <tr>\n",
       "      <th>3370</th>\n",
       "      <td>79</td>\n",
       "      <td>471</td>\n",
       "      <td>3</td>\n",
       "      <td>/notebooks/egor/noise_dataset_2/D01_for_Lift.sgy</td>\n",
       "      <td>3</td>\n",
       "      <td>/notebooks/egor/noise_dataset_2/D02_Lift_SP.sgy</td>\n",
       "    </tr>\n",
       "    <tr>\n",
       "      <th>3370</th>\n",
       "      <td>79</td>\n",
       "      <td>474</td>\n",
       "      <td>4</td>\n",
       "      <td>/notebooks/egor/noise_dataset_2/D01_for_Lift.sgy</td>\n",
       "      <td>4</td>\n",
       "      <td>/notebooks/egor/noise_dataset_2/D02_Lift_SP.sgy</td>\n",
       "    </tr>\n",
       "    <tr>\n",
       "      <th>3370</th>\n",
       "      <td>127</td>\n",
       "      <td>470</td>\n",
       "      <td>5</td>\n",
       "      <td>/notebooks/egor/noise_dataset_2/D01_for_Lift.sgy</td>\n",
       "      <td>5</td>\n",
       "      <td>/notebooks/egor/noise_dataset_2/D02_Lift_SP.sgy</td>\n",
       "    </tr>\n",
       "  </tbody>\n",
       "</table>\n",
       "</div>"
      ],
      "text/plain": [
       "            offset TraceNumber TRACE_SEQUENCE_FILE  \\\n",
       "                                               raw   \n",
       "FieldRecord                                          \n",
       "3370            35         473                   1   \n",
       "3370            36         472                   2   \n",
       "3370            79         471                   3   \n",
       "3370            79         474                   4   \n",
       "3370           127         470                   5   \n",
       "\n",
       "                                                      file_id  \\\n",
       "                                                          raw   \n",
       "FieldRecord                                                     \n",
       "3370         /notebooks/egor/noise_dataset_2/D01_for_Lift.sgy   \n",
       "3370         /notebooks/egor/noise_dataset_2/D01_for_Lift.sgy   \n",
       "3370         /notebooks/egor/noise_dataset_2/D01_for_Lift.sgy   \n",
       "3370         /notebooks/egor/noise_dataset_2/D01_for_Lift.sgy   \n",
       "3370         /notebooks/egor/noise_dataset_2/D01_for_Lift.sgy   \n",
       "\n",
       "            TRACE_SEQUENCE_FILE  \\\n",
       "                           lift   \n",
       "FieldRecord                       \n",
       "3370                          1   \n",
       "3370                          2   \n",
       "3370                          3   \n",
       "3370                          4   \n",
       "3370                          5   \n",
       "\n",
       "                                                     file_id  \n",
       "                                                        lift  \n",
       "FieldRecord                                                   \n",
       "3370         /notebooks/egor/noise_dataset_2/D02_Lift_SP.sgy  \n",
       "3370         /notebooks/egor/noise_dataset_2/D02_Lift_SP.sgy  \n",
       "3370         /notebooks/egor/noise_dataset_2/D02_Lift_SP.sgy  \n",
       "3370         /notebooks/egor/noise_dataset_2/D02_Lift_SP.sgy  \n",
       "3370         /notebooks/egor/noise_dataset_2/D02_Lift_SP.sgy  "
      ]
     },
     "execution_count": 3,
     "metadata": {},
     "output_type": "execute_result"
    }
   ],
   "source": [
    "path_raw = '/notebooks/egor/noise_dataset_2/D01_for_Lift.sgy'\n",
    "path_lift = '/notebooks/egor/noise_dataset_2/D02_Lift_SP.sgy'\n",
    "\n",
    "index2 = (FieldIndex(name='raw', extra_headers=['offset'], path=path_raw)\n",
    "          .merge(FieldIndex(name='lift', path=path_lift)))\n",
    "index2.head()"
   ]
  },
  {
   "cell_type": "code",
   "execution_count": 2,
   "metadata": {},
   "outputs": [
    {
     "data": {
      "text/html": [
       "<div>\n",
       "<style scoped>\n",
       "    .dataframe tbody tr th:only-of-type {\n",
       "        vertical-align: middle;\n",
       "    }\n",
       "\n",
       "    .dataframe tbody tr th {\n",
       "        vertical-align: top;\n",
       "    }\n",
       "\n",
       "    .dataframe thead tr th {\n",
       "        text-align: left;\n",
       "    }\n",
       "\n",
       "    .dataframe thead tr:last-of-type th {\n",
       "        text-align: right;\n",
       "    }\n",
       "</style>\n",
       "<table border=\"1\" class=\"dataframe\">\n",
       "  <thead>\n",
       "    <tr>\n",
       "      <th></th>\n",
       "      <th>offset</th>\n",
       "      <th>TraceNumber</th>\n",
       "      <th>TRACE_SEQUENCE_FILE</th>\n",
       "      <th>file_id</th>\n",
       "      <th>TRACE_SEQUENCE_FILE</th>\n",
       "      <th>file_id</th>\n",
       "    </tr>\n",
       "    <tr>\n",
       "      <th></th>\n",
       "      <th></th>\n",
       "      <th></th>\n",
       "      <th>raw</th>\n",
       "      <th>raw</th>\n",
       "      <th>lift</th>\n",
       "      <th>lift</th>\n",
       "    </tr>\n",
       "    <tr>\n",
       "      <th>FieldRecord</th>\n",
       "      <th></th>\n",
       "      <th></th>\n",
       "      <th></th>\n",
       "      <th></th>\n",
       "      <th></th>\n",
       "      <th></th>\n",
       "    </tr>\n",
       "  </thead>\n",
       "  <tbody>\n",
       "    <tr>\n",
       "      <th>10407</th>\n",
       "      <td>79</td>\n",
       "      <td>1956</td>\n",
       "      <td>1</td>\n",
       "      <td>/notebooks/egor/noise_dataset_3/5_NA-gr_input_...</td>\n",
       "      <td>1</td>\n",
       "      <td>/notebooks/egor/noise_dataset_3/5_NA-gr_output...</td>\n",
       "    </tr>\n",
       "    <tr>\n",
       "      <th>10407</th>\n",
       "      <td>3347</td>\n",
       "      <td>623</td>\n",
       "      <td>2215</td>\n",
       "      <td>/notebooks/egor/noise_dataset_3/5_NA-gr_input_...</td>\n",
       "      <td>2215</td>\n",
       "      <td>/notebooks/egor/noise_dataset_3/5_NA-gr_output...</td>\n",
       "    </tr>\n",
       "    <tr>\n",
       "      <th>10407</th>\n",
       "      <td>3348</td>\n",
       "      <td>698</td>\n",
       "      <td>2216</td>\n",
       "      <td>/notebooks/egor/noise_dataset_3/5_NA-gr_input_...</td>\n",
       "      <td>2216</td>\n",
       "      <td>/notebooks/egor/noise_dataset_3/5_NA-gr_output...</td>\n",
       "    </tr>\n",
       "    <tr>\n",
       "      <th>10407</th>\n",
       "      <td>3348</td>\n",
       "      <td>1037</td>\n",
       "      <td>2217</td>\n",
       "      <td>/notebooks/egor/noise_dataset_3/5_NA-gr_input_...</td>\n",
       "      <td>2217</td>\n",
       "      <td>/notebooks/egor/noise_dataset_3/5_NA-gr_output...</td>\n",
       "    </tr>\n",
       "    <tr>\n",
       "      <th>10407</th>\n",
       "      <td>3348</td>\n",
       "      <td>1148</td>\n",
       "      <td>2218</td>\n",
       "      <td>/notebooks/egor/noise_dataset_3/5_NA-gr_input_...</td>\n",
       "      <td>2218</td>\n",
       "      <td>/notebooks/egor/noise_dataset_3/5_NA-gr_output...</td>\n",
       "    </tr>\n",
       "  </tbody>\n",
       "</table>\n",
       "</div>"
      ],
      "text/plain": [
       "            offset TraceNumber TRACE_SEQUENCE_FILE  \\\n",
       "                                               raw   \n",
       "FieldRecord                                          \n",
       "10407           79        1956                   1   \n",
       "10407         3347         623                2215   \n",
       "10407         3348         698                2216   \n",
       "10407         3348        1037                2217   \n",
       "10407         3348        1148                2218   \n",
       "\n",
       "                                                       file_id  \\\n",
       "                                                           raw   \n",
       "FieldRecord                                                      \n",
       "10407        /notebooks/egor/noise_dataset_3/5_NA-gr_input_...   \n",
       "10407        /notebooks/egor/noise_dataset_3/5_NA-gr_input_...   \n",
       "10407        /notebooks/egor/noise_dataset_3/5_NA-gr_input_...   \n",
       "10407        /notebooks/egor/noise_dataset_3/5_NA-gr_input_...   \n",
       "10407        /notebooks/egor/noise_dataset_3/5_NA-gr_input_...   \n",
       "\n",
       "            TRACE_SEQUENCE_FILE  \\\n",
       "                           lift   \n",
       "FieldRecord                       \n",
       "10407                         1   \n",
       "10407                      2215   \n",
       "10407                      2216   \n",
       "10407                      2217   \n",
       "10407                      2218   \n",
       "\n",
       "                                                       file_id  \n",
       "                                                          lift  \n",
       "FieldRecord                                                     \n",
       "10407        /notebooks/egor/noise_dataset_3/5_NA-gr_output...  \n",
       "10407        /notebooks/egor/noise_dataset_3/5_NA-gr_output...  \n",
       "10407        /notebooks/egor/noise_dataset_3/5_NA-gr_output...  \n",
       "10407        /notebooks/egor/noise_dataset_3/5_NA-gr_output...  \n",
       "10407        /notebooks/egor/noise_dataset_3/5_NA-gr_output...  "
      ]
     },
     "execution_count": 2,
     "metadata": {},
     "output_type": "execute_result"
    }
   ],
   "source": [
    "path_raw = '/notebooks/egor/noise_dataset_3/5_NA-gr_input_raw.sgy'\n",
    "path_lift = '/notebooks/egor/noise_dataset_3/5_NA-gr_output_lift5.sgy'\n",
    "\n",
    "index3 = (FieldIndex(name='raw', extra_headers=['offset'], path=path_raw)\n",
    "          .merge(FieldIndex(name='lift', path=path_lift)))\n",
    "index3.head()"
   ]
  },
  {
   "cell_type": "code",
   "execution_count": 6,
   "metadata": {},
   "outputs": [],
   "source": [
    "batch1 = (Dataset(index1, SeismicBatch).next_batch(5)\n",
    "         .load(fmt='sgy', components=('raw', 'lift'))\n",
    "         .sort_traces(src=('raw', 'lift'), dst=('raw', 'lift'), sort_by='offset')\n",
    "          )\n",
    "\n",
    "batch2 = (Dataset(index2, SeismicBatch).next_batch(5)\n",
    "         .load(fmt='sgy', components=('raw', 'lift'))\n",
    "         .sort_traces(src=('raw', 'lift'), dst=('raw', 'lift'), sort_by='offset')\n",
    "          )\n",
    "\n",
    "batch3 = (Dataset(index3, SeismicBatch).next_batch(5)\n",
    "         .load(fmt='sgy', components=('raw', 'lift'))\n",
    "         .sort_traces(src=('raw', 'lift'), dst=('raw', 'lift'), sort_by='offset')\n",
    "          )"
   ]
  },
  {
   "cell_type": "code",
   "execution_count": 69,
   "metadata": {},
   "outputs": [],
   "source": [
    "def get_statistics(arr):\n",
    "    stats = []\n",
    "    stats.append(np.mean(abs(arr), axis=1))\n",
    "    stats.append(np.median(abs(arr), axis=1))\n",
    "    stats.append(np.max(abs(arr), axis=1))\n",
    "    stats.append(np.std(abs(arr), axis=1))\n",
    "    stats.append(np.std(arr, axis=1))\n",
    "    stats.append(np.sqrt(np.sum(arr**2, axis=1) / arr.shape[1]))\n",
    "    return np.array(stats).T"
   ]
  },
  {
   "cell_type": "code",
   "execution_count": 70,
   "metadata": {},
   "outputs": [],
   "source": [
    "stats1 = get_statistics(np.vstack(batch1.raw))\n",
    "stats2 = get_statistics(np.vstack(batch2.raw))\n",
    "stats3 = get_statistics(np.vstack(batch3.raw))"
   ]
  },
  {
   "cell_type": "code",
   "execution_count": 72,
   "metadata": {},
   "outputs": [
    {
     "data": {
      "image/png": "[encoded data removed]",
      "text/plain": [
       "<Figure size 432x288 with 1 Axes>"
      ]
     },
     "metadata": {},
     "output_type": "display_data"
    }
   ],
   "source": [
    "plt.plot(stats1[:, 0])\n",
    "plt.plot(stats2[:, 0])\n",
    "plt.plot(stats3[:, 0])\n",
    "plt.show()"
   ]
  },
  {
   "cell_type": "code",
   "execution_count": 102,
   "metadata": {},
   "outputs": [],
   "source": [
    "data = np.vstack([stats1, stats2, stats3])"
   ]
  },
  {
   "cell_type": "code",
   "execution_count": 105,
   "metadata": {},
   "outputs": [],
   "source": [
    "coef1 = 1\n",
    "coef2 = 2\n",
    "coef3 = 1 / 1000\n",
    "coefs = [coef1] * len(stats1) + [coef2] * len(stats2) + [coef3] * len(stats3)\n",
    "coefs = np.array(coefs).reshape((-1, 1))"
   ]
  },
  {
   "cell_type": "code",
   "execution_count": 106,
   "metadata": {},
   "outputs": [
    {
     "data": {
      "image/png": "[encoded data removed]",
      "text/plain": [
       "<Figure size 432x288 with 1 Axes>"
      ]
     },
     "metadata": {},
     "output_type": "display_data"
    }
   ],
   "source": [
    "plt.plot((data * coefs)[:, 5])\n",
    "plt.show()"
   ]
  },
  {
   "cell_type": "code",
   "execution_count": 108,
   "metadata": {},
   "outputs": [
    {
     "name": "stdout",
     "output_type": "stream",
     "text": [
      "             precision    recall  f1-score   support\n",
      "\n",
      "          0       0.86      0.93      0.89     17280\n",
      "          1       0.80      0.55      0.65      5200\n",
      "          2       0.96      0.97      0.97     16101\n",
      "\n",
      "avg / total       0.89      0.90      0.89     38581\n",
      "\n",
      "0.8953889220082424\n"
     ]
    }
   ],
   "source": [
    "from sklearn.ensemble import RandomForestClassifier\n",
    "\n",
    "model = RandomForestClassifier(n_estimators=100, max_depth=10)\n",
    "\n",
    "# coef1 = 1\n",
    "# coef2 = 4\n",
    "# coef3 = 0.001\n",
    "coefs = [coef1] * len(stats1) + [coef2] * len(stats2) + [coef3] * len(stats3)\n",
    "coefs = np.array(coefs).reshape((-1, 1))\n",
    "labels = [0] * len(stats1) + [1] * len(stats2) + [2] * len(stats3)\n",
    "\n",
    "model.fit((data * coefs), labels)\n",
    "\n",
    "print(classification_report(labels, model.predict((data * coefs))))\n",
    "print(accuracy_score(labels, model.predict((data * coefs))))"
   ]
  },
  {
   "cell_type": "markdown",
   "metadata": {},
   "source": [
    "Align D1 and D2"
   ]
  },
  {
   "cell_type": "code",
   "execution_count": 118,
   "metadata": {},
   "outputs": [],
   "source": [
    "a = stats1\n",
    "b = stats2\n",
    "\n",
    "data = np.vstack([a, b])\n",
    "labels = [0] * len(a) + [1] * len(b)\n",
    "grid = np.arange(1, 4, 0.1)\n",
    "\n",
    "res = []\n",
    "for coef in grid:\n",
    "    coefs = [1] * len(a) + [coef] * len(b)\n",
    "    coefs = np.array(coefs).reshape((-1, 1))\n",
    "    model = RandomForestClassifier(n_estimators=100, max_depth=10)\n",
    "    model.fit((data * coefs), labels)\n",
    "    res.append(accuracy_score(labels, model.predict((data * coefs))))"
   ]
  },
  {
   "cell_type": "code",
   "execution_count": 119,
   "metadata": {},
   "outputs": [
    {
     "data": {
      "image/png": "[encoded data removed]",
      "text/plain": [
       "<Figure size 432x288 with 1 Axes>"
      ]
     },
     "metadata": {},
     "output_type": "display_data"
    }
   ],
   "source": [
    "plt.plot(grid, res)\n",
    "plt.show()"
   ]
  },
  {
   "cell_type": "code",
   "execution_count": 120,
   "metadata": {},
   "outputs": [
    {
     "name": "stdout",
     "output_type": "stream",
     "text": [
      "3.0000000000000018\n"
     ]
    }
   ],
   "source": [
    "print(grid[np.argmin(res)])"
   ]
  },
  {
   "cell_type": "markdown",
   "metadata": {},
   "source": [
    "Align D1 and D3"
   ]
  },
  {
   "cell_type": "code",
   "execution_count": 115,
   "metadata": {},
   "outputs": [],
   "source": [
    "a = stats1\n",
    "b = stats3\n",
    "\n",
    "data = np.vstack([a, b])\n",
    "labels = [0] * len(a) + [1] * len(b)\n",
    "grid = np.arange(0.0002, 0.0006, 0.00001)\n",
    "\n",
    "res = []\n",
    "for coef in grid:\n",
    "    coefs = [1] * len(a) + [coef] * len(b)\n",
    "    coefs = np.array(coefs).reshape((-1, 1))\n",
    "    model = RandomForestClassifier(n_estimators=100, max_depth=10)\n",
    "    model.fit((data * coefs), labels)\n",
    "    res.append(accuracy_score(labels, model.predict((data * coefs))))"
   ]
  },
  {
   "cell_type": "code",
   "execution_count": 116,
   "metadata": {},
   "outputs": [
    {
     "data": {
      "image/png": "[encoded data removed]",
      "text/plain": [
       "<Figure size 432x288 with 1 Axes>"
      ]
     },
     "metadata": {},
     "output_type": "display_data"
    }
   ],
   "source": [
    "plt.plot(grid, res)\n",
    "plt.show()"
   ]
  },
  {
   "cell_type": "code",
   "execution_count": 117,
   "metadata": {},
   "outputs": [
    {
     "name": "stdout",
     "output_type": "stream",
     "text": [
      "0.00045\n"
     ]
    }
   ],
   "source": [
    "print(grid[np.argmin(res)])"
   ]
  },
  {
   "cell_type": "code",
   "execution_count": 122,
   "metadata": {},
   "outputs": [
    {
     "name": "stdout",
     "output_type": "stream",
     "text": [
      "             precision    recall  f1-score   support\n",
      "\n",
      "          0       0.71      0.78      0.74     17280\n",
      "          1       0.77      0.34      0.47      5200\n",
      "          2       0.76      0.81      0.79     16101\n",
      "\n",
      "avg / total       0.74      0.74      0.72     38581\n",
      "\n",
      "0.7357248386511496\n"
     ]
    }
   ],
   "source": [
    "model = RandomForestClassifier(n_estimators=100, max_depth=10)\n",
    "\n",
    "data = np.vstack([stats1, stats2, stats3])\n",
    "\n",
    "coef1 = 1\n",
    "coef2 = 3\n",
    "coef3 = 0.00045\n",
    "coefs = [coef1] * len(stats1) + [coef2] * len(stats2) + [coef3] * len(stats3)\n",
    "coefs = np.array(coefs).reshape((-1, 1))\n",
    "labels = [0] * len(stats1) + [1] * len(stats2) + [2] * len(stats3)\n",
    "\n",
    "model.fit((data * coefs), labels)\n",
    "\n",
    "print(classification_report(labels, model.predict((data * coefs))))\n",
    "print(accuracy_score(labels, model.predict((data * coefs))))"
   ]
  },
  {
   "cell_type": "markdown",
   "metadata": {},
   "source": [
    "Align D2 and D3"
   ]
  },
  {
   "cell_type": "code",
   "execution_count": 111,
   "metadata": {},
   "outputs": [
    {
     "data": {
      "image/png": "[encoded data removed]",
      "text/plain": [
       "<Figure size 432x288 with 1 Axes>"
      ]
     },
     "metadata": {},
     "output_type": "display_data"
    }
   ],
   "source": [
    "a = stats2\n",
    "b = stats3\n",
    "\n",
    "data = np.vstack([a, b])\n",
    "labels = [0] * len(a) + [1] * len(b)\n",
    "grid = np.arange(0.0001, 0.0003, 0.00001)\n",
    "\n",
    "res = []\n",
    "for coef in grid:\n",
    "    coefs = [1] * len(a) + [coef] * len(b)\n",
    "    coefs = np.array(coefs).reshape((-1, 1))\n",
    "    model = RandomForestClassifier(n_estimators=100, max_depth=10)\n",
    "    model.fit((data * coefs), labels)\n",
    "    res.append(accuracy_score(labels, model.predict((data * coefs))))\n",
    "\n",
    "plt.plot(grid, res)\n",
    "plt.show()"
   ]
  },
  {
   "cell_type": "code",
   "execution_count": 113,
   "metadata": {},
   "outputs": [
    {
     "name": "stdout",
     "output_type": "stream",
     "text": [
      "0.00017\n"
     ]
    }
   ],
   "source": [
    "print(grid[np.argmin(res)])"
   ]
  },
  {
   "cell_type": "code",
   "execution_count": 123,
   "metadata": {},
   "outputs": [
    {
     "data": {
      "text/plain": [
       "0.00015"
      ]
     },
     "execution_count": 123,
     "metadata": {},
     "output_type": "execute_result"
    }
   ],
   "source": [
    "0.00045 / 3"
   ]
  }
 ],
 "metadata": {
  "kernelspec": {
   "display_name": "Python 3",
   "language": "python",
   "name": "python3"
  },
  "language_info": {
   "codemirror_mode": {
    "name": "ipython",
    "version": 3
   },
   "file_extension": ".py",
   "mimetype": "text/x-python",
   "name": "python",
   "nbconvert_exporter": "python",
   "pygments_lexer": "ipython3",
   "version": "3.5.2"
  }
 },
 "nbformat": 4,
 "nbformat_minor": 2
}
