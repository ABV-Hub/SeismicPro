{
 "cells": [
  {
   "cell_type": "code",
   "execution_count": 1,
   "metadata": {},
   "outputs": [
    {
     "name": "stdout",
     "output_type": "stream",
     "text": [
      "env: CUDA_VISIBLE_DEVICES=2\n"
     ]
    }
   ],
   "source": [
    "import os\n",
    "import sys\n",
    "import numpy as np\n",
    "import matplotlib.pyplot as plt\n",
    "import tensorflow as tf\n",
    "\n",
    "sys.path.append('..')\n",
    "\n",
    "from geolog.batchflow import Dataset, DatasetIndex, Pipeline, B, V, F\n",
    "from geolog.batchflow.models.tf import UNet\n",
    "\n",
    "from geolog.src import (SeismicBatch, FieldIndex, TraceIndex,\n",
    "                        seismic_plot, spectrum_plot, merge_segy_files)\n",
    "\n",
    "%env CUDA_VISIBLE_DEVICES=2\n",
    "\n",
    "\n",
    "path_raw = '/notebooks/egor/noise_data/DN02A_LIFT_AMPSCAL.sgy'\n",
    "path_lift = '../../noise_data/DN02B_SHOTS_LIFT1.sgy'\n",
    "\n",
    "index = (FieldIndex(name='raw', extra_headers=['offset'], path=path_raw)\n",
    "         .merge(FieldIndex(name='lift', path=path_lift)))"
   ]
  },
  {
   "cell_type": "code",
   "execution_count": 2,
   "metadata": {},
   "outputs": [],
   "source": [
    "model_config = {\n",
    "    'initial_block/inputs': 'x',\n",
    "    'inputs': dict(x={'shape': (3000, 1)}, \n",
    "                   y={'name':'targets', 'shape': (3000, 1)}),\n",
    "    'body/filters': C('filters'),\n",
    "    'body/encoder': dict(layout='caca', kernel_size=7, activation=tf.nn.elu),\n",
    "    'body/downsample': dict(layout='pd', pool_size=2, pool_strides=2, dropout_rate=0.05),\n",
    "    'body/decoder': dict(layout='caca', kernel_size=7, activation=tf.nn.elu),\n",
    "    'body/upsample': dict(layout='tad', kernel_size=7, strides=2,\n",
    "                          dropout_rate=0.05, activation=tf.nn.elu),\n",
    "    'loss':'l1',\n",
    "    'optimizer': 'Adam'\n",
    "}"
   ]
  },
  {
   "cell_type": "code",
   "execution_count": null,
   "metadata": {},
   "outputs": [],
   "source": [
    "train_index = index.create_subset(index.indices[:5])\n",
    "train_set = Dataset(TraceIndex(train_index), SeismicBatch)\n",
    "test_set = Dataset(TraceIndex(index.create_subset(index.indices[20:21])), SeismicBatch)"
   ]
  },
  {
   "cell_type": "code",
   "execution_count": null,
   "metadata": {},
   "outputs": [],
   "source": [
    "def make_data(batch, **kwagrs):\n",
    "    return {\"feed_dict\": {'x': np.expand_dims(np.vstack(batch.raw), -1),\n",
    "                          'y': np.expand_dims(np.vstack(batch.lift), -1)}}\n",
    "B_SIZE = 1000\n",
    "train_pipeline = (Pipeline()\n",
    "                  .load(components=('raw', 'lift'), fmt='segy', tslice=np.arange(3000))\n",
    "                  .init_variable('loss', init_on_each_run=list)\n",
    "                  .init_model('dynamic', UNet, 'unet', model_config)\n",
    "                  .train_model('unet', make_data=make_data,\n",
    "                               fetches='loss', save_to=V('loss'), mode='a')\n",
    "                  .run(B_SIZE, n_epochs=None, drop_last=True, lazy=True)\n",
    "                 ) << train_set\n",
    "\n",
    "test_pipeline = (Pipeline()\n",
    "                    .import_model('unet', C('import_from'))\n",
    "                    .init_variable('res', init_on_each_run=list())\n",
    "                    .init_variable('raw', init_on_each_run=list())\n",
    "                    .init_variable('lift', init_on_each_run=list())\n",
    "                    .load(components=('raw', 'lift'), tslice=np.arange(3000), fmt='segy')\n",
    "                    .update_variable('raw', B('raw'), mode='a')\n",
    "                    .update_variable('lift', B('lift'), mode='a')\n",
    "                    .predict_model('unet', fetches='predictions', make_data=make_data,\n",
    "                                   save_to=V('res'), mode='a')\n",
    "                    .run(B_SIZE, n_epochs=1, drop_last=True, lazy=True)\n",
    "                   ) << test_set"
   ]
  },
  {
   "cell_type": "code",
   "execution_count": null,
   "metadata": {},
   "outputs": [],
   "source": [
    "def get_mape(iteration, experiment, pipeline):\n",
    "    \"\"\" Calculate mean absolute percentage error.\"\"\"\n",
    "    _ = iteration\n",
    "    pipeline = experiment[pipeline].pipeline\n",
    "    y_pred = np.array(pipeline.get_variable('predictions')).reshape(-1)\n",
    "    y_true = np.array(pipeline.get_variable('targets')).reshape(-1)\n",
    "    return np.mean(np.abs(y_true-y_pred)/y_true)"
   ]
  },
  {
   "cell_type": "code",
   "execution_count": null,
   "metadata": {},
   "outputs": [],
   "source": [
    "opts = Option('filters', [[8, 16, 32, 64, 128],\n",
    "                          [4, 8, 16, 32, 64],\n",
    "                          [16, 32, 64, 128, 256]])\n",
    "research = (Research()\n",
    "            .pipeline(train_pipeline, variables='loss', name='train')\n",
    "            .pipeline(test_pipeline, name='test', execute='%5',\n",
    "                      run=True, import_from='train')\n",
    "            .grid(opts)\n",
    "            .function(get_mape, returns='metrics', name='mape',\n",
    "                      execute='%5', pipeline='test')\n",
    "            .function(save_model, execute=-1, pipeline='train',\n",
    "                      model_name='model', path='saved_models/')\n",
    ")"
   ]
  },
  {
   "cell_type": "code",
   "execution_count": null,
   "metadata": {},
   "outputs": [],
   "source": [
    "NUM_REPEAT = 3\n",
    "NUM_ITERS = 1000\n",
    "research_name = 'reserach_filter'"
   ]
  },
  {
   "cell_type": "code",
   "execution_count": null,
   "metadata": {},
   "outputs": [],
   "source": [
    "research.run(n_reps=NUM_REPEAT, n_iters=NUM_ITERS, name=research_name, progress_bar=True)"
   ]
  }
 ],
 "metadata": {
  "kernelspec": {
   "display_name": "Python 3",
   "language": "python",
   "name": "python3"
  },
  "language_info": {
   "codemirror_mode": {
    "name": "ipython",
    "version": 3
   },
   "file_extension": ".py",
   "mimetype": "text/x-python",
   "name": "python",
   "nbconvert_exporter": "python",
   "pygments_lexer": "ipython3",
   "version": "3.6.6"
  }
 },
 "nbformat": 4,
 "nbformat_minor": 2
}
